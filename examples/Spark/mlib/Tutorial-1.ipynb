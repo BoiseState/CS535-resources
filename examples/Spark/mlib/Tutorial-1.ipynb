{
 "cells": [
  {
   "cell_type": "code",
   "execution_count": 1,
   "id": "645ccc71-8b8d-4ef0-badd-1dbf691318dd",
   "metadata": {},
   "outputs": [],
   "source": [
    "import findspark"
   ]
  },
  {
   "cell_type": "code",
   "execution_count": 2,
   "id": "1682e15e-0c2d-468a-b8ea-e6b98d8e4804",
   "metadata": {},
   "outputs": [],
   "source": [
    "import pyspark"
   ]
  },
  {
   "cell_type": "code",
   "execution_count": 3,
   "id": "f32581f8-db49-4ec6-ab9c-f11306395b15",
   "metadata": {},
   "outputs": [],
   "source": [
    "from pyspark.sql import SparkSession"
   ]
  },
  {
   "cell_type": "code",
   "execution_count": 7,
   "id": "eba4fc8a-0828-4265-9902-01020524cfef",
   "metadata": {},
   "outputs": [],
   "source": [
    "spark = SparkSession.builder.master('local[*]').appName(\"Tutorial-1\").getOrCreate()"
   ]
  },
  {
   "cell_type": "code",
   "execution_count": 8,
   "id": "e62b27db-71c3-43fb-bd60-d6ea307fc64a",
   "metadata": {},
   "outputs": [],
   "source": [
    "import os"
   ]
  },
  {
   "cell_type": "code",
   "execution_count": 10,
   "id": "ebba754a-1c39-4a3d-9323-88b0f4caa41a",
   "metadata": {},
   "outputs": [],
   "source": [
    "os.chdir('/home/amit/Documents/CS535-resources/examples/Spark/wordcount/')"
   ]
  },
  {
   "cell_type": "code",
   "execution_count": 11,
   "id": "a4ba5b21-0880-4ccf-9170-7223c6d2f25b",
   "metadata": {},
   "outputs": [
    {
     "data": {
      "text/plain": [
       "'/home/amit/Documents/CS535-resources/examples/Spark/wordcount'"
      ]
     },
     "execution_count": 11,
     "metadata": {},
     "output_type": "execute_result"
    }
   ],
   "source": [
    "os.getcwd()"
   ]
  },
  {
   "cell_type": "code",
   "execution_count": null,
   "id": "b707c0de-88e8-4164-bb60-179b3c9755f7",
   "metadata": {},
   "outputs": [],
   "source": [
    "data = spark.read.text("
   ]
  }
 ],
 "metadata": {
  "kernelspec": {
   "display_name": "Python 3 (ipykernel)",
   "language": "python",
   "name": "python3"
  },
  "language_info": {
   "codemirror_mode": {
    "name": "ipython",
    "version": 3
   },
   "file_extension": ".py",
   "mimetype": "text/x-python",
   "name": "python",
   "nbconvert_exporter": "python",
   "pygments_lexer": "ipython3",
   "version": "3.10.8"
  }
 },
 "nbformat": 4,
 "nbformat_minor": 5
}
