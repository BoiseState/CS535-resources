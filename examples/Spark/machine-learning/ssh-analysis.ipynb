{
 "cells": [
  {
   "cell_type": "code",
   "execution_count": 1,
   "id": "b42a885e-fdf3-4718-9607-368095f76277",
   "metadata": {},
   "outputs": [
    {
     "name": "stdout",
     "output_type": "stream",
     "text": [
      "Defaulting to user installation because normal site-packages is not writeable\n",
      "Requirement already satisfied: findspark in /home/amit/.local/lib/python3.10/site-packages (2.0.1)\n"
     ]
    }
   ],
   "source": [
    "!pip install findspark"
   ]
  },
  {
   "cell_type": "code",
   "execution_count": 2,
   "id": "e4a5cf11-1511-47ab-90fd-d46e03f2b7d8",
   "metadata": {},
   "outputs": [
    {
     "name": "stdout",
     "output_type": "stream",
     "text": [
      "Defaulting to user installation because normal site-packages is not writeable\n",
      "Requirement already satisfied: pyspark in /home/amit/.local/lib/python3.10/site-packages (3.4.1)\n",
      "Requirement already satisfied: py4j==0.10.9.7 in /home/amit/.local/lib/python3.10/site-packages (from pyspark) (0.10.9.7)\n"
     ]
    }
   ],
   "source": [
    "!pip install pyspark"
   ]
  },
  {
   "cell_type": "code",
   "execution_count": 3,
   "id": "9b87e69c-0548-48f3-bec3-99383f512db7",
   "metadata": {},
   "outputs": [],
   "source": [
    "import findspark"
   ]
  },
  {
   "cell_type": "code",
   "execution_count": 4,
   "id": "a837c890-a2a6-4d16-ba8a-36a455af3f4d",
   "metadata": {},
   "outputs": [],
   "source": [
    "import pyspark"
   ]
  },
  {
   "cell_type": "code",
   "execution_count": 5,
   "id": "2be16ba4-088a-4f5d-90d6-9a19b0168a5e",
   "metadata": {},
   "outputs": [],
   "source": [
    "from pyspark.sql import SparkSession"
   ]
  },
  {
   "cell_type": "code",
   "execution_count": 6,
   "id": "4f00f514-7b3a-4001-a3b5-6601fb4bb9ee",
   "metadata": {},
   "outputs": [
    {
     "name": "stderr",
     "output_type": "stream",
     "text": [
      "Setting default log level to \"WARN\".\n",
      "To adjust logging level use sc.setLogLevel(newLevel). For SparkR, use setLogLevel(newLevel).\n",
      "23/08/02 09:56:13 WARN NativeCodeLoader: Unable to load native-hadoop library for your platform... using builtin-java classes where applicable\n",
      "23/08/02 09:56:13 WARN Utils: Service 'SparkUI' could not bind on port 4040. Attempting port 4041.\n"
     ]
    }
   ],
   "source": [
    "spark = SparkSession.builder.appName(\"SSH experiments\").getOrCreate()"
   ]
  },
  {
   "cell_type": "markdown",
   "id": "2f653d00-2f5b-4928-871d-15949dca2b60",
   "metadata": {},
   "source": [
    "Uncomment the following if using Google colab."
   ]
  },
  {
   "cell_type": "code",
   "execution_count": 7,
   "id": "b2c21a12-b9bd-467d-a32d-6c683fc9c5b5",
   "metadata": {},
   "outputs": [],
   "source": [
    "#from google.colab import files\n",
    "#uploaded = upload()"
   ]
  },
  {
   "cell_type": "code",
   "execution_count": 5,
   "id": "a3a8b9b4-ccdc-4793-aa3b-cef346cd39b7",
   "metadata": {},
   "outputs": [],
   "source": [
    "df = spark.read.options(delimiter=' ').csv('SSH-log.csv',header=True)"
   ]
  },
  {
   "cell_type": "code",
   "execution_count": 6,
   "id": "a4a3b346-cb12-4921-933f-49206b794992",
   "metadata": {},
   "outputs": [
    {
     "name": "stdout",
     "output_type": "stream",
     "text": [
      "+-----+--------+-------+--------------------+--------------+\n",
      "| Date|    Time|   Type|                User|            IP|\n",
      "+-----+--------+-------+--------------------+--------------+\n",
      "|12/10|06:55:46|reverse|ns.marryaldkfaczc...|173.234.31.186|\n",
      "|12/10|06:55:46|Invalid|           webmaster|173.234.31.186|\n",
      "|12/10|06:55:48| Failed|           webmaster|173.234.31.186|\n",
      "|12/10|07:07:38|Invalid|               test9|  52.80.34.196|\n",
      "|12/10|07:07:45| Failed|               test9|  52.80.34.196|\n",
      "+-----+--------+-------+--------------------+--------------+\n",
      "only showing top 5 rows\n",
      "\n"
     ]
    }
   ],
   "source": [
    "df.show(5)"
   ]
  },
  {
   "cell_type": "code",
   "execution_count": 7,
   "id": "f5ca5650-4dc6-4729-9a49-21eefde26321",
   "metadata": {},
   "outputs": [
    {
     "data": {
      "text/plain": [
       "194324"
      ]
     },
     "execution_count": 7,
     "metadata": {},
     "output_type": "execute_result"
    }
   ],
   "source": [
    "df.count()"
   ]
  },
  {
   "cell_type": "code",
   "execution_count": 8,
   "id": "286a1de6-ce48-4179-86d0-4ce615de7679",
   "metadata": {},
   "outputs": [
    {
     "data": {
      "text/plain": [
       "5"
      ]
     },
     "execution_count": 8,
     "metadata": {},
     "output_type": "execute_result"
    }
   ],
   "source": [
    "df.select('Type').distinct().count()"
   ]
  },
  {
   "cell_type": "code",
   "execution_count": 9,
   "id": "6bef3219-37b4-422d-88e2-9915b6450e20",
   "metadata": {},
   "outputs": [
    {
     "data": {
      "text/plain": [
       "2023"
      ]
     },
     "execution_count": 9,
     "metadata": {},
     "output_type": "execute_result"
    }
   ],
   "source": [
    "df.select('User').distinct().count()"
   ]
  },
  {
   "cell_type": "code",
   "execution_count": 10,
   "id": "d6210e39-6269-412b-b57e-10fa7c163d4e",
   "metadata": {},
   "outputs": [
    {
     "data": {
      "text/plain": [
       "1055"
      ]
     },
     "execution_count": 10,
     "metadata": {},
     "output_type": "execute_result"
    }
   ],
   "source": [
    "df.select('IP').distinct().count()"
   ]
  },
  {
   "cell_type": "code",
   "execution_count": 11,
   "id": "e705a232-cc98-4644-bf46-2a6de88b5914",
   "metadata": {},
   "outputs": [
    {
     "name": "stdout",
     "output_type": "stream",
     "text": [
      "+--------+----------+\n",
      "|    Type|user_count|\n",
      "+--------+----------+\n",
      "| reverse|       250|\n",
      "|  Failed|      1733|\n",
      "| Invalid|      1706|\n",
      "| Address|        34|\n",
      "|Accepted|         9|\n",
      "+--------+----------+\n",
      "\n"
     ]
    }
   ],
   "source": [
    "from pyspark.sql.functions import *\n",
    "from pyspark.sql.types import *\n",
    "df.groupBy('Type').agg(countDistinct('User').alias('user_count')).show()"
   ]
  },
  {
   "cell_type": "code",
   "execution_count": 12,
   "id": "b3d4a203-50d9-490e-bb3b-2ce1e19667a0",
   "metadata": {},
   "outputs": [
    {
     "name": "stdout",
     "output_type": "stream",
     "text": [
      "+--------+----------+\n",
      "|    Type|user_count|\n",
      "+--------+----------+\n",
      "|  Failed|      1733|\n",
      "| Invalid|      1706|\n",
      "| reverse|       250|\n",
      "| Address|        34|\n",
      "|Accepted|         9|\n",
      "+--------+----------+\n",
      "\n"
     ]
    }
   ],
   "source": [
    "df.groupBy('Type').agg(countDistinct('User').alias('user_count')).orderBy(desc('user_count')).show()"
   ]
  }
 ],
 "metadata": {
  "kernelspec": {
   "display_name": "Python 3 (ipykernel)",
   "language": "python",
   "name": "python3"
  },
  "language_info": {
   "codemirror_mode": {
    "name": "ipython",
    "version": 3
   },
   "file_extension": ".py",
   "mimetype": "text/x-python",
   "name": "python",
   "nbconvert_exporter": "python",
   "pygments_lexer": "ipython3",
   "version": "3.10.8"
  }
 },
 "nbformat": 4,
 "nbformat_minor": 5
}
