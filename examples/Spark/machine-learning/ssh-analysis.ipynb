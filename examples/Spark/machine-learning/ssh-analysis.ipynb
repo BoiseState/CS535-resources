{
 "cells": [
  {
   "cell_type": "code",
   "execution_count": 1,
   "id": "9b87e69c-0548-48f3-bec3-99383f512db7",
   "metadata": {},
   "outputs": [],
   "source": [
    "import findspark"
   ]
  },
  {
   "cell_type": "code",
   "execution_count": 3,
   "id": "a837c890-a2a6-4d16-ba8a-36a455af3f4d",
   "metadata": {},
   "outputs": [],
   "source": [
    "import pyspark"
   ]
  },
  {
   "cell_type": "code",
   "execution_count": 4,
   "id": "2be16ba4-088a-4f5d-90d6-9a19b0168a5e",
   "metadata": {},
   "outputs": [],
   "source": [
    "from pyspark.sql import SparkSession"
   ]
  },
  {
   "cell_type": "code",
   "execution_count": 5,
   "id": "4f00f514-7b3a-4001-a3b5-6601fb4bb9ee",
   "metadata": {},
   "outputs": [
    {
     "name": "stderr",
     "output_type": "stream",
     "text": [
      "Setting default log level to \"WARN\".\n",
      "To adjust logging level use sc.setLogLevel(newLevel). For SparkR, use setLogLevel(newLevel).\n",
      "23/07/31 17:46:11 WARN NativeCodeLoader: Unable to load native-hadoop library for your platform... using builtin-java classes where applicable\n"
     ]
    }
   ],
   "source": [
    "spark = SparkSession.builder.appName(\"SSH experiments\").getOrCreate()"
   ]
  },
  {
   "cell_type": "code",
   "execution_count": 24,
   "id": "a3a8b9b4-ccdc-4793-aa3b-cef346cd39b7",
   "metadata": {},
   "outputs": [],
   "source": [
    "df = spark.read.options(delimiter=' ').csv('SSH_log.csv',header=True)"
   ]
  },
  {
   "cell_type": "code",
   "execution_count": 25,
   "id": "a4a3b346-cb12-4921-933f-49206b794992",
   "metadata": {},
   "outputs": [
    {
     "name": "stdout",
     "output_type": "stream",
     "text": [
      "+-----+--------+-------+--------------------+--------------+\n",
      "| Date|    Time|   Type|                User|            IP|\n",
      "+-----+--------+-------+--------------------+--------------+\n",
      "|12/10|06:55:46|reverse|ns.marryaldkfaczc...|173.234.31.186|\n",
      "|12/10|06:55:46|Invalid|           webmaster|173.234.31.186|\n",
      "|12/10|06:55:48| Failed|           webmaster|173.234.31.186|\n",
      "|12/10|07:07:38|Invalid|               test9|  52.80.34.196|\n",
      "|12/10|07:07:45| Failed|               test9|  52.80.34.196|\n",
      "+-----+--------+-------+--------------------+--------------+\n",
      "only showing top 5 rows\n",
      "\n"
     ]
    }
   ],
   "source": [
    "df.show(5)"
   ]
  },
  {
   "cell_type": "code",
   "execution_count": 26,
   "id": "f5ca5650-4dc6-4729-9a49-21eefde26321",
   "metadata": {},
   "outputs": [
    {
     "data": {
      "text/plain": [
       "194324"
      ]
     },
     "execution_count": 26,
     "metadata": {},
     "output_type": "execute_result"
    }
   ],
   "source": [
    "df.count()"
   ]
  },
  {
   "cell_type": "code",
   "execution_count": 27,
   "id": "286a1de6-ce48-4179-86d0-4ce615de7679",
   "metadata": {},
   "outputs": [
    {
     "data": {
      "text/plain": [
       "5"
      ]
     },
     "execution_count": 27,
     "metadata": {},
     "output_type": "execute_result"
    }
   ],
   "source": [
    "df.select('Type').distinct().count()"
   ]
  },
  {
   "cell_type": "code",
   "execution_count": 28,
   "id": "6bef3219-37b4-422d-88e2-9915b6450e20",
   "metadata": {},
   "outputs": [
    {
     "data": {
      "text/plain": [
       "2023"
      ]
     },
     "execution_count": 28,
     "metadata": {},
     "output_type": "execute_result"
    }
   ],
   "source": [
    "df.select('User').distinct().count()"
   ]
  },
  {
   "cell_type": "code",
   "execution_count": 29,
   "id": "d6210e39-6269-412b-b57e-10fa7c163d4e",
   "metadata": {},
   "outputs": [
    {
     "data": {
      "text/plain": [
       "1055"
      ]
     },
     "execution_count": 29,
     "metadata": {},
     "output_type": "execute_result"
    }
   ],
   "source": [
    "df.select('IP').distinct().count()"
   ]
  },
  {
   "cell_type": "code",
   "execution_count": 30,
   "id": "e705a232-cc98-4644-bf46-2a6de88b5914",
   "metadata": {},
   "outputs": [
    {
     "name": "stdout",
     "output_type": "stream",
     "text": [
      "+--------+----------+\n",
      "|    Type|user_count|\n",
      "+--------+----------+\n",
      "| reverse|       250|\n",
      "|  Failed|      1733|\n",
      "| Invalid|      1706|\n",
      "| Address|        34|\n",
      "|Accepted|         9|\n",
      "+--------+----------+\n",
      "\n"
     ]
    }
   ],
   "source": [
    "from pyspark.sql.functions import *\n",
    "from pyspark.sql.types import *\n",
    "df.groupBy('Type').agg(countDistinct('User').alias('user_count')).show()"
   ]
  },
  {
   "cell_type": "code",
   "execution_count": 32,
   "id": "b3d4a203-50d9-490e-bb3b-2ce1e19667a0",
   "metadata": {},
   "outputs": [
    {
     "name": "stdout",
     "output_type": "stream",
     "text": [
      "+--------+----------+\n",
      "|    Type|user_count|\n",
      "+--------+----------+\n",
      "|  Failed|      1733|\n",
      "| Invalid|      1706|\n",
      "| reverse|       250|\n",
      "| Address|        34|\n",
      "|Accepted|         9|\n",
      "+--------+----------+\n",
      "\n"
     ]
    }
   ],
   "source": [
    "df.groupBy('Type').agg(countDistinct('User').alias('user_count')).orderBy(desc('user_count')).show()"
   ]
  },
  {
   "cell_type": "code",
   "execution_count": null,
   "id": "1998492c-cdd8-4d46-a932-d55540e92207",
   "metadata": {},
   "outputs": [],
   "source": []
  }
 ],
 "metadata": {
  "kernelspec": {
   "display_name": "Python 3 (ipykernel)",
   "language": "python",
   "name": "python3"
  },
  "language_info": {
   "codemirror_mode": {
    "name": "ipython",
    "version": 3
   },
   "file_extension": ".py",
   "mimetype": "text/x-python",
   "name": "python",
   "nbconvert_exporter": "python",
   "pygments_lexer": "ipython3",
   "version": "3.10.8"
  }
 },
 "nbformat": 4,
 "nbformat_minor": 5
}
