{
 "cells": [
  {
   "cell_type": "code",
   "execution_count": 1,
   "id": "027c6bcc-ddee-4423-bb59-a51f46a94468",
   "metadata": {},
   "outputs": [
    {
     "name": "stdout",
     "output_type": "stream",
     "text": [
      "Defaulting to user installation because normal site-packages is not writeable\n",
      "Requirement already satisfied: findspark in /home/amit/.local/lib/python3.10/site-packages (2.0.1)\n"
     ]
    }
   ],
   "source": [
    "!pip install findspark"
   ]
  },
  {
   "cell_type": "code",
   "execution_count": 2,
   "id": "bd1c1550-490e-4a62-a200-6303d57c0b24",
   "metadata": {},
   "outputs": [
    {
     "name": "stdout",
     "output_type": "stream",
     "text": [
      "Defaulting to user installation because normal site-packages is not writeable\n",
      "Requirement already satisfied: pyspark in /home/amit/.local/lib/python3.10/site-packages (3.4.1)\n",
      "Requirement already satisfied: py4j==0.10.9.7 in /home/amit/.local/lib/python3.10/site-packages (from pyspark) (0.10.9.7)\n"
     ]
    }
   ],
   "source": [
    "!pip install pyspark"
   ]
  },
  {
   "cell_type": "code",
   "execution_count": 3,
   "id": "0c99ab8e-da8f-4f12-bb94-662101cbd2d2",
   "metadata": {},
   "outputs": [],
   "source": [
    "import findspark"
   ]
  },
  {
   "cell_type": "code",
   "execution_count": 4,
   "id": "2b35128a-ce98-4426-bf05-390e64689126",
   "metadata": {},
   "outputs": [],
   "source": [
    "import pyspark"
   ]
  },
  {
   "cell_type": "code",
   "execution_count": 5,
   "id": "857527e7-f4b7-44fb-a01d-279873dc2fde",
   "metadata": {},
   "outputs": [],
   "source": [
    "from pyspark.sql import SparkSession"
   ]
  },
  {
   "cell_type": "code",
   "execution_count": 6,
   "id": "5254bd70-346f-4d72-bd9d-937101761bc7",
   "metadata": {},
   "outputs": [
    {
     "name": "stderr",
     "output_type": "stream",
     "text": [
      "Setting default log level to \"WARN\".\n",
      "To adjust logging level use sc.setLogLevel(newLevel). For SparkR, use setLogLevel(newLevel).\n",
      "23/08/01 19:53:25 WARN NativeCodeLoader: Unable to load native-hadoop library for your platform... using builtin-java classes where applicable\n"
     ]
    }
   ],
   "source": [
    "spark = SparkSession.builder.master('local[*]').appName(\"Tutorial-0\").getOrCreate()"
   ]
  },
  {
   "cell_type": "code",
   "execution_count": 7,
   "id": "370fb948-febc-496a-862b-aaeaa2466e7e",
   "metadata": {},
   "outputs": [],
   "source": [
    "#Use this to connect to local files if you are using Google colab\n",
    "#from google.colab import files\n",
    "#uploaded = files.upload()"
   ]
  },
  {
   "cell_type": "code",
   "execution_count": 8,
   "id": "b65f5b39-014a-42d8-ad8e-996269b59709",
   "metadata": {},
   "outputs": [],
   "source": [
    "logData = spark.read.text('data.txt').cache()"
   ]
  },
  {
   "cell_type": "code",
   "execution_count": 9,
   "id": "e80c5537-3bd0-41da-8050-85b226311e0a",
   "metadata": {},
   "outputs": [],
   "source": [
    "numAs = logData.filter(logData.value.contains('a')).count()"
   ]
  },
  {
   "cell_type": "code",
   "execution_count": 10,
   "id": "578b6ea9-873d-4137-b80c-f366038bcda1",
   "metadata": {},
   "outputs": [],
   "source": [
    "numBs = logData.filter(logData.value.contains('b')).count()"
   ]
  },
  {
   "cell_type": "code",
   "execution_count": 11,
   "id": "0be633fe-a4b4-4ab9-b33f-58f0e827cd84",
   "metadata": {},
   "outputs": [
    {
     "name": "stdout",
     "output_type": "stream",
     "text": [
      "Lines with a: 27, lines with b: 10\n"
     ]
    }
   ],
   "source": [
    "print(\"Lines with a: %i, lines with b: %i\" % (numAs, numBs))"
   ]
  },
  {
   "cell_type": "code",
   "execution_count": 12,
   "id": "0f2be95f-6729-44f4-8081-b0736b844fab",
   "metadata": {},
   "outputs": [],
   "source": [
    "spark.stop()"
   ]
  },
  {
   "cell_type": "code",
   "execution_count": null,
   "id": "2c8cc809-0184-4f32-ba9b-7565d257317f",
   "metadata": {},
   "outputs": [],
   "source": []
  }
 ],
 "metadata": {
  "kernelspec": {
   "display_name": "Python 3 (ipykernel)",
   "language": "python",
   "name": "python3"
  },
  "language_info": {
   "codemirror_mode": {
    "name": "ipython",
    "version": 3
   },
   "file_extension": ".py",
   "mimetype": "text/x-python",
   "name": "python",
   "nbconvert_exporter": "python",
   "pygments_lexer": "ipython3",
   "version": "3.10.8"
  }
 },
 "nbformat": 4,
 "nbformat_minor": 5
}
