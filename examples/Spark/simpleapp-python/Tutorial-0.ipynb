{
 "cells": [
  {
   "cell_type": "code",
   "execution_count": 2,
   "id": "0c99ab8e-da8f-4f12-bb94-662101cbd2d2",
   "metadata": {},
   "outputs": [],
   "source": [
    "import findspark"
   ]
  },
  {
   "cell_type": "code",
   "execution_count": 3,
   "id": "2b35128a-ce98-4426-bf05-390e64689126",
   "metadata": {},
   "outputs": [],
   "source": [
    "import pyspark"
   ]
  },
  {
   "cell_type": "code",
   "execution_count": 4,
   "id": "857527e7-f4b7-44fb-a01d-279873dc2fde",
   "metadata": {},
   "outputs": [],
   "source": [
    "from pyspark.sql import SparkSession"
   ]
  },
  {
   "cell_type": "code",
   "execution_count": 30,
   "id": "5254bd70-346f-4d72-bd9d-937101761bc7",
   "metadata": {},
   "outputs": [
    {
     "name": "stderr",
     "output_type": "stream",
     "text": [
      "23/07/30 21:13:12 WARN Utils: Service 'SparkUI' could not bind on port 4040. Attempting port 4041.\n",
      "23/07/30 21:13:12 WARN Utils: Service 'SparkUI' could not bind on port 4041. Attempting port 4042.\n"
     ]
    }
   ],
   "source": [
    "spark = SparkSession.builder.master('local[*]').appName(\"Tutorial-0\").getOrCreate()"
   ]
  },
  {
   "cell_type": "code",
   "execution_count": 6,
   "id": "bf537794-155b-418e-aca6-8b90ddebbe24",
   "metadata": {},
   "outputs": [],
   "source": [
    "import os"
   ]
  },
  {
   "cell_type": "code",
   "execution_count": 7,
   "id": "0c4eff88-67ac-4407-b035-032de51d79b0",
   "metadata": {},
   "outputs": [],
   "source": [
    "os.chdir('/home/amit/Documents/CS535-resources/examples/Spark/wordcount/')"
   ]
  },
  {
   "cell_type": "code",
   "execution_count": 23,
   "id": "92961135-1020-4a95-8483-83bcd0f3a2cc",
   "metadata": {},
   "outputs": [
    {
     "data": {
      "text/plain": [
       "'/home/amit/Documents/CS535-resources/examples/Spark/simpleapp-python'"
      ]
     },
     "execution_count": 23,
     "metadata": {},
     "output_type": "execute_result"
    }
   ],
   "source": [
    "os.getcwd()"
   ]
  },
  {
   "cell_type": "code",
   "execution_count": 21,
   "id": "14a7cb4b-2327-44fe-803a-349c0b70d0ec",
   "metadata": {},
   "outputs": [],
   "source": [
    "os.chdir('/home/amit/Documents/CS535-resources/examples/Spark/simpleapp-python')"
   ]
  },
  {
   "cell_type": "code",
   "execution_count": 25,
   "id": "b65f5b39-014a-42d8-ad8e-996269b59709",
   "metadata": {},
   "outputs": [],
   "source": [
    "logData = spark.read.text('/home/amit/Documents/CS535-resources/examples/Spark/simpleapp-python').cache()"
   ]
  },
  {
   "cell_type": "code",
   "execution_count": 26,
   "id": "e80c5537-3bd0-41da-8050-85b226311e0a",
   "metadata": {},
   "outputs": [],
   "source": [
    "numAs = logData.filter(logData.value.contains('a')).count()"
   ]
  },
  {
   "cell_type": "code",
   "execution_count": 27,
   "id": "578b6ea9-873d-4137-b80c-f366038bcda1",
   "metadata": {},
   "outputs": [],
   "source": [
    "numBs = logData.filter(logData.value.contains('b')).count()"
   ]
  },
  {
   "cell_type": "code",
   "execution_count": 28,
   "id": "0be633fe-a4b4-4ab9-b33f-58f0e827cd84",
   "metadata": {},
   "outputs": [
    {
     "name": "stdout",
     "output_type": "stream",
     "text": [
      "Lines with a: 17, lines with b: 10\n"
     ]
    }
   ],
   "source": [
    "print(\"Lines with a: %i, lines with b: %i\" % (numAs, numBs))"
   ]
  },
  {
   "cell_type": "code",
   "execution_count": 29,
   "id": "0f2be95f-6729-44f4-8081-b0736b844fab",
   "metadata": {},
   "outputs": [],
   "source": [
    "spark.stop()"
   ]
  },
  {
   "cell_type": "code",
   "execution_count": null,
   "id": "bfa2246b-525b-4564-9e2a-6d7beea50e0b",
   "metadata": {},
   "outputs": [],
   "source": []
  }
 ],
 "metadata": {
  "kernelspec": {
   "display_name": "Python 3 (ipykernel)",
   "language": "python",
   "name": "python3"
  },
  "language_info": {
   "codemirror_mode": {
    "name": "ipython",
    "version": 3
   },
   "file_extension": ".py",
   "mimetype": "text/x-python",
   "name": "python",
   "nbconvert_exporter": "python",
   "pygments_lexer": "ipython3",
   "version": "3.10.8"
  }
 },
 "nbformat": 4,
 "nbformat_minor": 5
}
