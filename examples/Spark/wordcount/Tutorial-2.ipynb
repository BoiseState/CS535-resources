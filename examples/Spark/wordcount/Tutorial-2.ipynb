{
 "cells": [
  {
   "cell_type": "markdown",
   "id": "6e917930-7236-478c-a50b-b88cd4d30fa9",
   "metadata": {},
   "source": [
    "The **wordcount** problem for multiple files using Spark in Python. This also shows how to intreface with Hadoop HDFS."
   ]
  },
  {
   "cell_type": "code",
   "execution_count": 2,
   "id": "645ccc71-8b8d-4ef0-badd-1dbf691318dd",
   "metadata": {},
   "outputs": [],
   "source": [
    "import findspark"
   ]
  },
  {
   "cell_type": "code",
   "execution_count": 3,
   "id": "1682e15e-0c2d-468a-b8ea-e6b98d8e4804",
   "metadata": {},
   "outputs": [],
   "source": [
    "import pyspark"
   ]
  },
  {
   "cell_type": "code",
   "execution_count": 4,
   "id": "f32581f8-db49-4ec6-ab9c-f11306395b15",
   "metadata": {},
   "outputs": [],
   "source": [
    "from pyspark.sql import SparkSession"
   ]
  },
  {
   "cell_type": "code",
   "execution_count": 5,
   "id": "eba4fc8a-0828-4265-9902-01020524cfef",
   "metadata": {},
   "outputs": [
    {
     "name": "stderr",
     "output_type": "stream",
     "text": [
      "Setting default log level to \"WARN\".\n",
      "To adjust logging level use sc.setLogLevel(newLevel). For SparkR, use setLogLevel(newLevel).\n",
      "23/07/31 22:09:01 WARN NativeCodeLoader: Unable to load native-hadoop library for your platform... using builtin-java classes where applicable\n"
     ]
    }
   ],
   "source": [
    "spark = SparkSession.builder.master('local[*]').appName(\"Tutorial-1\").getOrCreate()"
   ]
  },
  {
   "cell_type": "code",
   "execution_count": 6,
   "id": "11671aaf-e83a-4106-9e92-90394bdaaa4d",
   "metadata": {},
   "outputs": [],
   "source": [
    "sc = spark.sparkContext"
   ]
  },
  {
   "cell_type": "code",
   "execution_count": 9,
   "id": "e67e6511-5eb9-434c-96dc-46ae46369a0a",
   "metadata": {},
   "outputs": [],
   "source": [
    "allFiles = sc.textFile('hdfs://localhost:9000/user/amit/input/*.txt')"
   ]
  },
  {
   "cell_type": "code",
   "execution_count": 22,
   "id": "be5fdaa7-9218-4995-bada-cf783cdbcab1",
   "metadata": {},
   "outputs": [],
   "source": [
    "counts = allFiles.flatMap(lambda line:line.split(\" \")).map(lambda word:(word,1)).reduceByKey(lambda x,y: x+y)"
   ]
  },
  {
   "cell_type": "code",
   "execution_count": 11,
   "id": "850cacf6-b7fa-4e96-a26e-f7fae840fb70",
   "metadata": {},
   "outputs": [
    {
     "name": "stderr",
     "output_type": "stream",
     "text": [
      "                                                                                \r"
     ]
    }
   ],
   "source": [
    "counts.saveAsTextFile(\"hdfs://localhost:9000/user/amit/output\")"
   ]
  },
  {
   "cell_type": "code",
   "execution_count": 12,
   "id": "ef32c40d-0d05-4cd3-97f4-472b6c897f88",
   "metadata": {},
   "outputs": [
    {
     "name": "stderr",
     "output_type": "stream",
     "text": [
      "                                                                                \r"
     ]
    }
   ],
   "source": [
    "counts.saveAsTextFile(\"results\") #saves as a folder "
   ]
  },
  {
   "cell_type": "markdown",
   "id": "92f766cb-9c86-48c0-8c3d-0144838d6f5a",
   "metadata": {},
   "source": [
    "We only take the first 10 as the whole list is very long."
   ]
  },
  {
   "attachments": {},
   "cell_type": "markdown",
   "id": "f35db0f3-3e3d-4214-918e-ee4f5bba1955",
   "metadata": {},
   "source": [
    "output = counts.take(10);"
   ]
  },
  {
   "cell_type": "code",
   "execution_count": 24,
   "id": "898c26ed-37c7-4d02-8634-dc3398e533a4",
   "metadata": {},
   "outputs": [
    {
     "name": "stdout",
     "output_type": "stream",
     "text": [
      "is 29562\n",
      "edition 154\n",
      " 840321\n",
      "Post 19\n",
      "ftp 14\n",
      "newsletters. 9\n",
      "tell 1125\n",
      "sued 12\n",
      "other 3758\n",
      "So, 124\n"
     ]
    }
   ],
   "source": [
    "for (word, count) in output:\n",
    "    print('%s %i' % (word, count))"
   ]
  },
  {
   "cell_type": "code",
   "execution_count": 23,
   "id": "22b8246a-9d79-4edc-a107-0cb2ed97eef7",
   "metadata": {},
   "outputs": [],
   "source": [
    "spark.stop()"
   ]
  }
 ],
 "metadata": {
  "kernelspec": {
   "display_name": "Python 3 (ipykernel)",
   "language": "python",
   "name": "python3"
  },
  "language_info": {
   "codemirror_mode": {
    "name": "ipython",
    "version": 3
   },
   "file_extension": ".py",
   "mimetype": "text/x-python",
   "name": "python",
   "nbconvert_exporter": "python",
   "pygments_lexer": "ipython3",
   "version": "3.10.8"
  }
 },
 "nbformat": 4,
 "nbformat_minor": 5
}
