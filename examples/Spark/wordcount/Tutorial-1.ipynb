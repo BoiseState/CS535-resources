{
 "cells": [
  {
   "cell_type": "markdown",
   "id": "c3ca6096-cb38-44bc-af79-be89757c8b2e",
   "metadata": {},
   "source": [
    "The **wordcount** problem for a single file using Spark in Python. This also show how to intreface with Hadoop HDFS."
   ]
  },
  {
   "cell_type": "code",
   "execution_count": 1,
   "id": "645ccc71-8b8d-4ef0-badd-1dbf691318dd",
   "metadata": {},
   "outputs": [],
   "source": [
    "import findspark"
   ]
  },
  {
   "cell_type": "code",
   "execution_count": 2,
   "id": "1682e15e-0c2d-468a-b8ea-e6b98d8e4804",
   "metadata": {},
   "outputs": [],
   "source": [
    "import pyspark"
   ]
  },
  {
   "cell_type": "code",
   "execution_count": 3,
   "id": "f32581f8-db49-4ec6-ab9c-f11306395b15",
   "metadata": {},
   "outputs": [],
   "source": [
    "from pyspark.sql import SparkSession"
   ]
  },
  {
   "cell_type": "code",
   "execution_count": 4,
   "id": "eba4fc8a-0828-4265-9902-01020524cfef",
   "metadata": {},
   "outputs": [
    {
     "name": "stderr",
     "output_type": "stream",
     "text": [
      "Setting default log level to \"WARN\".\n",
      "To adjust logging level use sc.setLogLevel(newLevel). For SparkR, use setLogLevel(newLevel).\n",
      "23/07/30 22:32:23 WARN NativeCodeLoader: Unable to load native-hadoop library for your platform... using builtin-java classes where applicable\n"
     ]
    }
   ],
   "source": [
    "spark = SparkSession.builder.master('local[*]').appName(\"Tutorial-1\").getOrCreate()"
   ]
  },
  {
   "cell_type": "code",
   "execution_count": 5,
   "id": "11671aaf-e83a-4106-9e92-90394bdaaa4d",
   "metadata": {},
   "outputs": [],
   "source": [
    "sc = spark.sparkContext"
   ]
  },
  {
   "cell_type": "code",
   "execution_count": 6,
   "id": "810bed0d-b9d4-46b4-ac1b-0bfcac516228",
   "metadata": {},
   "outputs": [],
   "source": [
    "textfile = sc.textFile('test-data.txt')"
   ]
  },
  {
   "cell_type": "code",
   "execution_count": 7,
   "id": "be5fdaa7-9218-4995-bada-cf783cdbcab1",
   "metadata": {},
   "outputs": [],
   "source": [
    "counts = textfile.flatMap(lambda line:line.split(\" \")).map(lambda word:(word,1)).reduceByKey(lambda x,y: x+y)"
   ]
  },
  {
   "cell_type": "code",
   "execution_count": 8,
   "id": "3816d907-9ee9-43fe-9fed-6bdb05ffe0af",
   "metadata": {},
   "outputs": [
    {
     "name": "stderr",
     "output_type": "stream",
     "text": [
      "                                                                                \r"
     ]
    }
   ],
   "source": [
    "output = counts.collect()"
   ]
  },
  {
   "cell_type": "code",
   "execution_count": 9,
   "id": "898c26ed-37c7-4d02-8634-dc3398e533a4",
   "metadata": {},
   "outputs": [
    {
     "name": "stdout",
     "output_type": "stream",
     "text": [
      "mi 1\n",
      "and 3\n",
      "or 2\n",
      "ha 4\n",
      "tu 2\n",
      "you 3\n"
     ]
    }
   ],
   "source": [
    "for (word, count) in output:\n",
    "    print('%s %i' % (word, count))"
   ]
  },
  {
   "cell_type": "code",
   "execution_count": 10,
   "id": "22b8246a-9d79-4edc-a107-0cb2ed97eef7",
   "metadata": {},
   "outputs": [],
   "source": [
    "spark.stop()"
   ]
  }
 ],
 "metadata": {
  "kernelspec": {
   "display_name": "Python 3 (ipykernel)",
   "language": "python",
   "name": "python3"
  },
  "language_info": {
   "codemirror_mode": {
    "name": "ipython",
    "version": 3
   },
   "file_extension": ".py",
   "mimetype": "text/x-python",
   "name": "python",
   "nbconvert_exporter": "python",
   "pygments_lexer": "ipython3",
   "version": "3.10.8"
  }
 },
 "nbformat": 4,
 "nbformat_minor": 5
}
