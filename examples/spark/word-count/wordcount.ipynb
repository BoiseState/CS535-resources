{
 "cells": [
  {
   "cell_type": "markdown",
   "id": "6e917930-7236-478c-a50b-b88cd4d30fa9",
   "metadata": {
    "id": "6e917930-7236-478c-a50b-b88cd4d30fa9"
   },
   "source": [
    "The **wordcount** problem for multiple files using Spark in Python. This also shows how to interface with Hadoop HDFS."
   ]
  },
  {
   "cell_type": "code",
   "execution_count": 1,
   "id": "trDy_pxozT4w",
   "metadata": {
    "colab": {
     "base_uri": "https://localhost:8080/"
    },
    "id": "trDy_pxozT4w",
    "outputId": "72679b5e-a43e-4289-98ad-9a079a026bf3"
   },
   "outputs": [
    {
     "name": "stdout",
     "output_type": "stream",
     "text": [
      "Defaulting to user installation because normal site-packages is not writeable\n",
      "Requirement already satisfied: findspark in /home/amit/.local/lib/python3.10/site-packages (2.0.1)\n"
     ]
    }
   ],
   "source": [
    "!pip install findspark"
   ]
  },
  {
   "cell_type": "code",
   "execution_count": 2,
   "id": "15YQ_R2zzXu6",
   "metadata": {
    "colab": {
     "base_uri": "https://localhost:8080/"
    },
    "id": "15YQ_R2zzXu6",
    "outputId": "cf943398-f1c0-4613-b930-f1df0ef23e4f"
   },
   "outputs": [
    {
     "name": "stdout",
     "output_type": "stream",
     "text": [
      "Defaulting to user installation because normal site-packages is not writeable\n",
      "Requirement already satisfied: pyspark in /home/amit/.local/lib/python3.10/site-packages (3.4.1)\n",
      "Requirement already satisfied: py4j==0.10.9.7 in /home/amit/.local/lib/python3.10/site-packages (from pyspark) (0.10.9.7)\n"
     ]
    }
   ],
   "source": [
    "!pip install pyspark"
   ]
  },
  {
   "cell_type": "code",
   "execution_count": 3,
   "id": "645ccc71-8b8d-4ef0-badd-1dbf691318dd",
   "metadata": {
    "id": "645ccc71-8b8d-4ef0-badd-1dbf691318dd"
   },
   "outputs": [],
   "source": [
    "import findspark"
   ]
  },
  {
   "cell_type": "code",
   "execution_count": 4,
   "id": "1682e15e-0c2d-468a-b8ea-e6b98d8e4804",
   "metadata": {
    "id": "1682e15e-0c2d-468a-b8ea-e6b98d8e4804"
   },
   "outputs": [],
   "source": [
    "import pyspark"
   ]
  },
  {
   "cell_type": "code",
   "execution_count": 5,
   "id": "f32581f8-db49-4ec6-ab9c-f11306395b15",
   "metadata": {
    "id": "f32581f8-db49-4ec6-ab9c-f11306395b15"
   },
   "outputs": [],
   "source": [
    "from pyspark.sql import SparkSession"
   ]
  },
  {
   "cell_type": "code",
   "execution_count": 6,
   "id": "eba4fc8a-0828-4265-9902-01020524cfef",
   "metadata": {
    "id": "eba4fc8a-0828-4265-9902-01020524cfef"
   },
   "outputs": [
    {
     "name": "stderr",
     "output_type": "stream",
     "text": [
      "Setting default log level to \"WARN\".\n",
      "To adjust logging level use sc.setLogLevel(newLevel). For SparkR, use setLogLevel(newLevel).\n",
      "23/08/02 09:40:39 WARN NativeCodeLoader: Unable to load native-hadoop library for your platform... using builtin-java classes where applicable\n"
     ]
    }
   ],
   "source": [
    "spark = SparkSession.builder.master('local[*]').appName(\"Tutorial-1\").getOrCreate()"
   ]
  },
  {
   "cell_type": "code",
   "execution_count": 7,
   "id": "11671aaf-e83a-4106-9e92-90394bdaaa4d",
   "metadata": {
    "id": "11671aaf-e83a-4106-9e92-90394bdaaa4d"
   },
   "outputs": [],
   "source": [
    "sc = spark.sparkContext"
   ]
  },
  {
   "cell_type": "markdown",
   "id": "f174a325-728d-4910-b19f-e70a6cdb2d0f",
   "metadata": {},
   "source": [
    "We only need the following five steps if we are running on Google colab. Uncomment these lines on Google colab."
   ]
  },
  {
   "cell_type": "code",
   "execution_count": 8,
   "id": "Dp6d9v38z2qF",
   "metadata": {
    "id": "Dp6d9v38z2qF"
   },
   "outputs": [],
   "source": [
    "#from google.colab import files"
   ]
  },
  {
   "cell_type": "code",
   "execution_count": 9,
   "id": "LwkVjQxA0BSr",
   "metadata": {
    "colab": {
     "base_uri": "https://localhost:8080/",
     "height": 530
    },
    "id": "LwkVjQxA0BSr",
    "outputId": "cbbe2ce9-038a-4ebc-b455-46513eae9a0d"
   },
   "outputs": [],
   "source": [
    "#uploaded = files.upload()"
   ]
  },
  {
   "cell_type": "code",
   "execution_count": 10,
   "id": "fnBr_ISb26tZ",
   "metadata": {
    "id": "fnBr_ISb26tZ"
   },
   "outputs": [],
   "source": [
    "#%mkdir input"
   ]
  },
  {
   "cell_type": "code",
   "execution_count": 11,
   "id": "yXltme9R3FkB",
   "metadata": {
    "id": "yXltme9R3FkB"
   },
   "outputs": [],
   "source": [
    "#%mv *.txt input"
   ]
  },
  {
   "cell_type": "code",
   "execution_count": 12,
   "id": "6dXOIj1v3OnZ",
   "metadata": {
    "colab": {
     "base_uri": "https://localhost:8080/"
    },
    "id": "6dXOIj1v3OnZ",
    "outputId": "fbef188e-cb2b-49e8-9d11-9beceb68d3ac"
   },
   "outputs": [],
   "source": [
    "#%ls"
   ]
  },
  {
   "cell_type": "code",
   "execution_count": 13,
   "id": "e67e6511-5eb9-434c-96dc-46ae46369a0a",
   "metadata": {
    "id": "e67e6511-5eb9-434c-96dc-46ae46369a0a"
   },
   "outputs": [],
   "source": [
    "#allFiles = sc.textFile('hdfs://localhost:9000/user/amit/input/*.txt')\n",
    "allFiles = sc.textFile('input/*.txt')"
   ]
  },
  {
   "cell_type": "code",
   "execution_count": 14,
   "id": "be5fdaa7-9218-4995-bada-cf783cdbcab1",
   "metadata": {
    "id": "be5fdaa7-9218-4995-bada-cf783cdbcab1"
   },
   "outputs": [],
   "source": [
    "counts = allFiles.flatMap(lambda line:line.split(\" \")).map(lambda word:(word,1)).reduceByKey(lambda x,y: x+y)"
   ]
  },
  {
   "cell_type": "code",
   "execution_count": 15,
   "id": "850cacf6-b7fa-4e96-a26e-f7fae840fb70",
   "metadata": {
    "id": "850cacf6-b7fa-4e96-a26e-f7fae840fb70"
   },
   "outputs": [],
   "source": [
    "#counts.saveAsTextFile(\"hdfs://localhost:9000/user/amit/output\")"
   ]
  },
  {
   "cell_type": "markdown",
   "id": "2bLn0OEx3r-Y",
   "metadata": {
    "id": "2bLn0OEx3r-Y"
   },
   "source": [
    "Remove the results folder before saving new results."
   ]
  },
  {
   "cell_type": "code",
   "execution_count": 16,
   "id": "ef32c40d-0d05-4cd3-97f4-472b6c897f88",
   "metadata": {
    "id": "ef32c40d-0d05-4cd3-97f4-472b6c897f88"
   },
   "outputs": [],
   "source": [
    "%rm -fr results\n"
   ]
  },
  {
   "cell_type": "code",
   "execution_count": 17,
   "id": "aA_tjSfZ3y6y",
   "metadata": {
    "id": "aA_tjSfZ3y6y"
   },
   "outputs": [
    {
     "name": "stderr",
     "output_type": "stream",
     "text": [
      "                                                                                \r"
     ]
    }
   ],
   "source": [
    "counts.saveAsTextFile(\"results\") #saves as a folder"
   ]
  },
  {
   "cell_type": "markdown",
   "id": "92f766cb-9c86-48c0-8c3d-0144838d6f5a",
   "metadata": {
    "id": "92f766cb-9c86-48c0-8c3d-0144838d6f5a"
   },
   "source": [
    "We only take the first 10 as the whole list is very long."
   ]
  },
  {
   "cell_type": "code",
   "execution_count": 18,
   "id": "MZcjxa79027P",
   "metadata": {
    "id": "MZcjxa79027P"
   },
   "outputs": [],
   "source": [
    "output = counts.take(10)"
   ]
  },
  {
   "cell_type": "code",
   "execution_count": 19,
   "id": "898c26ed-37c7-4d02-8634-dc3398e533a4",
   "metadata": {
    "colab": {
     "base_uri": "https://localhost:8080/"
    },
    "id": "898c26ed-37c7-4d02-8634-dc3398e533a4",
    "outputId": "52490b2b-1df1-458e-8896-1968809c3d2e"
   },
   "outputs": [
    {
     "name": "stdout",
     "output_type": "stream",
     "text": [
      "is 29562\n",
      "edition 154\n",
      " 840321\n",
      "Post 19\n",
      "ftp 14\n",
      "newsletters. 9\n",
      "tell 1125\n",
      "sued 12\n",
      "other 3758\n",
      "So, 124\n"
     ]
    }
   ],
   "source": [
    "for (word, count) in output:\n",
    "    print('%s %i' % (word, count))"
   ]
  }
 ],
 "metadata": {
  "colab": {
   "provenance": []
  },
  "kernelspec": {
   "display_name": "Python 3 (ipykernel)",
   "language": "python",
   "name": "python3"
  },
  "language_info": {
   "codemirror_mode": {
    "name": "ipython",
    "version": 3
   },
   "file_extension": ".py",
   "mimetype": "text/x-python",
   "name": "python",
   "nbconvert_exporter": "python",
   "pygments_lexer": "ipython3",
   "version": "3.10.8"
  }
 },
 "nbformat": 4,
 "nbformat_minor": 5
}
