{
 "cells": [
  {
   "cell_type": "code",
   "execution_count": 1,
   "id": "e82e21ed-5ae2-4805-8a4c-25b86690706d",
   "metadata": {},
   "outputs": [],
   "source": [
    "import findspark"
   ]
  },
  {
   "cell_type": "code",
   "execution_count": 2,
   "id": "329dcf77-62b1-4140-86e2-12c6a48bcf52",
   "metadata": {},
   "outputs": [],
   "source": [
    "import pyspark"
   ]
  },
  {
   "cell_type": "code",
   "execution_count": 3,
   "id": "58e258b1-ebb8-481f-8ba1-5f7f0ba0fefa",
   "metadata": {},
   "outputs": [],
   "source": [
    "from pyspark.sql import SparkSession"
   ]
  },
  {
   "cell_type": "code",
   "execution_count": 4,
   "id": "63d4c58d-a6d7-4a82-9acc-bb208b2c80fe",
   "metadata": {},
   "outputs": [
    {
     "name": "stderr",
     "output_type": "stream",
     "text": [
      "Setting default log level to \"WARN\".\n",
      "To adjust logging level use sc.setLogLevel(newLevel). For SparkR, use setLogLevel(newLevel).\n",
      "23/11/07 12:52:30 WARN NativeCodeLoader: Unable to load native-hadoop library for your platform... using builtin-java classes where applicable\n"
     ]
    }
   ],
   "source": [
    "spark = SparkSession.builder.master('local[*]').appName(\"case-analysis\").getOrCreate()"
   ]
  },
  {
   "cell_type": "code",
   "execution_count": 5,
   "id": "ede75c69-08a5-4535-bfa7-b29a8dbaf083",
   "metadata": {},
   "outputs": [],
   "source": [
    "sc = spark.sparkContext"
   ]
  },
  {
   "cell_type": "code",
   "execution_count": 6,
   "id": "e655202f-8c71-41c8-b6ec-1cc041d16449",
   "metadata": {},
   "outputs": [],
   "source": [
    "rdd1 = sc.wholeTextFiles('input/')"
   ]
  },
  {
   "cell_type": "code",
   "execution_count": 7,
   "id": "21ec86b2-e21e-4833-8ed3-a06ee8cfafe9",
   "metadata": {},
   "outputs": [],
   "source": [
    "rdd2 = rdd1.flatMap(lambda data: data[1].split())"
   ]
  },
  {
   "cell_type": "code",
   "execution_count": 8,
   "id": "e938809d-6851-49b1-86dd-5aa6968cee39",
   "metadata": {},
   "outputs": [],
   "source": [
    "rdd3 = rdd2.flatMap(lambda x: [(y, 1) if y.isupper()==True else (y.upper(), 0) for y in x] )"
   ]
  },
  {
   "cell_type": "code",
   "execution_count": 9,
   "id": "6e7aa609-4ba0-4198-b08c-6c2e2eed2518",
   "metadata": {},
   "outputs": [],
   "source": [
    "rdd4 = rdd3.groupByKey().mapValues(lambda x: sum(x)/len(x)*100)"
   ]
  },
  {
   "cell_type": "code",
   "execution_count": 10,
   "id": "fbaceea3-fc1e-41aa-aedb-732fd24f7c9a",
   "metadata": {},
   "outputs": [
    {
     "name": "stderr",
     "output_type": "stream",
     "text": [
      "                                                                                \r"
     ]
    },
    {
     "data": {
      "text/plain": [
       "[('*', 0.0),\n",
       " ('S', 6.620205104339881),\n",
       " ('R', 5.022510794909124),\n",
       " ('O', 4.348211464202308),\n",
       " ('J', 43.52827050997783),\n",
       " ('C', 10.947358244799934),\n",
       " ('N', 4.243773435111228),\n",
       " ('L', 6.586602814678136),\n",
       " ('W', 10.011602850986243),\n",
       " ('9', 0.0),\n",
       " ('.', 0.0),\n",
       " ('8', 0.0),\n",
       " ('1', 0.0),\n",
       " ('0', 0.0),\n",
       " ('[', 0.0),\n",
       " ('=', 0.0),\n",
       " ('!', 0.0),\n",
       " ('\"', 0.0),\n",
       " ('>', 0.0),\n",
       " ('K', 11.393050981119822),\n",
       " ('?', 0.0),\n",
       " ('_', 0.0),\n",
       " ('4', 0.0),\n",
       " ('`', 0.0),\n",
       " (';', 0.0),\n",
       " ('#', 0.0),\n",
       " ('|', 0.0),\n",
       " ('}', 0.0),\n",
       " ('$', 0.0),\n",
       " ('\\x03', 0.0),\n",
       " ('^', 0.0),\n",
       " ('T', 6.470922489278492),\n",
       " ('H', 4.782071425224021),\n",
       " ('I', 9.06233080183717),\n",
       " ('E', 3.621529308261848),\n",
       " ('P', 11.218383271550577),\n",
       " ('G', 9.300093567157527),\n",
       " ('U', 4.697496584864527),\n",
       " ('B', 14.520714130513507),\n",
       " ('X', 6.517201669785519),\n",
       " ('F', 7.010568852968604),\n",
       " ('A', 7.810193018569011),\n",
       " ('D', 4.693907965402851),\n",
       " ('2', 0.0),\n",
       " ('Z', 12.117958037336859),\n",
       " ('Y', 4.985227915031448),\n",
       " ('M', 9.88608671011618),\n",
       " (',', 0.0),\n",
       " ('(', 0.0),\n",
       " (')', 0.0),\n",
       " ('V', 7.009261622059773),\n",
       " ('3', 0.0),\n",
       " (']', 0.0),\n",
       " ('/', 0.0),\n",
       " (':', 0.0),\n",
       " ('5', 0.0),\n",
       " ('7', 0.0),\n",
       " ('6', 0.0),\n",
       " ('-', 0.0),\n",
       " ('Q', 13.631905851585485),\n",
       " ('@', 0.0),\n",
       " (\"'\", 0.0),\n",
       " ('~', 0.0),\n",
       " ('%', 0.0),\n",
       " ('\\x1a', 0.0),\n",
       " ('<', 0.0),\n",
       " ('&', 0.0),\n",
       " ('+', 0.0),\n",
       " ('{', 0.0),\n",
       " ('\\\\', 0.0)]"
      ]
     },
     "execution_count": 10,
     "metadata": {},
     "output_type": "execute_result"
    }
   ],
   "source": [
    "rdd4.collect()"
   ]
  },
  {
   "cell_type": "code",
   "execution_count": 11,
   "id": "d20b70ea-1f32-47cb-8920-121cae81bb8b",
   "metadata": {},
   "outputs": [],
   "source": [
    "rdd5 = rdd4.filter(lambda x: x[0].isalpha()) "
   ]
  },
  {
   "cell_type": "code",
   "execution_count": 12,
   "id": "da269975-536e-4276-9130-779cb3ee156b",
   "metadata": {},
   "outputs": [
    {
     "data": {
      "text/plain": [
       "[('A', 7.810193018569011),\n",
       " ('B', 14.520714130513507),\n",
       " ('C', 10.947358244799934),\n",
       " ('D', 4.693907965402851),\n",
       " ('E', 3.621529308261848),\n",
       " ('F', 7.010568852968604),\n",
       " ('G', 9.300093567157527),\n",
       " ('H', 4.782071425224021),\n",
       " ('I', 9.06233080183717),\n",
       " ('J', 43.52827050997783),\n",
       " ('K', 11.393050981119822),\n",
       " ('L', 6.586602814678136),\n",
       " ('M', 9.88608671011618),\n",
       " ('N', 4.243773435111228),\n",
       " ('O', 4.348211464202308),\n",
       " ('P', 11.218383271550577),\n",
       " ('Q', 13.631905851585485),\n",
       " ('R', 5.022510794909124),\n",
       " ('S', 6.620205104339881),\n",
       " ('T', 6.470922489278492),\n",
       " ('U', 4.697496584864527),\n",
       " ('V', 7.009261622059773),\n",
       " ('W', 10.011602850986243),\n",
       " ('X', 6.517201669785519),\n",
       " ('Y', 4.985227915031448),\n",
       " ('Z', 12.117958037336859)]"
      ]
     },
     "execution_count": 12,
     "metadata": {},
     "output_type": "execute_result"
    }
   ],
   "source": [
    "rdd5.sortByKey().collect()"
   ]
  },
  {
   "cell_type": "code",
   "execution_count": null,
   "id": "b692e2a9-5dca-43cf-bc4b-de9a01307a6c",
   "metadata": {},
   "outputs": [],
   "source": []
  }
 ],
 "metadata": {
  "kernelspec": {
   "display_name": "Python 3 (ipykernel)",
   "language": "python",
   "name": "python3"
  },
  "language_info": {
   "codemirror_mode": {
    "name": "ipython",
    "version": 3
   },
   "file_extension": ".py",
   "mimetype": "text/x-python",
   "name": "python",
   "nbconvert_exporter": "python",
   "pygments_lexer": "ipython3",
   "version": "3.10.8"
  }
 },
 "nbformat": 4,
 "nbformat_minor": 5
}
