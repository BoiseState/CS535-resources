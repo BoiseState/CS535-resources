{
 "cells": [
  {
   "cell_type": "markdown",
   "id": "0958d013-c430-4b42-a58c-b79ecde711be",
   "metadata": {},
   "source": [
    "# Word count using Data Frames"
   ]
  },
  {
   "cell_type": "code",
   "execution_count": 14,
   "id": "e6b6ceee-6702-4e82-ad65-4319d780772a",
   "metadata": {},
   "outputs": [],
   "source": [
    "from pyspark.sql import SparkSession, Row\n",
    "from pyspark.sql.functions import *"
   ]
  },
  {
   "cell_type": "code",
   "execution_count": 15,
   "id": "0c219e72-6dba-4bfd-8b83-a35ff3dc456a",
   "metadata": {},
   "outputs": [],
   "source": [
    "spark = (SparkSession\n",
    "        .builder\n",
    "        .appName(\"Word Count\")\n",
    "        .getOrCreate())"
   ]
  },
  {
   "cell_type": "code",
   "execution_count": 26,
   "id": "b5f41fc9-3de1-4d56-bb22-60646f7ffa62",
   "metadata": {},
   "outputs": [],
   "source": [
    "lines = spark.read.text(\"../word-count/input/*.txt\")"
   ]
  },
  {
   "cell_type": "code",
   "execution_count": 27,
   "id": "ab430c17-e33f-4f3f-b9b0-38878953856c",
   "metadata": {},
   "outputs": [
    {
     "name": "stdout",
     "output_type": "stream",
     "text": [
      "root\n",
      " |-- value: string (nullable = true)\n",
      "\n"
     ]
    }
   ],
   "source": [
    "lines.printSchema()"
   ]
  },
  {
   "cell_type": "code",
   "execution_count": 28,
   "id": "4d9a2c89-2248-417e-aa4e-a1057d2114fd",
   "metadata": {},
   "outputs": [],
   "source": [
    "words = lines.withColumn(\"words\", explode(split(trim(col(\"value\")), \" \")))"
   ]
  },
  {
   "cell_type": "code",
   "execution_count": 29,
   "id": "2a409d15-eb5e-4a37-bbae-816c6818db03",
   "metadata": {},
   "outputs": [
    {
     "name": "stdout",
     "output_type": "stream",
     "text": [
      "+--------------------+---------------+\n",
      "|               value|          words|\n",
      "+--------------------+---------------+\n",
      "|                    |               |\n",
      "|***The Project Gu...|         ***The|\n",
      "|***The Project Gu...|        Project|\n",
      "|***The Project Gu...|      Gutenberg|\n",
      "|***The Project Gu...|          Etext|\n",
      "|***The Project Gu...|             of|\n",
      "|***The Project Gu...|            The|\n",
      "|***The Project Gu...|      Gutenberg|\n",
      "|***The Project Gu...|Encyclopedia***|\n",
      "|!!!Remember. . .t...|   !!!Remember.|\n",
      "|!!!Remember. . .t...|              .|\n",
      "|!!!Remember. . .t...|           .the|\n",
      "|!!!Remember. . .t...|    information|\n",
      "|!!!Remember. . .t...|      contained|\n",
      "|!!!Remember. . .t...|         herein|\n",
      "|!!!Remember. . .t...|             is|\n",
      "|!!!Remember. . .t...|           OLD.|\n",
      "|!!!Remember. . .t...|              .|\n",
      "|!!!Remember. . .t...|           .!!!|\n",
      "|*!!!It reflects t...|         *!!!It|\n",
      "|*!!!It reflects t...|       reflects|\n",
      "|*!!!It reflects t...|            the|\n",
      "|*!!!It reflects t...|        mindset|\n",
      "|*!!!It reflects t...|             of|\n",
      "|*!!!It reflects t...|            the|\n",
      "|*!!!It reflects t...|           turn|\n",
      "|*!!!It reflects t...|             of|\n",
      "|*!!!It reflects t...|            the|\n",
      "|*!!!It reflects t...|           last|\n",
      "|*!!!It reflects t...|    century!!!*|\n",
      "|                    |               |\n",
      "|**Welcome To The ...|      **Welcome|\n",
      "|**Welcome To The ...|             To|\n",
      "|**Welcome To The ...|            The|\n",
      "|**Welcome To The ...|          World|\n",
      "|**Welcome To The ...|             of|\n",
      "|**Welcome To The ...|           Free|\n",
      "|**Welcome To The ...|          Plain|\n",
      "|**Welcome To The ...|        Vanilla|\n",
      "|**Welcome To The ...|     Electronic|\n",
      "|**Welcome To The ...|        Texts**|\n",
      "|                    |               |\n",
      "|**Etexts Readable...|       **Etexts|\n",
      "|**Etexts Readable...|       Readable|\n",
      "|**Etexts Readable...|             By|\n",
      "|**Etexts Readable...|           Both|\n",
      "|**Etexts Readable...|         Humans|\n",
      "|**Etexts Readable...|            and|\n",
      "|**Etexts Readable...|             By|\n",
      "|**Etexts Readable...|     Computers,|\n",
      "|**Etexts Readable...|          Since|\n",
      "|**Etexts Readable...|         1971**|\n",
      "|                    |               |\n",
      "|*These Etexts Pre...|         *These|\n",
      "|*These Etexts Pre...|         Etexts|\n",
      "|*These Etexts Pre...|       Prepared|\n",
      "|*These Etexts Pre...|             By|\n",
      "|*These Etexts Pre...|       Hundreds|\n",
      "|*These Etexts Pre...|             of|\n",
      "|*These Etexts Pre...|     Volunteers|\n",
      "|*These Etexts Pre...|            and|\n",
      "|*These Etexts Pre...|     Donations*|\n",
      "|                    |               |\n",
      "|Information on co...|    Information|\n",
      "|Information on co...|             on|\n",
      "|Information on co...|     contacting|\n",
      "|Information on co...|        Project|\n",
      "|Information on co...|      Gutenberg|\n",
      "|Information on co...|             to|\n",
      "|Information on co...|            get|\n",
      "|Information on co...|        Etexts,|\n",
      "|Information on co...|            and|\n",
      "|further informati...|        further|\n",
      "|further informati...|    information|\n",
      "|further informati...|             is|\n",
      "|further informati...|       included|\n",
      "|further informati...|         below.|\n",
      "|further informati...|               |\n",
      "|further informati...|             We|\n",
      "|further informati...|           need|\n",
      "|further informati...|           your|\n",
      "|further informati...|     donations.|\n",
      "|                    |               |\n",
      "|***The Project Gu...|         ***The|\n",
      "|***The Project Gu...|        Project|\n",
      "|***The Project Gu...|      Gutenberg|\n",
      "|***The Project Gu...|          Etext|\n",
      "|***The Project Gu...|             of|\n",
      "|***The Project Gu...|            The|\n",
      "|***The Project Gu...|      Gutenberg|\n",
      "|***The Project Gu...|Encyclopedia***|\n",
      "|                    |               |\n",
      "|Volume 1   Also h...|         Volume|\n",
      "|Volume 1   Also h...|              1|\n",
      "|Volume 1   Also h...|               |\n",
      "|Volume 1   Also h...|               |\n",
      "|Volume 1   Also h...|           Also|\n",
      "|Volume 1   Also h...|         having|\n",
      "|Volume 1   Also h...|           been|\n",
      "|Volume 1   Also h...|          known|\n",
      "+--------------------+---------------+\n",
      "only showing top 100 rows\n",
      "\n"
     ]
    }
   ],
   "source": [
    "words.show(100)"
   ]
  },
  {
   "cell_type": "code",
   "execution_count": 30,
   "id": "1fe20896-3416-42b1-b719-45b31260dc6d",
   "metadata": {},
   "outputs": [],
   "source": [
    "wordcounts = words.groupBy(\"words\").count()"
   ]
  },
  {
   "cell_type": "code",
   "execution_count": 31,
   "id": "f9cba3ad-2e48-4fc5-8df9-f8ec958f2edb",
   "metadata": {},
   "outputs": [
    {
     "name": "stdout",
     "output_type": "stream",
     "text": [
      "root\n",
      " |-- words: string (nullable = false)\n",
      " |-- count: long (nullable = false)\n",
      "\n"
     ]
    }
   ],
   "source": [
    "wordcounts.printSchema()"
   ]
  },
  {
   "cell_type": "code",
   "execution_count": 32,
   "id": "45ef59f3-f618-49e2-a8dc-c1349e137681",
   "metadata": {},
   "outputs": [
    {
     "name": "stdout",
     "output_type": "stream",
     "text": [
      "+---------+-----+\n",
      "|    words|count|\n",
      "+---------+-----+\n",
      "|       By| 1279|\n",
      "|   Volume|   13|\n",
      "|    still| 1617|\n",
      "|    those| 2165|\n",
      "|     some| 3835|\n",
      "|     cit.|   20|\n",
      "|   waters|  132|\n",
      "|  reddish|   21|\n",
      "|      art|  982|\n",
      "|connected|  262|\n",
      "+---------+-----+\n",
      "only showing top 10 rows\n",
      "\n"
     ]
    }
   ],
   "source": [
    "wordcounts.show(10)"
   ]
  },
  {
   "cell_type": "code",
   "execution_count": 33,
   "id": "f8a1e9cb-e6f9-4c37-898d-fdcf4c90e792",
   "metadata": {},
   "outputs": [
    {
     "name": "stdout",
     "output_type": "stream",
     "text": [
      "+-----+------+\n",
      "|words| count|\n",
      "+-----+------+\n",
      "|  the|178944|\n",
      "|     |175257|\n",
      "|   of|114801|\n",
      "|  and| 82425|\n",
      "|   to| 63000|\n",
      "|   in| 55577|\n",
      "|    a| 54487|\n",
      "|   is| 29562|\n",
      "|  was| 26047|\n",
      "|    I| 24753|\n",
      "+-----+------+\n",
      "only showing top 10 rows\n",
      "\n"
     ]
    }
   ],
   "source": [
    "wordcounts.sort(col(\"count\"), ascending=False).show(10)"
   ]
  },
  {
   "cell_type": "code",
   "execution_count": 34,
   "id": "fd4c9b1d-f25f-43df-b35d-c87b8c279a91",
   "metadata": {},
   "outputs": [
    {
     "name": "stdout",
     "output_type": "stream",
     "text": [
      "+------+-----+\n",
      "| words|count|\n",
      "+------+-----+\n",
      "|Rabbit|   29|\n",
      "+------+-----+\n",
      "\n"
     ]
    }
   ],
   "source": [
    "wordcounts.filter(col(\"words\") == \"Rabbit\").show(10)"
   ]
  },
  {
   "cell_type": "raw",
   "id": "953164cf-d5c6-44c7-926e-d4f224f17f6d",
   "metadata": {},
   "source": [
    "spark.stop()"
   ]
  }
 ],
 "metadata": {
  "kernelspec": {
   "display_name": "Python 3 (ipykernel)",
   "language": "python",
   "name": "python3"
  },
  "language_info": {
   "codemirror_mode": {
    "name": "ipython",
    "version": 3
   },
   "file_extension": ".py",
   "mimetype": "text/x-python",
   "name": "python",
   "nbconvert_exporter": "python",
   "pygments_lexer": "ipython3",
   "version": "3.10.8"
  }
 },
 "nbformat": 4,
 "nbformat_minor": 5
}
