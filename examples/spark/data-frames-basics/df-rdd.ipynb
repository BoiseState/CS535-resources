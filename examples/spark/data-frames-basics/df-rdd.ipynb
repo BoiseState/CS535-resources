{
 "cells": [
  {
   "cell_type": "markdown",
   "id": "0958d013-c430-4b42-a58c-b79ecde711be",
   "metadata": {},
   "source": [
    "# Data Frames to/from RDDs"
   ]
  },
  {
   "cell_type": "code",
   "execution_count": 1,
   "id": "e6b6ceee-6702-4e82-ad65-4319d780772a",
   "metadata": {},
   "outputs": [],
   "source": [
    "from pyspark.sql import SparkSession, Row\n",
    "from pyspark.sql.functions import *"
   ]
  },
  {
   "cell_type": "code",
   "execution_count": 2,
   "id": "0c219e72-6dba-4bfd-8b83-a35ff3dc456a",
   "metadata": {},
   "outputs": [
    {
     "name": "stderr",
     "output_type": "stream",
     "text": [
      "Setting default log level to \"WARN\".\n",
      "To adjust logging level use sc.setLogLevel(newLevel). For SparkR, use setLogLevel(newLevel).\n",
      "23/11/16 12:10:28 WARN NativeCodeLoader: Unable to load native-hadoop library for your platform... using builtin-java classes where applicable\n"
     ]
    }
   ],
   "source": [
    "spark = (SparkSession\n",
    "        .builder\n",
    "        .appName(\"Word Count\")\n",
    "        .getOrCreate())"
   ]
  },
  {
   "cell_type": "code",
   "execution_count": 3,
   "id": "b5f41fc9-3de1-4d56-bb22-60646f7ffa62",
   "metadata": {},
   "outputs": [],
   "source": [
    "lines = spark.read.text(\"../word-count/input/*.txt\")"
   ]
  },
  {
   "cell_type": "code",
   "execution_count": 4,
   "id": "ab430c17-e33f-4f3f-b9b0-38878953856c",
   "metadata": {},
   "outputs": [
    {
     "name": "stdout",
     "output_type": "stream",
     "text": [
      "root\n",
      " |-- value: string (nullable = true)\n",
      "\n"
     ]
    }
   ],
   "source": [
    "lines.printSchema()"
   ]
  },
  {
   "cell_type": "code",
   "execution_count": 5,
   "id": "4d9a2c89-2248-417e-aa4e-a1057d2114fd",
   "metadata": {},
   "outputs": [],
   "source": [
    "words = lines.withColumn(\"words\", explode(split(trim(col(\"value\")), \" \")))"
   ]
  },
  {
   "cell_type": "code",
   "execution_count": 6,
   "id": "2a409d15-eb5e-4a37-bbae-816c6818db03",
   "metadata": {},
   "outputs": [
    {
     "name": "stdout",
     "output_type": "stream",
     "text": [
      "+--------------------+------+\n",
      "|               value| words|\n",
      "+--------------------+------+\n",
      "|                    |      |\n",
      "|***The Project Gu...|***The|\n",
      "+--------------------+------+\n",
      "only showing top 2 rows\n",
      "\n"
     ]
    }
   ],
   "source": [
    "words.show(2)"
   ]
  },
  {
   "cell_type": "code",
   "execution_count": 7,
   "id": "1fe20896-3416-42b1-b719-45b31260dc6d",
   "metadata": {},
   "outputs": [],
   "source": [
    "wordcounts = words.groupBy(\"words\").count()"
   ]
  },
  {
   "cell_type": "code",
   "execution_count": 8,
   "id": "29b646d3-910e-4502-a434-9cf90964871e",
   "metadata": {},
   "outputs": [
    {
     "name": "stderr",
     "output_type": "stream",
     "text": [
      "[Stage 1:============================================>              (3 + 1) / 4]\r"
     ]
    }
   ],
   "source": [
    "rdd1 = wordcounts.rdd"
   ]
  },
  {
   "cell_type": "code",
   "execution_count": 9,
   "id": "ef2ae411-ae49-456a-84e3-67e5b9d9f79f",
   "metadata": {},
   "outputs": [
    {
     "name": "stderr",
     "output_type": "stream",
     "text": [
      "                                                                                \r"
     ]
    }
   ],
   "source": [
    "result = rdd1.take(10)"
   ]
  },
  {
   "cell_type": "code",
   "execution_count": 10,
   "id": "472ac1d3-0d37-4322-a685-f312f7762697",
   "metadata": {},
   "outputs": [
    {
     "name": "stdout",
     "output_type": "stream",
     "text": [
      "[Row(words='By', count=1279), Row(words='Volume', count=13), Row(words='still', count=1617), Row(words='those', count=2165), Row(words='some', count=3835), Row(words='cit.', count=20), Row(words='waters', count=132), Row(words='reddish', count=21), Row(words='art', count=982), Row(words='connected', count=262)]\n"
     ]
    }
   ],
   "source": [
    "print(result)"
   ]
  },
  {
   "cell_type": "code",
   "execution_count": 11,
   "id": "75859f41-219f-43a1-917a-c040e831827b",
   "metadata": {},
   "outputs": [],
   "source": [
    "rdd2 = wordcounts.rdd.map(tuple)"
   ]
  },
  {
   "cell_type": "code",
   "execution_count": 12,
   "id": "d5101042-b1a9-47b7-9680-2affe318b30e",
   "metadata": {},
   "outputs": [],
   "source": [
    "result = rdd2.take(10)"
   ]
  },
  {
   "cell_type": "code",
   "execution_count": 13,
   "id": "2e86b3fb-f0fe-4026-a4fd-aa3520907c73",
   "metadata": {},
   "outputs": [
    {
     "name": "stdout",
     "output_type": "stream",
     "text": [
      "[('By', 1279), ('Volume', 13), ('still', 1617), ('those', 2165), ('some', 3835), ('cit.', 20), ('waters', 132), ('reddish', 21), ('art', 982), ('connected', 262)]\n"
     ]
    }
   ],
   "source": [
    "print(result)"
   ]
  },
  {
   "cell_type": "code",
   "execution_count": 14,
   "id": "e7f54463-d1a3-4c44-9567-59b0cfb81c53",
   "metadata": {},
   "outputs": [],
   "source": [
    "rdd3 = wordcounts.rdd.map(list)"
   ]
  },
  {
   "cell_type": "code",
   "execution_count": 15,
   "id": "8a1e88bd-35f2-4a8c-a904-935ff7ea5069",
   "metadata": {},
   "outputs": [],
   "source": [
    "result = rdd3.take(10)"
   ]
  },
  {
   "cell_type": "code",
   "execution_count": 26,
   "id": "b3b92a01-d099-418d-8149-57c061bf49c9",
   "metadata": {},
   "outputs": [
    {
     "name": "stdout",
     "output_type": "stream",
     "text": [
      "[['By', 1279], ['Volume', 13], ['still', 1617], ['those', 2165], ['some', 3835], ['cit.', 20], ['waters', 132], ['reddish', 21], ['art', 982], ['connected', 262]]\n"
     ]
    }
   ],
   "source": [
    "print(result)"
   ]
  },
  {
   "cell_type": "markdown",
   "id": "81979efe-385c-49af-83c0-ab4172b26013",
   "metadata": {},
   "source": [
    "We can also convert into a simple RDD (although that isn't useful in this example)"
   ]
  },
  {
   "cell_type": "code",
   "execution_count": 16,
   "id": "2bbbae85-58fb-4fca-9201-bfeb52680789",
   "metadata": {},
   "outputs": [],
   "source": [
    "rdd4 = wordcounts.rdd.flatMap(list)"
   ]
  },
  {
   "cell_type": "code",
   "execution_count": 17,
   "id": "c1c19730-c104-4f72-9521-eabd0788bd0b",
   "metadata": {},
   "outputs": [],
   "source": [
    "result = rdd4.take(10)"
   ]
  },
  {
   "cell_type": "code",
   "execution_count": 29,
   "id": "507b5c9b-9eaa-4d37-bc2f-1047a28bc376",
   "metadata": {},
   "outputs": [
    {
     "name": "stdout",
     "output_type": "stream",
     "text": [
      "['By', 1279, 'Volume', 13, 'still', 1617, 'those', 2165, 'some', 3835]\n"
     ]
    }
   ],
   "source": [
    "print(result)"
   ]
  },
  {
   "cell_type": "markdown",
   "id": "a242e489-33cd-4bc9-80b5-5868d6a75294",
   "metadata": {},
   "source": [
    "We can also create a DataFrame from RDD using either .toDF (schema is inferred)\n",
    "or use createDataFrame method from the spark context."
   ]
  },
  {
   "cell_type": "code",
   "execution_count": 18,
   "id": "affcdb1c-0101-4995-b28c-490a1b302687",
   "metadata": {},
   "outputs": [],
   "source": [
    "newDF = spark.createDataFrame(rdd1)"
   ]
  },
  {
   "cell_type": "code",
   "execution_count": 19,
   "id": "211fd82b-a2bf-4c2f-94b8-a776c2ce9ef8",
   "metadata": {},
   "outputs": [],
   "source": [
    "result = newDF.take(10)"
   ]
  },
  {
   "cell_type": "code",
   "execution_count": 20,
   "id": "d23fa122-a809-47d9-8956-633d11fa2e47",
   "metadata": {},
   "outputs": [
    {
     "name": "stdout",
     "output_type": "stream",
     "text": [
      "[Row(words='By', count=1279), Row(words='Volume', count=13), Row(words='still', count=1617), Row(words='those', count=2165), Row(words='some', count=3835), Row(words='cit.', count=20), Row(words='waters', count=132), Row(words='reddish', count=21), Row(words='art', count=982), Row(words='connected', count=262)]\n"
     ]
    }
   ],
   "source": [
    "print(result)"
   ]
  },
  {
   "cell_type": "code",
   "execution_count": 21,
   "id": "9f6f94d0-ebf3-4098-98d2-c5d6e4e56a8e",
   "metadata": {},
   "outputs": [],
   "source": [
    "spark.stop()"
   ]
  },
  {
   "cell_type": "code",
   "execution_count": null,
   "id": "60bcd5fc-8a44-4d71-b9bf-36488a9e5d55",
   "metadata": {},
   "outputs": [],
   "source": []
  }
 ],
 "metadata": {
  "kernelspec": {
   "display_name": "Python 3 (ipykernel)",
   "language": "python",
   "name": "python3"
  },
  "language_info": {
   "codemirror_mode": {
    "name": "ipython",
    "version": 3
   },
   "file_extension": ".py",
   "mimetype": "text/x-python",
   "name": "python",
   "nbconvert_exporter": "python",
   "pygments_lexer": "ipython3",
   "version": "3.10.8"
  }
 },
 "nbformat": 4,
 "nbformat_minor": 5
}
