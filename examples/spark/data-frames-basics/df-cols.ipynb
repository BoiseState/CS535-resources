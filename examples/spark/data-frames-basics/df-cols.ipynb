{
 "cells": [
  {
   "cell_type": "code",
   "execution_count": 19,
   "id": "38a3d07d-96f6-4f45-9b7b-69af260e3cad",
   "metadata": {},
   "outputs": [],
   "source": [
    "from pyspark.sql.types import *\n",
    "from pyspark.sql import SparkSession\n",
    "from pyspark.sql.functions import *"
   ]
  },
  {
   "cell_type": "code",
   "execution_count": 20,
   "id": "bdc1d4a5-b599-44e5-a5f8-70181b5d052b",
   "metadata": {},
   "outputs": [],
   "source": [
    "# define schema for our data\n",
    "schema = StructType([\n",
    "   StructField(\"Id\", IntegerType(), False),\n",
    "   StructField(\"First\", StringType(), False),\n",
    "   StructField(\"Last\", StringType(), False),\n",
    "   StructField(\"Url\", StringType(), False),\n",
    "   StructField(\"Published\", StringType(), False),\n",
    "   StructField(\"Hits\", IntegerType(), False),\n",
    "   StructField(\"Campaigns\", ArrayType(StringType()), False)])\n"
   ]
  },
  {
   "cell_type": "markdown",
   "id": "0a5c5775-9e79-4ead-a349-923ec8724544",
   "metadata": {},
   "source": [
    "We can also define schema using **Data Definition Language** (DDL) as shown below."
   ]
  },
  {
   "cell_type": "code",
   "execution_count": 21,
   "id": "b4291103-0841-49ed-9834-2589e8ee9c08",
   "metadata": {},
   "outputs": [],
   "source": [
    "schema_DDL = \"`Id` INT, `First` STRING, `Last` STRING, `Url` STRING, \\\n",
    "`Published` STRING, `Hits` INT, `Campaigns` ARRAY<STRING>\""
   ]
  },
  {
   "cell_type": "markdown",
   "id": "b7ab5191-63b7-45ed-b5b1-f64d3dc44cb8",
   "metadata": {},
   "source": [
    "Create sample data."
   ]
  },
  {
   "cell_type": "code",
   "execution_count": 22,
   "id": "92b7f2b7-ed90-4e7a-9fd4-c3bc53ae6a0f",
   "metadata": {},
   "outputs": [],
   "source": [
    "#create ouexpressionsr data\n",
    "data = [[1, \"Jules\", \"Damji\", \"https://tinyurl.1\", \"1/4/2016\", 4535, [\"twitter\", \"LinkedIn\"]],\n",
    "       [2, \"Brooke\",\"Wenig\",\"https://tinyurl.2\", \"5/5/2018\", 8908, [\"twitter\", \"LinkedIn\"]],\n",
    "       [3, \"Denny\", \"Lee\", \"https://tinyurl.3\",\"6/7/2019\",7659, [\"web\", \"twitter\", \"FB\", \"LinkedIn\"]],\n",
    "       [4, \"Tathagata\", \"Das\",\"https://tinyurl.4\", \"5/12/2018\", 10568, [\"twitter\", \"FB\"]],\n",
    "       [5, \"Matei\",\"Zaharia\", \"https://tinyurl.5\", \"5/14/2014\", 40578, [\"web\", \"twitter\", \"FB\", \"LinkedIn\"]],\n",
    "       [6, \"Reynold\", \"Xin\", \"https://tinyurl.6\", \"3/2/2015\", 25568, [\"twitter\", \"LinkedIn\"]]\n",
    "      ]"
   ]
  },
  {
   "cell_type": "markdown",
   "id": "74c98185-9b7c-4749-ba0a-6ccb143d0221",
   "metadata": {},
   "source": [
    "Create a Spark Session"
   ]
  },
  {
   "cell_type": "code",
   "execution_count": 23,
   "id": "032d1de8-d97b-4f27-8441-81ed1e86a72c",
   "metadata": {},
   "outputs": [
    {
     "name": "stderr",
     "output_type": "stream",
     "text": [
      "23/11/14 12:14:47 WARN Utils: Service 'SparkUI' could not bind on port 4040. Attempting port 4041.\n",
      "23/11/14 12:14:47 WARN Utils: Service 'SparkUI' could not bind on port 4041. Attempting port 4042.\n",
      "23/11/14 12:14:47 WARN Utils: Service 'SparkUI' could not bind on port 4042. Attempting port 4043.\n"
     ]
    }
   ],
   "source": [
    "spark = (SparkSession\n",
    "       .builder\n",
    "       .appName(\"DF Schema example\")\n",
    "       .getOrCreate())"
   ]
  },
  {
   "cell_type": "markdown",
   "id": "62caaa2d-5670-4256-8801-f263a08b0b9a",
   "metadata": {},
   "source": [
    "Create a DataFrame using the schema defined above\n"
   ]
  },
  {
   "cell_type": "code",
   "execution_count": 24,
   "id": "f686d505-9e17-4244-8e2b-a6989b0cb469",
   "metadata": {},
   "outputs": [],
   "source": [
    "blogs_df = spark.createDataFrame(data, schema_DDL)"
   ]
  },
  {
   "cell_type": "markdown",
   "id": "3a77ff0f-22d2-4116-9c91-3745e77a4cd1",
   "metadata": {},
   "source": [
    "Print the names of all columns"
   ]
  },
  {
   "cell_type": "code",
   "execution_count": 25,
   "id": "e39e4dc4-e2d2-4b3d-8b27-5e7b5362dccf",
   "metadata": {},
   "outputs": [
    {
     "name": "stdout",
     "output_type": "stream",
     "text": [
      "['Id', 'First', 'Last', 'Url', 'Published', 'Hits', 'Campaigns']\n"
     ]
    }
   ],
   "source": [
    "print(blogs_df.columns)"
   ]
  },
  {
   "cell_type": "code",
   "execution_count": 28,
   "id": "7ebcafa3-4b22-4f9a-8231-62cf28dd15a4",
   "metadata": {},
   "outputs": [
    {
     "name": "stdout",
     "output_type": "stream",
     "text": [
      "ArrayType(StringType(), True)\n"
     ]
    }
   ],
   "source": [
    "print(blogs_df.schema[\"Campaigns\"].dataType)"
   ]
  },
  {
   "cell_type": "code",
   "execution_count": 31,
   "id": "f1f2b703-d521-4b1b-a8c6-b33360bd5b4e",
   "metadata": {},
   "outputs": [
    {
     "name": "stdout",
     "output_type": "stream",
     "text": [
      "+----------+\n",
      "|(Hits * 2)|\n",
      "+----------+\n",
      "|      9070|\n",
      "|     17816|\n",
      "+----------+\n",
      "only showing top 2 rows\n",
      "\n"
     ]
    }
   ],
   "source": [
    "blogs_df.select(expr(\"Hits * 2\")).show(2)"
   ]
  },
  {
   "cell_type": "code",
   "execution_count": 34,
   "id": "3dea4cf6-ee53-498e-ad34-4969f843f538",
   "metadata": {},
   "outputs": [
    {
     "name": "stdout",
     "output_type": "stream",
     "text": [
      "+----------+\n",
      "|(Hits * 2)|\n",
      "+----------+\n",
      "|      9070|\n",
      "|     17816|\n",
      "+----------+\n",
      "only showing top 2 rows\n",
      "\n"
     ]
    }
   ],
   "source": [
    "blogs_df.select(col(\"Hits\") * 2).show(2)"
   ]
  },
  {
   "cell_type": "markdown",
   "id": "98a886b7-19ef-4d5f-be08-c0e4b75d405b",
   "metadata": {},
   "source": [
    "## Use an expression to compute big hitters for blog. This adds a new column\n",
    "based on the conditional expression."
   ]
  },
  {
   "cell_type": "code",
   "execution_count": 36,
   "id": "7344e040-843e-4faf-86a9-020845b74f78",
   "metadata": {},
   "outputs": [
    {
     "name": "stdout",
     "output_type": "stream",
     "text": [
      "+---+---------+-------+-----------------+---------+-----+--------------------+-----------+\n",
      "| Id|    First|   Last|              Url|Published| Hits|           Campaigns|Big Hitters|\n",
      "+---+---------+-------+-----------------+---------+-----+--------------------+-----------+\n",
      "|  1|    Jules|  Damji|https://tinyurl.1| 1/4/2016| 4535| [twitter, LinkedIn]|      false|\n",
      "|  2|   Brooke|  Wenig|https://tinyurl.2| 5/5/2018| 8908| [twitter, LinkedIn]|       true|\n",
      "|  3|    Denny|    Lee|https://tinyurl.3| 6/7/2019| 7659|[web, twitter, FB...|       true|\n",
      "|  4|Tathagata|    Das|https://tinyurl.4|5/12/2018|10568|       [twitter, FB]|       true|\n",
      "|  5|    Matei|Zaharia|https://tinyurl.5|5/14/2014|40578|[web, twitter, FB...|       true|\n",
      "|  6|  Reynold|    Xin|https://tinyurl.6| 3/2/2015|25568| [twitter, LinkedIn]|       true|\n",
      "+---+---------+-------+-----------------+---------+-----+--------------------+-----------+\n",
      "\n"
     ]
    }
   ],
   "source": [
    "blogs_df.withColumn(\"Big Hitters\", (expr(\"Hits > 5000\"))).show()"
   ]
  },
  {
   "cell_type": "markdown",
   "id": "756535e5-dfb2-4ef3-b51c-ec07fda38519",
   "metadata": {},
   "source": [
    "Concatenate three columns, create a new column, and show the four rows of the newly created column. To see all columns, skip the optional #rows in show()."
   ]
  },
  {
   "cell_type": "code",
   "execution_count": 38,
   "id": "f236062e-aed4-413c-bda6-c673117f9f12",
   "metadata": {},
   "outputs": [
    {
     "name": "stdout",
     "output_type": "stream",
     "text": [
      "+-------------+\n",
      "|    AuthorsId|\n",
      "+-------------+\n",
      "|  JulesDamji1|\n",
      "| BrookeWenig2|\n",
      "|    DennyLee3|\n",
      "|TathagataDas4|\n",
      "|MateiZaharia5|\n",
      "|  ReynoldXin6|\n",
      "+-------------+\n",
      "\n"
     ]
    }
   ],
   "source": [
    "blogs_df.withColumn(\"AuthorsId\", (concat(expr(\"First\"), expr(\"Last\"), expr(\"Id\")))).select(col(\"AuthorsId\")).show()  "
   ]
  },
  {
   "cell_type": "markdown",
   "id": "b7471917-e2be-4b02-9705-8ba1e1bc5984",
   "metadata": {},
   "source": [
    "The next three statements are the same, showing that `expr` and `col` are the same method call."
   ]
  },
  {
   "cell_type": "code",
   "execution_count": 39,
   "id": "98810ad5-d36f-4501-81d0-27807672e984",
   "metadata": {},
   "outputs": [
    {
     "name": "stdout",
     "output_type": "stream",
     "text": [
      "+----+\n",
      "|Hits|\n",
      "+----+\n",
      "|4535|\n",
      "|8908|\n",
      "+----+\n",
      "only showing top 2 rows\n",
      "\n"
     ]
    }
   ],
   "source": [
    "blogs_df.select(expr(\"Hits\")).show(2)"
   ]
  },
  {
   "cell_type": "code",
   "execution_count": 40,
   "id": "b0508fdd-0028-400f-8872-2fcffcf56348",
   "metadata": {},
   "outputs": [
    {
     "name": "stdout",
     "output_type": "stream",
     "text": [
      "+----+\n",
      "|Hits|\n",
      "+----+\n",
      "|4535|\n",
      "|8908|\n",
      "+----+\n",
      "only showing top 2 rows\n",
      "\n"
     ]
    }
   ],
   "source": [
    "blogs_df.select(col(\"Hits\")).show(2)"
   ]
  },
  {
   "cell_type": "code",
   "execution_count": 41,
   "id": "ad7ba006-01a0-4fc1-b698-76414b037130",
   "metadata": {},
   "outputs": [
    {
     "name": "stdout",
     "output_type": "stream",
     "text": [
      "+----+\n",
      "|Hits|\n",
      "+----+\n",
      "|4535|\n",
      "|8908|\n",
      "+----+\n",
      "only showing top 2 rows\n",
      "\n"
     ]
    }
   ],
   "source": [
    "blogs_df.select(\"Hits\").show(2)"
   ]
  },
  {
   "cell_type": "code",
   "execution_count": 42,
   "id": "d1dffcf3-a6f2-40a6-bab8-c3dd97d5534f",
   "metadata": {},
   "outputs": [
    {
     "name": "stdout",
     "output_type": "stream",
     "text": [
      "+---+---------+-------+-----------------+---------+-----+--------------------+\n",
      "| Id|    First|   Last|              Url|Published| Hits|           Campaigns|\n",
      "+---+---------+-------+-----------------+---------+-----+--------------------+\n",
      "|  6|  Reynold|    Xin|https://tinyurl.6| 3/2/2015|25568| [twitter, LinkedIn]|\n",
      "|  5|    Matei|Zaharia|https://tinyurl.5|5/14/2014|40578|[web, twitter, FB...|\n",
      "|  4|Tathagata|    Das|https://tinyurl.4|5/12/2018|10568|       [twitter, FB]|\n",
      "|  3|    Denny|    Lee|https://tinyurl.3| 6/7/2019| 7659|[web, twitter, FB...|\n",
      "|  2|   Brooke|  Wenig|https://tinyurl.2| 5/5/2018| 8908| [twitter, LinkedIn]|\n",
      "|  1|    Jules|  Damji|https://tinyurl.1| 1/4/2016| 4535| [twitter, LinkedIn]|\n",
      "+---+---------+-------+-----------------+---------+-----+--------------------+\n",
      "\n"
     ]
    }
   ],
   "source": [
    "blogs_df.sort(col(\"Id\").desc()).show()"
   ]
  },
  {
   "cell_type": "code",
   "execution_count": 43,
   "id": "21548baf-99a6-4d94-aef0-b7100d4210c3",
   "metadata": {},
   "outputs": [],
   "source": [
    "spark.stop()"
   ]
  },
  {
   "cell_type": "code",
   "execution_count": null,
   "id": "22958af4-8caa-4dad-ae74-cda2c4284c25",
   "metadata": {},
   "outputs": [],
   "source": []
  }
 ],
 "metadata": {
  "kernelspec": {
   "display_name": "Python 3 (ipykernel)",
   "language": "python",
   "name": "python3"
  },
  "language_info": {
   "codemirror_mode": {
    "name": "ipython",
    "version": 3
   },
   "file_extension": ".py",
   "mimetype": "text/x-python",
   "name": "python",
   "nbconvert_exporter": "python",
   "pygments_lexer": "ipython3",
   "version": "3.10.8"
  }
 },
 "nbformat": 4,
 "nbformat_minor": 5
}
