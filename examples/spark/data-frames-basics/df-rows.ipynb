{
 "cells": [
  {
   "cell_type": "code",
   "execution_count": 24,
   "id": "ce14ac01-a745-42d3-88c0-22cc35a2cc37",
   "metadata": {},
   "outputs": [],
   "source": [
    "from pyspark.sql import SparkSession, Row\n",
    "from pyspark.sql.types import *"
   ]
  },
  {
   "cell_type": "code",
   "execution_count": 25,
   "id": "5ec11715-4be0-4a70-b4d7-dd4a7ec86e1f",
   "metadata": {},
   "outputs": [
    {
     "name": "stderr",
     "output_type": "stream",
     "text": [
      "23/11/14 12:20:37 WARN Utils: Service 'SparkUI' could not bind on port 4040. Attempting port 4041.\n",
      "23/11/14 12:20:37 WARN Utils: Service 'SparkUI' could not bind on port 4041. Attempting port 4042.\n",
      "23/11/14 12:20:37 WARN Utils: Service 'SparkUI' could not bind on port 4042. Attempting port 4043.\n"
     ]
    }
   ],
   "source": [
    "spark = (SparkSession\n",
    "        .builder\n",
    "        .appName(\"Rows example\")\n",
    "        .getOrCreate())\n"
   ]
  },
  {
   "cell_type": "code",
   "execution_count": 26,
   "id": "8d0d3138-df4b-463d-af17-5b73a636dd88",
   "metadata": {},
   "outputs": [],
   "source": [
    " blog_row = Row(6, \"Reynold\", \"Xin\", \"https://tinyurl.6\", 255568, \"3/2/2023\", [\"twitter\", \"LinkedIn\"])"
   ]
  },
  {
   "cell_type": "code",
   "execution_count": 27,
   "id": "b3e70169-2fa5-45b9-a4c5-f4f0b0c9bd7c",
   "metadata": {},
   "outputs": [
    {
     "data": {
      "text/plain": [
       "'Reynold'"
      ]
     },
     "execution_count": 27,
     "metadata": {},
     "output_type": "execute_result"
    }
   ],
   "source": [
    "blog_row[1]"
   ]
  },
  {
   "cell_type": "code",
   "execution_count": 29,
   "id": "3a5352d8-d40c-4b6f-9b5a-e1fd3fa710d1",
   "metadata": {},
   "outputs": [
    {
     "data": {
      "text/plain": [
       "['twitter', 'LinkedIn']"
      ]
     },
     "execution_count": 29,
     "metadata": {},
     "output_type": "execute_result"
    }
   ],
   "source": [
    "blog_row[6]"
   ]
  },
  {
   "cell_type": "code",
   "execution_count": 30,
   "id": "1b66be79-8d66-4578-8c66-02f4370631a8",
   "metadata": {},
   "outputs": [],
   "source": [
    "schema = StructType([\n",
    "        StructField(\"Author\" , StringType(), False), \n",
    "        StructField(\"State\", StringType(), False)])"
   ]
  },
  {
   "cell_type": "code",
   "execution_count": 31,
   "id": "6367cfd3-90c5-4257-aa59-502ac8450ee4",
   "metadata": {},
   "outputs": [],
   "source": [
    "rows = [Row(\"Matei Zaharia\", \"CA\"), Row(\"Reynold Xin\", \"CA\")]"
   ]
  },
  {
   "cell_type": "code",
   "execution_count": 32,
   "id": "f5700f04-d8e2-48a8-8180-9176816cde45",
   "metadata": {},
   "outputs": [],
   "source": [
    "authors_df = spark.createDataFrame(rows, schema)"
   ]
  },
  {
   "cell_type": "code",
   "execution_count": 33,
   "id": "1ec3ffc1-ea12-4e4c-9742-162e6f4f5474",
   "metadata": {},
   "outputs": [
    {
     "name": "stdout",
     "output_type": "stream",
     "text": [
      "+-------------+-----+\n",
      "|       Author|State|\n",
      "+-------------+-----+\n",
      "|Matei Zaharia|   CA|\n",
      "|  Reynold Xin|   CA|\n",
      "+-------------+-----+\n",
      "\n"
     ]
    }
   ],
   "source": [
    "authors_df.show()"
   ]
  },
  {
   "cell_type": "code",
   "execution_count": 34,
   "id": "b333805a-9910-4519-8003-367e60e9af00",
   "metadata": {},
   "outputs": [],
   "source": [
    "spark.stop()"
   ]
  },
  {
   "cell_type": "code",
   "execution_count": null,
   "id": "85dd5f85-d84b-44dc-978f-3f7c239818fd",
   "metadata": {},
   "outputs": [],
   "source": []
  }
 ],
 "metadata": {
  "kernelspec": {
   "display_name": "Python 3 (ipykernel)",
   "language": "python",
   "name": "python3"
  },
  "language_info": {
   "codemirror_mode": {
    "name": "ipython",
    "version": 3
   },
   "file_extension": ".py",
   "mimetype": "text/x-python",
   "name": "python",
   "nbconvert_exporter": "python",
   "pygments_lexer": "ipython3",
   "version": "3.10.8"
  }
 },
 "nbformat": 4,
 "nbformat_minor": 5
}
