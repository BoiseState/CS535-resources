{
 "cells": [
  {
   "cell_type": "code",
   "execution_count": 1,
   "id": "6afb43cb-abbc-4294-b020-b000682d7ea2",
   "metadata": {},
   "outputs": [
    {
     "name": "stdout",
     "output_type": "stream",
     "text": [
      "Defaulting to user installation because normal site-packages is not writeable\n",
      "Requirement already satisfied: findspark in /home/amit/.local/lib/python3.10/site-packages (2.0.1)\n"
     ]
    }
   ],
   "source": [
    "!pip install findspark"
   ]
  },
  {
   "cell_type": "code",
   "execution_count": 2,
   "id": "082e129e-f36c-4d8d-a760-b2a40ebad928",
   "metadata": {},
   "outputs": [
    {
     "name": "stdout",
     "output_type": "stream",
     "text": [
      "Defaulting to user installation because normal site-packages is not writeable\n",
      "Requirement already satisfied: pyspark in /home/amit/.local/lib/python3.10/site-packages (3.4.1)\n",
      "Requirement already satisfied: py4j==0.10.9.7 in /home/amit/.local/lib/python3.10/site-packages (from pyspark) (0.10.9.7)\n"
     ]
    }
   ],
   "source": [
    "!pip install pyspark"
   ]
  },
  {
   "cell_type": "code",
   "execution_count": 3,
   "id": "a1b901e4-8c64-4fb6-883a-7669b736f38a",
   "metadata": {},
   "outputs": [],
   "source": [
    "import findspark"
   ]
  },
  {
   "cell_type": "code",
   "execution_count": 4,
   "id": "5f0d2a4f-4964-4b41-b8e8-1913bd42c6d6",
   "metadata": {},
   "outputs": [],
   "source": [
    "import pyspark"
   ]
  },
  {
   "cell_type": "code",
   "execution_count": 5,
   "id": "8983ef69-fd9f-462b-bccf-0e36fb6fcf73",
   "metadata": {},
   "outputs": [],
   "source": [
    "from pyspark.sql import SparkSession"
   ]
  },
  {
   "cell_type": "markdown",
   "id": "5841e7c4-fc01-4cff-8629-dd2b03c2d4bc",
   "metadata": {},
   "source": [
    "# Step 1: Create a Spark Session"
   ]
  },
  {
   "cell_type": "code",
   "execution_count": 6,
   "id": "beeb1e64-33cf-45e1-b3f1-23bb32d9a218",
   "metadata": {},
   "outputs": [
    {
     "name": "stderr",
     "output_type": "stream",
     "text": [
      "Setting default log level to \"WARN\".\n",
      "To adjust logging level use sc.setLogLevel(newLevel). For SparkR, use setLogLevel(newLevel).\n",
      "23/12/07 12:48:18 WARN NativeCodeLoader: Unable to load native-hadoop library for your platform... using builtin-java classes where applicable\n"
     ]
    }
   ],
   "source": [
    "spark = SparkSession.builder.appName(\"Tutorial\").getOrCreate()"
   ]
  },
  {
   "cell_type": "markdown",
   "id": "ab56fea1-8a67-4f7d-826c-df0e25634fb7",
   "metadata": {},
   "source": [
    "# Step 2: Create the DataFrame"
   ]
  },
  {
   "cell_type": "markdown",
   "id": "ee3e9045-310d-4e16-a807-35e4f8f250e4",
   "metadata": {},
   "source": [
    "Uncomment the following if running on Google colab."
   ]
  },
  {
   "cell_type": "code",
   "execution_count": 7,
   "id": "051d1fb2-f980-4753-93da-fcdba696f53b",
   "metadata": {},
   "outputs": [],
   "source": [
    "#from google.colab import files\n",
    "#uploaded = files.upload()"
   ]
  },
  {
   "cell_type": "code",
   "execution_count": 38,
   "id": "3b9cc043-6b8f-4e7c-8848-df612da0fa5d",
   "metadata": {},
   "outputs": [],
   "source": [
    "df = spark.read.csv('ecommerce-version-2.csv',header=True,escape=\"\\\"\")"
   ]
  },
  {
   "cell_type": "code",
   "execution_count": 39,
   "id": "4ccea80b-014d-42b1-9d95-a5f9a25f0068",
   "metadata": {},
   "outputs": [
    {
     "name": "stdout",
     "output_type": "stream",
     "text": [
      "+---------+---------+-----------------------------------+--------+------------+---------+----------+-------------+\n",
      "|InvoiceNo|StockCode|Description                        |Quantity|InvoiceDate |UnitPrice|CustomerID|Country      |\n",
      "+---------+---------+-----------------------------------+--------+------------+---------+----------+-------------+\n",
      "|536365   |85123A   |WHITE HANGING HEART T-LIGHT HOLDER |6       |12/1/10 8:26|8.55     |17850     |United States|\n",
      "|536365   |71053    |WHITE METAL LANTERN                |6       |12/1/10 8:26|3.39     |17850     |United States|\n",
      "|536365   |84406B   |CREAM CUPID HEARTS COAT HANGER     |8       |12/1/10 8:26|2.75     |17850     |United States|\n",
      "|536365   |84029G   |KNITTED UNION FLAG HOT WATER BOTTLE|6       |12/1/10 8:26|3.39     |17850     |United States|\n",
      "|536365   |84029E   |RED WOOLLY HOTTIE WHITE HEART.     |6       |12/1/10 8:26|3.39     |17850     |United States|\n",
      "+---------+---------+-----------------------------------+--------+------------+---------+----------+-------------+\n",
      "only showing top 5 rows\n",
      "\n"
     ]
    }
   ],
   "source": [
    "df.show(5,0)"
   ]
  },
  {
   "cell_type": "markdown",
   "id": "4969dbe9-c770-457f-9e53-fe6bb7ebd37f",
   "metadata": {},
   "source": [
    "# Step 3:  Explore basic statistics"
   ]
  },
  {
   "cell_type": "code",
   "execution_count": 40,
   "id": "ed364574-2d90-4a37-a83c-e7fd10fe01df",
   "metadata": {},
   "outputs": [
    {
     "data": {
      "text/plain": [
       "2500"
      ]
     },
     "execution_count": 40,
     "metadata": {},
     "output_type": "execute_result"
    }
   ],
   "source": [
    "df.count()"
   ]
  },
  {
   "cell_type": "code",
   "execution_count": 41,
   "id": "84a4f237-f1a0-44f0-bb0c-69fde2770e80",
   "metadata": {},
   "outputs": [
    {
     "data": {
      "text/plain": [
       "95"
      ]
     },
     "execution_count": 41,
     "metadata": {},
     "output_type": "execute_result"
    }
   ],
   "source": [
    "df.select('CustomerID').distinct().count()"
   ]
  },
  {
   "cell_type": "code",
   "execution_count": 42,
   "id": "067b4286-34db-48fd-a4bf-623165acaf6b",
   "metadata": {},
   "outputs": [
    {
     "name": "stdout",
     "output_type": "stream",
     "text": [
      "+-------------+-------------+\n",
      "|      Country|country_count|\n",
      "+-------------+-------------+\n",
      "|      Germany|            2|\n",
      "|       France|            1|\n",
      "|United States|           88|\n",
      "|         EIRE|            1|\n",
      "|       Norway|            1|\n",
      "|    Australia|            1|\n",
      "|  Netherlands|            1|\n",
      "+-------------+-------------+\n",
      "\n"
     ]
    }
   ],
   "source": [
    "from pyspark.sql.functions import *\n",
    "from pyspark.sql.types import *\n",
    "\n",
    "df.groupBy('Country').agg(countDistinct('CustomerID').alias('country_count')).show()"
   ]
  },
  {
   "cell_type": "code",
   "execution_count": 43,
   "id": "4927bd63-a8ad-4ae0-91e5-cfe960e7659d",
   "metadata": {},
   "outputs": [
    {
     "name": "stdout",
     "output_type": "stream",
     "text": [
      "+-------------+-------------+\n",
      "|      Country|country_count|\n",
      "+-------------+-------------+\n",
      "|United States|           88|\n",
      "|      Germany|            2|\n",
      "|       France|            1|\n",
      "|         EIRE|            1|\n",
      "|       Norway|            1|\n",
      "|    Australia|            1|\n",
      "|  Netherlands|            1|\n",
      "+-------------+-------------+\n",
      "\n"
     ]
    }
   ],
   "source": [
    "df.groupBy('Country').agg(countDistinct('CustomerID').alias('country_count')).orderBy(desc('country_count')).show()"
   ]
  },
  {
   "cell_type": "markdown",
   "id": "19352e4f-afe6-42fb-aa3b-5d353106967b",
   "metadata": {},
   "source": [
    "When was the most recent purchase made?"
   ]
  },
  {
   "cell_type": "code",
   "execution_count": 44,
   "id": "6a4602b0-703d-40ee-b24e-421e292cd3c0",
   "metadata": {},
   "outputs": [],
   "source": [
    "df = df.withColumn('date',to_timestamp(\"InvoiceDate\", 'yy/MM/dd HH:mm'))"
   ]
  },
  {
   "cell_type": "code",
   "execution_count": 45,
   "id": "6bc236e4-36a4-43aa-adf3-d23cfc6a41e0",
   "metadata": {},
   "outputs": [
    {
     "data": {
      "text/plain": [
       "DataFrame[key: string, value: string]"
      ]
     },
     "execution_count": 45,
     "metadata": {},
     "output_type": "execute_result"
    }
   ],
   "source": [
    "spark.sql(\"set spark.sql.legacy.timeParserPolicy=LEGACY\")"
   ]
  },
  {
   "cell_type": "code",
   "execution_count": 46,
   "id": "8b477cf8-ab7e-4c29-b627-d32e75e2cea6",
   "metadata": {},
   "outputs": [
    {
     "name": "stdout",
     "output_type": "stream",
     "text": [
      "+-------------------+\n",
      "|          max(date)|\n",
      "+-------------------+\n",
      "|2012-01-10 17:06:00|\n",
      "+-------------------+\n",
      "\n"
     ]
    }
   ],
   "source": [
    "df.select(max(\"date\")).show()"
   ]
  },
  {
   "cell_type": "markdown",
   "id": "95e3518b-0e21-476c-9955-357407278354",
   "metadata": {},
   "source": [
    "When was the earliest purchase made?"
   ]
  },
  {
   "cell_type": "code",
   "execution_count": 47,
   "id": "2a8a5767-f61b-4bbb-9930-914d191762e5",
   "metadata": {},
   "outputs": [
    {
     "name": "stdout",
     "output_type": "stream",
     "text": [
      "+-------------------+\n",
      "|          min(date)|\n",
      "+-------------------+\n",
      "|2012-01-10 08:26:00|\n",
      "+-------------------+\n",
      "\n"
     ]
    }
   ],
   "source": [
    "df.select(min(\"date\")).show()"
   ]
  },
  {
   "cell_type": "markdown",
   "id": "64ce714a-1275-4c39-82c7-ad0e69eb1fcd",
   "metadata": {},
   "source": [
    "# Step 4: Data Preprocessing\n",
    "\n",
    "The variables in the dataset are in a format that cannot be easily ingested into the customer segmentation model. These features individually do not tell us much about customer purchase behavior. We will use the existing variables to derive three new informative features - recency, frequency, and monetary value.\n",
    "\n",
    "## Recency\n",
    "\n",
    "Let's first calculate the recency values. We will subtract every date in the dataframe from the earliest date. This will tell us how recently a customer was seen in the dataframe. A value of 0 indicates the lowest recency, as it will be assigned to the person who was seen making a purchase on the earliest date.\n",
    "\n",
    "### 1) Assign a recency score to each customer\n",
    "\n"
   ]
  },
  {
   "cell_type": "code",
   "execution_count": 48,
   "id": "e6ac3427-9f5a-4a1c-a4ab-6d2eca71064c",
   "metadata": {},
   "outputs": [],
   "source": [
    "df = df.withColumn(\"from_date\", lit(\"12/1/10 08:26\"))\n",
    "df = df.withColumn('from_date',to_timestamp(\"from_date\", 'yy/MM/dd HH:mm'))\n",
    "\n",
    "df2=df.withColumn('from_date',to_timestamp(col('from_date'))).withColumn('recency',col(\"date\").cast(\"long\") - col('from_date').cast(\"long\"))"
   ]
  },
  {
   "cell_type": "markdown",
   "id": "e8842903-1c20-41fe-85ae-2ac2aa0650e2",
   "metadata": {},
   "source": [
    "### 2) Select the most recent purchase\n",
    "\n",
    "One customer can make multiple purchases at different times. We need to select only the last time they were seen buying a product, as this is indicative of when the most recent purchase was made: "
   ]
  },
  {
   "cell_type": "code",
   "execution_count": 49,
   "id": "abe146a9-7343-412f-bbaa-181220128229",
   "metadata": {},
   "outputs": [],
   "source": [
    "df2 = df2.join(df2.groupBy('CustomerID').agg(max('recency').alias('recency')),on='recency',how='leftsemi')"
   ]
  },
  {
   "cell_type": "code",
   "execution_count": 50,
   "id": "fa3eaa6d-a0ce-46e9-8c39-1efcd4d3d6d3",
   "metadata": {},
   "outputs": [
    {
     "name": "stdout",
     "output_type": "stream",
     "text": [
      "+-------+---------+---------+-------------------------------+--------+------------+---------+----------+-------------+-------------------+-------------------+\n",
      "|recency|InvoiceNo|StockCode|Description                    |Quantity|InvoiceDate |UnitPrice|CustomerID|Country      |date               |from_date          |\n",
      "+-------+---------+---------+-------------------------------+--------+------------+---------+----------+-------------+-------------------+-------------------+\n",
      "|540    |536369   |21756    |BATH BUILDING BLOCK WORD       |3       |12/1/10 8:35|5.95     |13047     |United States|2012-01-10 08:35:00|2012-01-10 08:26:00|\n",
      "|1140   |536370   |22728    |ALARM CLOCK BAKELIKE PINK      |24      |12/1/10 8:45|3.75     |12583     |France       |2012-01-10 08:45:00|2012-01-10 08:26:00|\n",
      "|1140   |536370   |22727    |ALARM CLOCK BAKELIKE RED       |24      |12/1/10 8:45|3.75     |12583     |France       |2012-01-10 08:45:00|2012-01-10 08:26:00|\n",
      "|1140   |536370   |22726    |ALARM CLOCK BAKELIKE GREEN     |12      |12/1/10 8:45|3.75     |12583     |France       |2012-01-10 08:45:00|2012-01-10 08:26:00|\n",
      "|1140   |536370   |21724    |PANDA AND BUNNIES STICKER SHEET|12      |12/1/10 8:45|0.85     |12583     |France       |2012-01-10 08:45:00|2012-01-10 08:26:00|\n",
      "+-------+---------+---------+-------------------------------+--------+------------+---------+----------+-------------+-------------------+-------------------+\n",
      "only showing top 5 rows\n",
      "\n"
     ]
    }
   ],
   "source": [
    "df2.show(5,0)"
   ]
  },
  {
   "cell_type": "code",
   "execution_count": 51,
   "id": "4a3923fe-edb3-4f21-a3c0-37c4c572ff51",
   "metadata": {},
   "outputs": [
    {
     "name": "stdout",
     "output_type": "stream",
     "text": [
      "root\n",
      " |-- recency: long (nullable = true)\n",
      " |-- InvoiceNo: string (nullable = true)\n",
      " |-- StockCode: string (nullable = true)\n",
      " |-- Description: string (nullable = true)\n",
      " |-- Quantity: string (nullable = true)\n",
      " |-- InvoiceDate: string (nullable = true)\n",
      " |-- UnitPrice: string (nullable = true)\n",
      " |-- CustomerID: string (nullable = true)\n",
      " |-- Country: string (nullable = true)\n",
      " |-- date: timestamp (nullable = true)\n",
      " |-- from_date: timestamp (nullable = true)\n",
      "\n"
     ]
    }
   ],
   "source": [
    "df2.printSchema()"
   ]
  },
  {
   "cell_type": "markdown",
   "id": "fb1dbbb1-2491-4c42-84c5-338c6e3c1315",
   "metadata": {},
   "source": [
    "## Frequency\n",
    "\n",
    "Let’s now calculate the value of frequency - how often a customer bought something on the platform. To do this, we just need to group by each customer ID and count the number of items they purchased:"
   ]
  },
  {
   "cell_type": "code",
   "execution_count": 52,
   "id": "443a5954-81d6-469a-9435-14cf96729e34",
   "metadata": {},
   "outputs": [],
   "source": [
    "df_freq = df2.groupBy('CustomerID').agg(count('InvoiceDate').alias('frequency'))"
   ]
  },
  {
   "cell_type": "code",
   "execution_count": 53,
   "id": "b731869f-d655-4c7e-b9f8-be2c35d67bc2",
   "metadata": {},
   "outputs": [
    {
     "name": "stdout",
     "output_type": "stream",
     "text": [
      "+----------+---------+\n",
      "|CustomerID|frequency|\n",
      "+----------+---------+\n",
      "|16250     |14       |\n",
      "|15100     |1        |\n",
      "|13065     |14       |\n",
      "|12838     |59       |\n",
      "|15350     |5        |\n",
      "+----------+---------+\n",
      "only showing top 5 rows\n",
      "\n"
     ]
    }
   ],
   "source": [
    "df_freq.show(5,0)"
   ]
  },
  {
   "cell_type": "markdown",
   "id": "fcaef02d-9b64-43aa-9521-c00217d23430",
   "metadata": {},
   "source": [
    "This new dataframe only has two columns, and we need to join it with the previous one:"
   ]
  },
  {
   "cell_type": "code",
   "execution_count": 54,
   "id": "3e91df5c-0f81-4818-9dc7-0df3d761d1de",
   "metadata": {},
   "outputs": [],
   "source": [
    "df3 = df2.join(df_freq,on='CustomerID',how='inner')"
   ]
  },
  {
   "cell_type": "code",
   "execution_count": 55,
   "id": "6b9ac826-d76d-44bd-9c9b-b58131e87378",
   "metadata": {},
   "outputs": [
    {
     "name": "stdout",
     "output_type": "stream",
     "text": [
      "root\n",
      " |-- CustomerID: string (nullable = true)\n",
      " |-- recency: long (nullable = true)\n",
      " |-- InvoiceNo: string (nullable = true)\n",
      " |-- StockCode: string (nullable = true)\n",
      " |-- Description: string (nullable = true)\n",
      " |-- Quantity: string (nullable = true)\n",
      " |-- InvoiceDate: string (nullable = true)\n",
      " |-- UnitPrice: string (nullable = true)\n",
      " |-- Country: string (nullable = true)\n",
      " |-- date: timestamp (nullable = true)\n",
      " |-- from_date: timestamp (nullable = true)\n",
      " |-- frequency: long (nullable = false)\n",
      "\n"
     ]
    }
   ],
   "source": [
    "df3.printSchema()"
   ]
  },
  {
   "cell_type": "markdown",
   "id": "909cf830-b05a-4b4d-b291-bd7d60413ae2",
   "metadata": {},
   "source": [
    "## Monetary Value\n",
    "\n",
    "Finally, let’s calculate monetary value - the total amount spent by each customer in the dataframe. There are two steps to achieving this:\n",
    "\n",
    "### 1) Find the total amount spent in each purchase:**\n",
    "\n",
    "Each customerID comes with variables called “Quantity” and “UnitPrice” for a single purchase. To get the total amount spent by each customer in one purchase, we need to multiply “Quantity” with “UnitPrice”:"
   ]
  },
  {
   "cell_type": "code",
   "execution_count": 56,
   "id": "dea643a2-f20e-42d7-81fa-3856c0f27b34",
   "metadata": {},
   "outputs": [],
   "source": [
    "m_val = df3.withColumn('TotalAmount',col(\"Quantity\") * col(\"UnitPrice\"))"
   ]
  },
  {
   "cell_type": "markdown",
   "id": "a7dbb66b-62a2-4f0c-b81e-ec9f58fda6fe",
   "metadata": {},
   "source": [
    "### 2) Find the total amount spent by each customer:\n",
    "\n",
    "To find the total amount spent by each customer overall, we just need to group by the CustomerID column and sum the total amount spent:"
   ]
  },
  {
   "cell_type": "code",
   "execution_count": 57,
   "id": "e13f6dcb-3aa8-4e84-a3bd-ad3f3ac07723",
   "metadata": {},
   "outputs": [],
   "source": [
    "m_val = m_val.groupBy('CustomerID').agg(sum('TotalAmount').alias('monetary_value'))"
   ]
  },
  {
   "cell_type": "markdown",
   "id": "9d9b9db9-f45e-4ae4-8cdd-51a83886e77e",
   "metadata": {},
   "source": [
    "Merge this dataframe with the all the other variables:"
   ]
  },
  {
   "cell_type": "code",
   "execution_count": 58,
   "id": "85f60585-3167-4cb9-a7ce-133cad5c6744",
   "metadata": {},
   "outputs": [],
   "source": [
    "finaldf = m_val.join(df3,on='CustomerID',how='inner')"
   ]
  },
  {
   "cell_type": "code",
   "execution_count": 59,
   "id": "ffe57bc5-7ec9-48e2-80a0-5e7e423caf3a",
   "metadata": {},
   "outputs": [],
   "source": [
    "finaldf = finaldf.select(['recency','frequency','monetary_value','CustomerID']).distinct()"
   ]
  },
  {
   "cell_type": "markdown",
   "id": "772d1fed-9f8f-4743-a847-406d60de3d02",
   "metadata": {},
   "source": [
    "Check the results so far."
   ]
  },
  {
   "cell_type": "code",
   "execution_count": 60,
   "id": "7cd270cd-ca7f-4fe4-9453-48eb0be0547d",
   "metadata": {},
   "outputs": [
    {
     "name": "stdout",
     "output_type": "stream",
     "text": [
      "+-------+---------+------------------+----------+\n",
      "|recency|frequency|monetary_value    |CustomerID|\n",
      "+-------+---------+------------------+----------+\n",
      "|5580   |14       |226.14            |16250     |\n",
      "|2580   |1        |350.4             |15100     |\n",
      "|30360  |14       |205.85999999999999|13065     |\n",
      "|12660  |59       |416.78999999999996|12838     |\n",
      "|18420  |5        |115.65            |15350     |\n",
      "+-------+---------+------------------+----------+\n",
      "only showing top 5 rows\n",
      "\n"
     ]
    }
   ],
   "source": [
    "finaldf.show(5,0)"
   ]
  },
  {
   "cell_type": "markdown",
   "id": "449d0333-f052-48bf-b383-b0988636905c",
   "metadata": {},
   "source": [
    "## Standardization\n",
    "\n",
    "Let’s standardize the dataframe to ensure that all the variables are around the same scale:"
   ]
  },
  {
   "cell_type": "code",
   "execution_count": 61,
   "id": "cf06894c-0753-438b-b1bb-05d1385835c7",
   "metadata": {},
   "outputs": [],
   "source": [
    "from pyspark.ml.feature import VectorAssembler\n",
    "from pyspark.ml.feature import StandardScaler\n",
    "\n",
    "assemble=VectorAssembler(inputCols=[\n",
    "    'recency','frequency','monetary_value'\n",
    "], outputCol='features')\n",
    "\n",
    "assembled_data=assemble.transform(finaldf)\n",
    "\n",
    "scale=StandardScaler(inputCol='features',outputCol='standardized')\n",
    "data_scale=scale.fit(assembled_data)\n",
    "data_scale_output=data_scale.transform(assembled_data)"
   ]
  },
  {
   "cell_type": "code",
   "execution_count": 62,
   "id": "fa9dfd62-34cf-4100-909b-4fabbed47a7a",
   "metadata": {},
   "outputs": [
    {
     "name": "stdout",
     "output_type": "stream",
     "text": [
      "+-------------------------------------------------------------+\n",
      "|standardized                                                 |\n",
      "+-------------------------------------------------------------+\n",
      "|[0.6860448646904731,0.6848507976304103,0.3387959081995723]   |\n",
      "|[0.31720353958806824,0.048917914116457885,0.5249583719515792]|\n",
      "+-------------------------------------------------------------+\n",
      "only showing top 2 rows\n",
      "\n"
     ]
    }
   ],
   "source": [
    "data_scale_output.select('standardized').show(2,truncate=False)"
   ]
  },
  {
   "cell_type": "markdown",
   "id": "93739d6a-1b3a-40ee-ab02-a908d12b2c6b",
   "metadata": {},
   "source": [
    "The above are the scaled features that will be fed into the clustering algorithm."
   ]
  },
  {
   "cell_type": "markdown",
   "id": "88fda8c4-08c9-4761-8523-81b67944b4f7",
   "metadata": {},
   "source": [
    "# Step 5: Building the Machine Learning Model\n",
    "\n",
    "We will use the k-means clustering model.\n",
    "\n",
    "## 1) Finding the number of clusters to use\n",
    "\n",
    "When building a K-Means clustering model, we first need to determine the number of clusters or groups we want the algorithm to return. If we decide on three clusters, for instance, then we will have three customer segments.\n",
    "\n",
    "The most popular technique used to decide on how many clusters to use in K-Means is called the “elbow-method.”\n",
    "\n",
    "This is done simply running the K-Means algorithm for a wide range of clusters and visualizing the model results for each cluster. The plot will have an inflection point that looks like an elbow, and we just pick the number of clusters at this point.\n"
   ]
  },
  {
   "cell_type": "code",
   "execution_count": 63,
   "id": "ba650c74-7498-4d71-94cc-aee5cb62dda5",
   "metadata": {},
   "outputs": [],
   "source": [
    "from pyspark.ml.clustering import KMeans\n",
    "from pyspark.ml.evaluation import ClusteringEvaluator\n",
    "import numpy as np\n",
    "\n",
    "cost = np.zeros(10)\n",
    "\n",
    "evaluator = ClusteringEvaluator(predictionCol='prediction', featuresCol='standardized',metricName='silhouette', distanceMeasure='squaredEuclidean')\n",
    "\n",
    "for i in range(2,10):\n",
    "    KMeans_algo = KMeans(featuresCol='standardized', k=i)\n",
    "    KMeans_fit = KMeans_algo.fit(data_scale_output)\n",
    "    output = KMeans_fit.transform(data_scale_output)\n",
    "    cost[i] = KMeans_fit.summary.trainingCost"
   ]
  },
  {
   "cell_type": "markdown",
   "id": "3b0ec545-b392-4094-9525-599df72ceb6a",
   "metadata": {},
   "source": [
    "With the codes above, we have successfully built and evaluated a K-Means clustering model with 2 to 10 clusters. The results have been placed in an array, and can now be visualized in a line chart:"
   ]
  },
  {
   "cell_type": "code",
   "execution_count": 64,
   "id": "918e981f-e613-4faa-b490-7eb6102f0ff0",
   "metadata": {},
   "outputs": [
    {
     "data": {
      "image/png": "[encoded data removed]",
      "text/plain": [
       "<Figure size 640x480 with 1 Axes>"
      ]
     },
     "metadata": {},
     "output_type": "display_data"
    }
   ],
   "source": [
    "import pandas as pd\n",
    "import pylab as pl\n",
    "df_cost = pd.DataFrame(cost[2:])\n",
    "df_cost.columns = [\"cost\"]\n",
    "new_col = range(2,10)\n",
    "df_cost.insert(0, 'cluster', new_col)\n",
    "pl.plot(df_cost.cluster, df_cost.cost)\n",
    "pl.xlabel('Number of Clusters')\n",
    "pl.ylabel('Score')\n",
    "pl.title('Elbow Curve')\n",
    "pl.show()"
   ]
  },
  {
   "cell_type": "markdown",
   "id": "10017762-fc7e-4644-957a-80afab34d930",
   "metadata": {},
   "source": [
    "## 2) Building the K-Means Clustering Model\n",
    "\n",
    "From the plot above, we can see that there is an inflection point that looks like an elbow at four. Due to this, we will proceed to build the K-Means algorithm with four clusters:"
   ]
  },
  {
   "cell_type": "code",
   "execution_count": 65,
   "id": "67782640-d0cb-437d-a4f5-6b6ca9ea4cd5",
   "metadata": {},
   "outputs": [],
   "source": [
    "KMeans_algo=KMeans(featuresCol='standardized', k=5)\n",
    "KMeans_fit=KMeans_algo.fit(data_scale_output)"
   ]
  },
  {
   "cell_type": "markdown",
   "id": "bc288790-5f0a-4853-b5d6-791715431c5c",
   "metadata": {},
   "source": [
    "## 3) Making Predictions\n",
    "\n",
    "Let’s use the model we created to assign clusters to each customer in the dataset:"
   ]
  },
  {
   "cell_type": "code",
   "execution_count": 66,
   "id": "7fcab0d2-ec50-4e71-80c5-95f60daf3953",
   "metadata": {},
   "outputs": [
    {
     "name": "stdout",
     "output_type": "stream",
     "text": [
      "+-------+---------+------------------+----------+---------------------------------+-------------------------------------------------------------+----------+\n",
      "|recency|frequency|monetary_value    |CustomerID|features                         |standardized                                                 |prediction|\n",
      "+-------+---------+------------------+----------+---------------------------------+-------------------------------------------------------------+----------+\n",
      "|5580   |14       |226.14            |16250     |[5580.0,14.0,226.14]             |[0.6860448646904731,0.6848507976304103,0.3387959081995723]   |2         |\n",
      "|2580   |1        |350.4             |15100     |[2580.0,1.0,350.4]               |[0.31720353958806824,0.048917914116457885,0.5249583719515792]|2         |\n",
      "|30360  |14       |205.85999999999999|13065     |[30360.0,14.0,205.85999999999999]|[3.732674210036338,0.6848507976304103,0.3084130435215528]    |1         |\n",
      "|12660  |59       |416.78999999999996|12838     |[12660.0,59.0,416.78999999999996]|[1.5565103919321488,2.8861569328710153,0.6244218032126104]   |3         |\n",
      "|18420  |5        |115.65            |15350     |[18420.0,5.0,115.65]             |[2.264685736128766,0.24458957058228942,0.17326322978367623]  |0         |\n",
      "+-------+---------+------------------+----------+---------------------------------+-------------------------------------------------------------+----------+\n",
      "only showing top 5 rows\n",
      "\n"
     ]
    }
   ],
   "source": [
    "preds=KMeans_fit.transform(data_scale_output)\n",
    "\n",
    "preds.show(5,0)"
   ]
  },
  {
   "cell_type": "markdown",
   "id": "7303aee6-a16b-4440-bbe4-f12c341e3319",
   "metadata": {},
   "source": [
    "# Step 6: Cluster Analysis\n",
    "\n",
    "The final step in this entire tutorial is to analyze the customer segments we just built.\n",
    "\n",
    "Run the following lines of code to visualize the recency, frequency, and monetary value of each customerID in the dataframe:"
   ]
  },
  {
   "cell_type": "code",
   "execution_count": 67,
   "id": "9a9d9e91-3f7b-4347-8928-2164a3e7a8c8",
   "metadata": {},
   "outputs": [
    {
     "data": {
      "image/png": "[encoded data removed]",
      "text/plain": [
       "<Figure size 640x480 with 1 Axes>"
      ]
     },
     "metadata": {},
     "output_type": "display_data"
    },
    {
     "data": {
      "image/png": "[encoded data removed]",
      "text/plain": [
       "<Figure size 640x480 with 1 Axes>"
      ]
     },
     "metadata": {},
     "output_type": "display_data"
    },
    {
     "data": {
      "image/png": "[encoded data removed]",
      "text/plain": [
       "<Figure size 640x480 with 1 Axes>"
      ]
     },
     "metadata": {},
     "output_type": "display_data"
    }
   ],
   "source": [
    "import matplotlib.pyplot as plt\n",
    "import seaborn as sns\n",
    "\n",
    "df_viz = preds.select('recency','frequency','monetary_value','prediction')\n",
    "df_viz = df_viz.toPandas()\n",
    "avg_df = df_viz.groupby(['prediction'], as_index=False).mean()\n",
    "\n",
    "list1 = ['recency','frequency','monetary_value']\n",
    "\n",
    "for i in list1:\n",
    "    sns.barplot(x='prediction',y=str(i),data=avg_df)\n",
    "    plt.show()"
   ]
  },
  {
   "cell_type": "markdown",
   "id": "41f71484-b99b-46b4-8dbc-a68d0c6f5c87",
   "metadata": {},
   "source": [
    "Review above charts to provide insights."
   ]
  },
  {
   "cell_type": "code",
   "execution_count": 38,
   "id": "41c7f261-4c0c-48f1-91a3-1c7ed89ac224",
   "metadata": {},
   "outputs": [],
   "source": [
    "spark.stop()"
   ]
  },
  {
   "cell_type": "code",
   "execution_count": null,
   "id": "ab72992a-fd21-4d32-8608-a1f2da7d8da1",
   "metadata": {},
   "outputs": [],
   "source": []
  }
 ],
 "metadata": {
  "kernelspec": {
   "display_name": "Python 3 (ipykernel)",
   "language": "python",
   "name": "python3"
  },
  "language_info": {
   "codemirror_mode": {
    "name": "ipython",
    "version": 3
   },
   "file_extension": ".py",
   "mimetype": "text/x-python",
   "name": "python",
   "nbconvert_exporter": "python",
   "pygments_lexer": "ipython3",
   "version": "3.10.8"
  }
 },
 "nbformat": 4,
 "nbformat_minor": 5
}
