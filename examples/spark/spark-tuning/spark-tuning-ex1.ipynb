{
 "cells": [
  {
   "cell_type": "code",
   "execution_count": 39,
   "id": "f7a6ed53-fea5-4ac7-abd6-577b0d3ae337",
   "metadata": {},
   "outputs": [],
   "source": [
    "from pyspark import SparkContext, SparkConf"
   ]
  },
  {
   "cell_type": "code",
   "execution_count": 40,
   "id": "4f013019-0b03-43f7-9d25-d18355ae0915",
   "metadata": {},
   "outputs": [],
   "source": [
    "from pyspark.sql import SparkSession"
   ]
  },
  {
   "cell_type": "code",
   "execution_count": 41,
   "id": "c9da158c-99ab-45a4-8862-b86d425ffa9f",
   "metadata": {},
   "outputs": [],
   "source": [
    "import timeit"
   ]
  },
  {
   "cell_type": "code",
   "execution_count": 42,
   "id": "add5acb1-2476-4cfe-b9b3-d3b3136663a5",
   "metadata": {},
   "outputs": [],
   "source": [
    "spark = SparkSession.builder.master('local[*]').appName(\"spark-tuning\").getOrCreate()"
   ]
  },
  {
   "cell_type": "code",
   "execution_count": 43,
   "id": "13050f38-e3d7-4ca5-a969-02ad5fc28c02",
   "metadata": {},
   "outputs": [],
   "source": [
    "sc = spark.sparkContext"
   ]
  },
  {
   "cell_type": "code",
   "execution_count": 54,
   "id": "c3a0e883-85cb-4d6a-beed-31289905fe1e",
   "metadata": {},
   "outputs": [
    {
     "name": "stdout",
     "output_type": "stream",
     "text": [
      "5.23 ns ± 0.0459 ns per loop (mean ± std. dev. of 7 runs, 100,000,000 loops each)\n"
     ]
    }
   ],
   "source": [
    "%timeit ('textData = sc.textFile(\"../word-count/input/*.txt\")', 1)"
   ]
  },
  {
   "cell_type": "code",
   "execution_count": 55,
   "id": "2eeeb149-2e68-42de-b844-dae3a20b2277",
   "metadata": {},
   "outputs": [
    {
     "data": {
      "text/plain": [
       "372575"
      ]
     },
     "execution_count": 55,
     "metadata": {},
     "output_type": "execute_result"
    }
   ],
   "source": [
    "textData.count()"
   ]
  },
  {
   "cell_type": "code",
   "execution_count": 56,
   "id": "b0c16c7e-b3d8-430d-b1a9-6733a3fc1cba",
   "metadata": {},
   "outputs": [],
   "source": [
    "parquetData = textData.toDF(\"STRING\").write.mode('overwrite').parquet(\"data.parquet\")"
   ]
  },
  {
   "cell_type": "code",
   "execution_count": 57,
   "id": "56f61454-1b32-4181-8eb5-1d388e7ef11e",
   "metadata": {},
   "outputs": [
    {
     "name": "stdout",
     "output_type": "stream",
     "text": [
      "5.28 ns ± 0.02 ns per loop (mean ± std. dev. of 7 runs, 100,000,000 loops each)\n"
     ]
    }
   ],
   "source": [
    "%timeit ('parquetData2 = spark.read.parquet(\"data.parquet\")', 1)"
   ]
  },
  {
   "cell_type": "code",
   "execution_count": 20,
   "id": "0608c378-606d-4a31-8add-9c786c49ea12",
   "metadata": {},
   "outputs": [
    {
     "data": {
      "text/plain": [
       "372575"
      ]
     },
     "execution_count": 20,
     "metadata": {},
     "output_type": "execute_result"
    }
   ],
   "source": [
    "parquetData2.count()"
   ]
  },
  {
   "cell_type": "code",
   "execution_count": 38,
   "id": "5635b253-5a40-4c47-8b31-e645cdff6788",
   "metadata": {},
   "outputs": [],
   "source": [
    "sc.stop()"
   ]
  },
  {
   "cell_type": "code",
   "execution_count": null,
   "id": "10503356-b95b-4a13-9d7c-d2bdb59bb9ba",
   "metadata": {},
   "outputs": [],
   "source": []
  }
 ],
 "metadata": {
  "kernelspec": {
   "display_name": "Python 3 (ipykernel)",
   "language": "python",
   "name": "python3"
  },
  "language_info": {
   "codemirror_mode": {
    "name": "ipython",
    "version": 3
   },
   "file_extension": ".py",
   "mimetype": "text/x-python",
   "name": "python",
   "nbconvert_exporter": "python",
   "pygments_lexer": "ipython3",
   "version": "3.10.8"
  }
 },
 "nbformat": 4,
 "nbformat_minor": 5
}
