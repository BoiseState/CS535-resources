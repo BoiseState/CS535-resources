{
 "cells": [
  {
   "cell_type": "code",
   "execution_count": 1,
   "id": "b0040181-ec45-42b5-913d-f25973cf7ff5",
   "metadata": {},
   "outputs": [],
   "source": [
    "from pyspark.sql.types import *\n",
    "from pyspark.sql import SparkSession\n",
    "from pyspark.sql.functions import *"
   ]
  },
  {
   "cell_type": "code",
   "execution_count": 2,
   "id": "84115866-d23a-4a6e-b774-815ae49a9fa4",
   "metadata": {},
   "outputs": [
    {
     "name": "stderr",
     "output_type": "stream",
     "text": [
      "Setting default log level to \"WARN\".\n",
      "To adjust logging level use sc.setLogLevel(newLevel). For SparkR, use setLogLevel(newLevel).\n",
      "23/12/07 12:29:57 WARN NativeCodeLoader: Unable to load native-hadoop library for your platform... using builtin-java classes where applicable\n",
      "23/12/07 12:29:57 WARN Utils: Service 'SparkUI' could not bind on port 4040. Attempting port 4041.\n"
     ]
    }
   ],
   "source": [
    "spark = (SparkSession\n",
    "       .builder\n",
    "       .appName(\"Image data source example\")\n",
    "       .getOrCreate())"
   ]
  },
  {
   "cell_type": "code",
   "execution_count": 3,
   "id": "52f2a72e-2c40-46ef-b628-70280c7cf55e",
   "metadata": {},
   "outputs": [],
   "source": [
    "from pyspark.ml import image"
   ]
  },
  {
   "cell_type": "code",
   "execution_count": 4,
   "id": "fc60943f-79d5-4858-9484-b38776b226fe",
   "metadata": {},
   "outputs": [],
   "source": [
    "images_dir = \"./train_images/\""
   ]
  },
  {
   "cell_type": "code",
   "execution_count": 5,
   "id": "ebada555-6d6b-4852-a1ea-e71bd4afbb87",
   "metadata": {},
   "outputs": [],
   "source": [
    "images_df = spark.read.format(\"image\").load(images_dir)"
   ]
  },
  {
   "cell_type": "code",
   "execution_count": 6,
   "id": "b7cd053f-35ed-45de-9b68-55562d5c5569",
   "metadata": {},
   "outputs": [
    {
     "name": "stdout",
     "output_type": "stream",
     "text": [
      "root\n",
      " |-- image: struct (nullable = true)\n",
      " |    |-- origin: string (nullable = true)\n",
      " |    |-- height: integer (nullable = true)\n",
      " |    |-- width: integer (nullable = true)\n",
      " |    |-- nChannels: integer (nullable = true)\n",
      " |    |-- mode: integer (nullable = true)\n",
      " |    |-- data: binary (nullable = true)\n",
      " |-- label: integer (nullable = true)\n",
      "\n"
     ]
    }
   ],
   "source": [
    "images_df.printSchema()"
   ]
  },
  {
   "cell_type": "code",
   "execution_count": 7,
   "id": "a4672ef2-318c-403e-88e3-623333960e40",
   "metadata": {},
   "outputs": [
    {
     "name": "stdout",
     "output_type": "stream",
     "text": [
      "+------+-----+---------+----+-----+\n",
      "|height|width|nChannels|mode|label|\n",
      "+------+-----+---------+----+-----+\n",
      "|288   |384  |3        |16  |0    |\n",
      "|288   |384  |3        |16  |1    |\n",
      "|288   |384  |3        |16  |0    |\n",
      "|288   |384  |3        |16  |0    |\n",
      "|288   |384  |3        |16  |0    |\n",
      "+------+-----+---------+----+-----+\n",
      "only showing top 5 rows\n",
      "\n"
     ]
    }
   ],
   "source": [
    "(images_df.select(\"image.height\", \n",
    "                  \"image.width\", \n",
    "                  \"image.nChannels\", \n",
    "                  \"image.mode\", \n",
    "                  \"label\")\n",
    "         .show(5, truncate=False))"
   ]
  },
  {
   "cell_type": "code",
   "execution_count": 8,
   "id": "b4c2ad0d-7df5-41d2-90aa-7e41efd1aa84",
   "metadata": {},
   "outputs": [
    {
     "name": "stdout",
     "output_type": "stream",
     "text": [
      "+-------------------------------------------------------------------------------------------------------------+------+\n",
      "|origin                                                                                                       |height|\n",
      "+-------------------------------------------------------------------------------------------------------------+------+\n",
      "|file:///home/amit/Documents/CS535-resources/examples/spark/datasets/train_images/label=0/LeftBagframe0004.jpg|288   |\n",
      "|file:///home/amit/Documents/CS535-resources/examples/spark/datasets/train_images/label=1/LeftBagframe0040.jpg|288   |\n",
      "|file:///home/amit/Documents/CS535-resources/examples/spark/datasets/train_images/label=0/LeftBagframe0005.jpg|288   |\n",
      "|file:///home/amit/Documents/CS535-resources/examples/spark/datasets/train_images/label=0/LeftBagframe0015.jpg|288   |\n",
      "|file:///home/amit/Documents/CS535-resources/examples/spark/datasets/train_images/label=0/LeftBagframe0017.jpg|288   |\n",
      "+-------------------------------------------------------------------------------------------------------------+------+\n",
      "only showing top 5 rows\n",
      "\n"
     ]
    }
   ],
   "source": [
    "(images_df.select(\"image.origin\", \"image.height\")\n",
    " .where(col(\"image.height\") > 200)\n",
    " .show(5, truncate=False))"
   ]
  },
  {
   "cell_type": "code",
   "execution_count": 9,
   "id": "0bb93729-3036-4be6-833d-7f6ba3cdbdfa",
   "metadata": {},
   "outputs": [],
   "source": [
    "binary_files_df = (spark.read.format(\"binaryFile\")\n",
    "                   .option(\"pathGlobFilter\", \"*.jpg\")\n",
    "                   .option(\"recursiveFileLookup\", \"true\")\n",
    "                   .load(\"./train_images\"))"
   ]
  },
  {
   "cell_type": "code",
   "execution_count": 10,
   "id": "1e13700a-62c4-4ac5-b8a8-6da12fedffb0",
   "metadata": {},
   "outputs": [
    {
     "name": "stdout",
     "output_type": "stream",
     "text": [
      "root\n",
      " |-- path: string (nullable = true)\n",
      " |-- modificationTime: timestamp (nullable = true)\n",
      " |-- length: long (nullable = true)\n",
      " |-- content: binary (nullable = true)\n",
      "\n"
     ]
    }
   ],
   "source": [
    "binary_files_df.printSchema()"
   ]
  },
  {
   "cell_type": "code",
   "execution_count": 11,
   "id": "97c90d33-89b5-48ae-b9a4-d5f71044044f",
   "metadata": {},
   "outputs": [
    {
     "name": "stdout",
     "output_type": "stream",
     "text": [
      "+--------------------+--------------------+------+--------------------+\n",
      "|                path|    modificationTime|length|             content|\n",
      "+--------------------+--------------------+------+--------------------+\n",
      "|file:/home/amit/D...|2023-11-13 18:10:...| 55037|[FF D8 FF E0 00 1...|\n",
      "|file:/home/amit/D...|2023-11-13 18:10:...| 54634|[FF D8 FF E0 00 1...|\n",
      "|file:/home/amit/D...|2023-11-13 18:10:...| 54624|[FF D8 FF E0 00 1...|\n",
      "|file:/home/amit/D...|2023-11-13 18:10:...| 54505|[FF D8 FF E0 00 1...|\n",
      "|file:/home/amit/D...|2023-11-13 18:10:...| 54475|[FF D8 FF E0 00 1...|\n",
      "+--------------------+--------------------+------+--------------------+\n",
      "only showing top 5 rows\n",
      "\n"
     ]
    }
   ],
   "source": [
    "binary_files_df.show(5)"
   ]
  },
  {
   "cell_type": "code",
   "execution_count": 12,
   "id": "47050e29-11ac-47bc-9130-4849b8d240e0",
   "metadata": {},
   "outputs": [],
   "source": [
    "spark.stop()"
   ]
  },
  {
   "cell_type": "code",
   "execution_count": null,
   "id": "ad3667e8-8f7b-4a63-aa52-b78c4100658c",
   "metadata": {},
   "outputs": [],
   "source": []
  }
 ],
 "metadata": {
  "kernelspec": {
   "display_name": "Python 3 (ipykernel)",
   "language": "python",
   "name": "python3"
  },
  "language_info": {
   "codemirror_mode": {
    "name": "ipython",
    "version": 3
   },
   "file_extension": ".py",
   "mimetype": "text/x-python",
   "name": "python",
   "nbconvert_exporter": "python",
   "pygments_lexer": "ipython3",
   "version": "3.10.8"
  }
 },
 "nbformat": 4,
 "nbformat_minor": 5
}
