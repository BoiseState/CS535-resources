{
 "cells": [
  {
   "cell_type": "code",
   "execution_count": 1,
   "id": "38a3d07d-96f6-4f45-9b7b-69af260e3cad",
   "metadata": {},
   "outputs": [],
   "source": [
    "from pyspark.sql.types import *\n",
    "from pyspark.sql import SparkSession\n",
    "from pyspark.sql.functions import *"
   ]
  },
  {
   "cell_type": "code",
   "execution_count": 2,
   "id": "bdc1d4a5-b599-44e5-a5f8-70181b5d052b",
   "metadata": {},
   "outputs": [],
   "source": [
    "# define schema for our data\n",
    "schema = StructType([\n",
    "   StructField(\"Id\", IntegerType(), False),\n",
    "   StructField(\"First\", StringType(), False),\n",
    "   StructField(\"Last\", StringType(), False),\n",
    "   StructField(\"Url\", StringType(), False),\n",
    "   StructField(\"Published\", StringType(), False),\n",
    "   StructField(\"Hits\", IntegerType(), False),\n",
    "   StructField(\"Campaigns\", ArrayType(StringType()), False)])\n"
   ]
  },
  {
   "cell_type": "markdown",
   "id": "0a5c5775-9e79-4ead-a349-923ec8724544",
   "metadata": {},
   "source": [
    "We can also define schema using **Data Definition Language** (DDL) as shown below."
   ]
  },
  {
   "cell_type": "code",
   "execution_count": 3,
   "id": "b4291103-0841-49ed-9834-2589e8ee9c08",
   "metadata": {},
   "outputs": [],
   "source": [
    "schema_DDL = \"`Id` INT, `First` STRING, `Last` STRING, `Url` STRING, `Published` STRING, `Hits` INT, `Campaigns` ARRAY<STRING>\""
   ]
  },
  {
   "cell_type": "markdown",
   "id": "b7ab5191-63b7-45ed-b5b1-f64d3dc44cb8",
   "metadata": {},
   "source": [
    "Create sample data."
   ]
  },
  {
   "cell_type": "code",
   "execution_count": 4,
   "id": "92b7f2b7-ed90-4e7a-9fd4-c3bc53ae6a0f",
   "metadata": {},
   "outputs": [],
   "source": [
    "#create our data\n",
    "data = [[1, \"Jules\", \"Damji\", \"https://tinyurl.1\", \"1/4/2016\", 4535, [\"twitter\", \"LinkedIn\"]],\n",
    "       [2, \"Brooke\",\"Wenig\",\"https://tinyurl.2\", \"5/5/2018\", 8908, [\"twitter\", \"LinkedIn\"]],\n",
    "       [3, \"Denny\", \"Lee\", \"https://tinyurl.3\",\"6/7/2019\",7659, [\"web\", \"twitter\", \"FB\", \"LinkedIn\"]],\n",
    "       [4, \"Tathagata\", \"Das\",\"https://tinyurl.4\", \"5/12/2018\", 10568, [\"twitter\", \"FB\"]],\n",
    "       [5, \"Matei\",\"Zaharia\", \"https://tinyurl.5\", \"5/14/2014\", 40578, [\"web\", \"twitter\", \"FB\", \"LinkedIn\"]],\n",
    "       [6, \"Reynold\", \"Xin\", \"https://tinyurl.6\", \"3/2/2015\", 25568, [\"twitter\", \"LinkedIn\"]]\n",
    "      ]"
   ]
  },
  {
   "cell_type": "markdown",
   "id": "74c98185-9b7c-4749-ba0a-6ccb143d0221",
   "metadata": {},
   "source": [
    "Create a Spark Session"
   ]
  },
  {
   "cell_type": "code",
   "execution_count": 6,
   "id": "032d1de8-d97b-4f27-8441-81ed1e86a72c",
   "metadata": {},
   "outputs": [
    {
     "name": "stderr",
     "output_type": "stream",
     "text": [
      "Setting default log level to \"WARN\".\n",
      "To adjust logging level use sc.setLogLevel(newLevel). For SparkR, use setLogLevel(newLevel).\n",
      "23/11/13 19:40:03 WARN NativeCodeLoader: Unable to load native-hadoop library for your platform... using builtin-java classes where applicable\n",
      "23/11/13 19:40:03 WARN Utils: Service 'SparkUI' could not bind on port 4040. Attempting port 4041.\n"
     ]
    }
   ],
   "source": [
    "spark = (SparkSession\n",
    "       .builder\n",
    "       .appName(\"DF Schema example\")\n",
    "       .getOrCreate())"
   ]
  },
  {
   "cell_type": "markdown",
   "id": "62caaa2d-5670-4256-8801-f263a08b0b9a",
   "metadata": {},
   "source": [
    "Create a DataFrame using the schema defined above\n"
   ]
  },
  {
   "cell_type": "code",
   "execution_count": 7,
   "id": "f686d505-9e17-4244-8e2b-a6989b0cb469",
   "metadata": {},
   "outputs": [],
   "source": [
    "blogs_df = spark.createDataFrame(data, schema_DDL)"
   ]
  },
  {
   "cell_type": "markdown",
   "id": "910a1651-79be-4570-8378-333dc881b777",
   "metadata": {},
   "source": [
    "Show the DataFrame; it should reflect our table above"
   ]
  },
  {
   "cell_type": "code",
   "execution_count": 37,
   "id": "21548baf-99a6-4d94-aef0-b7100d4210c3",
   "metadata": {},
   "outputs": [
    {
     "name": "stdout",
     "output_type": "stream",
     "text": [
      "+---+---------+-------+-----------------+---------+-----+--------------------+\n",
      "| Id|    First|   Last|              Url|Published| Hits|           Campaigns|\n",
      "+---+---------+-------+-----------------+---------+-----+--------------------+\n",
      "|  1|    Jules|  Damji|https://tinyurl.1| 1/4/2016| 4535| [twitter, LinkedIn]|\n",
      "|  2|   Brooke|  Wenig|https://tinyurl.2| 5/5/2018| 8908| [twitter, LinkedIn]|\n",
      "|  3|    Denny|    Lee|https://tinyurl.3| 6/7/2019| 7659|[web, twitter, FB...|\n",
      "|  4|Tathagata|    Das|https://tinyurl.4|5/12/2018|10568|       [twitter, FB]|\n",
      "|  5|    Matei|Zaharia|https://tinyurl.5|5/14/2014|40578|[web, twitter, FB...|\n",
      "|  6|  Reynold|    Xin|https://tinyurl.6| 3/2/2015|25568| [twitter, LinkedIn]|\n",
      "+---+---------+-------+-----------------+---------+-----+--------------------+\n",
      "\n",
      "\n"
     ]
    }
   ],
   "source": [
    "blogs_df.show()\n",
    "print()"
   ]
  },
  {
   "cell_type": "markdown",
   "id": "47789961-2ff6-4a0e-b85a-ab19329b8b0b",
   "metadata": {},
   "source": [
    "Print the schema used by Spark to process the DataFrame\n"
   ]
  },
  {
   "cell_type": "code",
   "execution_count": 38,
   "id": "efd67bae-343e-4f18-b949-5a8874973a42",
   "metadata": {},
   "outputs": [
    {
     "name": "stdout",
     "output_type": "stream",
     "text": [
      "root\n",
      " |-- Id: integer (nullable = true)\n",
      " |-- First: string (nullable = true)\n",
      " |-- Last: string (nullable = true)\n",
      " |-- Url: string (nullable = true)\n",
      " |-- Published: string (nullable = true)\n",
      " |-- Hits: integer (nullable = true)\n",
      " |-- Campaigns: array (nullable = true)\n",
      " |    |-- element: string (containsNull = true)\n",
      "\n",
      "None\n"
     ]
    }
   ],
   "source": [
    "print(blogs_df.printSchema())"
   ]
  },
  {
   "cell_type": "markdown",
   "id": "45c8006c-6da0-44ee-aaed-a1cfb0368a1a",
   "metadata": {},
   "source": [
    "Print the raw schema. This can be used in another program directly!"
   ]
  },
  {
   "cell_type": "code",
   "execution_count": 41,
   "id": "fa519eb8-415b-4f13-bfa9-11f0b2f6c173",
   "metadata": {},
   "outputs": [
    {
     "name": "stdout",
     "output_type": "stream",
     "text": [
      "StructType([StructField('Id', IntegerType(), True), StructField('First', StringType(), True), StructField('Last', StringType(), True), StructField('Url', StringType(), True), StructField('Published', StringType(), True), StructField('Hits', IntegerType(), True), StructField('Campaigns', ArrayType(StringType(), True), True)])\n"
     ]
    }
   ],
   "source": [
    "print(blogs_df.schema)"
   ]
  },
  {
   "cell_type": "code",
   "execution_count": null,
   "id": "9fbdd578-5185-4971-8091-c4fabb849ed3",
   "metadata": {},
   "outputs": [],
   "source": []
  }
 ],
 "metadata": {
  "kernelspec": {
   "display_name": "Python 3 (ipykernel)",
   "language": "python",
   "name": "python3"
  },
  "language_info": {
   "codemirror_mode": {
    "name": "ipython",
    "version": 3
   },
   "file_extension": ".py",
   "mimetype": "text/x-python",
   "name": "python",
   "nbconvert_exporter": "python",
   "pygments_lexer": "ipython3",
   "version": "3.10.8"
  }
 },
 "nbformat": 4,
 "nbformat_minor": 5
}
