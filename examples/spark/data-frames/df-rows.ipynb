{
 "cells": [
  {
   "cell_type": "code",
   "execution_count": 10,
   "id": "ce14ac01-a745-42d3-88c0-22cc35a2cc37",
   "metadata": {},
   "outputs": [],
   "source": [
    "from pyspark.sql import SparkSession, Row"
   ]
  },
  {
   "cell_type": "code",
   "execution_count": 11,
   "id": "5ec11715-4be0-4a70-b4d7-dd4a7ec86e1f",
   "metadata": {},
   "outputs": [],
   "source": [
    "spark = (SparkSession\n",
    "        .builder\n",
    "        .appName(\"Authors\")\n",
    "        .getOrCreate())\n"
   ]
  },
  {
   "cell_type": "code",
   "execution_count": 23,
   "id": "8d0d3138-df4b-463d-af17-5b73a636dd88",
   "metadata": {},
   "outputs": [],
   "source": [
    " blog_row = Row(6, \"Reynold\", \"Xin\", \"https://tinyurl.6\", 255568, \"3/2/2023\", [\"twitter\", \"LinkedIn\"])"
   ]
  },
  {
   "cell_type": "code",
   "execution_count": 24,
   "id": "b3e70169-2fa5-45b9-a4c5-f4f0b0c9bd7c",
   "metadata": {},
   "outputs": [
    {
     "data": {
      "text/plain": [
       "'Reynold'"
      ]
     },
     "execution_count": 24,
     "metadata": {},
     "output_type": "execute_result"
    }
   ],
   "source": [
    "blog_row[1]"
   ]
  },
  {
   "cell_type": "code",
   "execution_count": 25,
   "id": "3a5352d8-d40c-4b6f-9b5a-e1fd3fa710d1",
   "metadata": {},
   "outputs": [
    {
     "data": {
      "text/plain": [
       "6"
      ]
     },
     "execution_count": 25,
     "metadata": {},
     "output_type": "execute_result"
    }
   ],
   "source": [
    "blog_row[0]"
   ]
  },
  {
   "cell_type": "code",
   "execution_count": 12,
   "id": "1b66be79-8d66-4578-8c66-02f4370631a8",
   "metadata": {},
   "outputs": [],
   "source": [
    "schema = StructType([\n",
    "        StructField(\"Author\" , StringType(), False), \n",
    "        StructField(\"State\", StringType(), False)])"
   ]
  },
  {
   "cell_type": "code",
   "execution_count": 13,
   "id": "6367cfd3-90c5-4257-aa59-502ac8450ee4",
   "metadata": {},
   "outputs": [],
   "source": [
    "rows = [Row(\"Matei Zaharia\", \"CA\"), Row(\"Reynold Xin\", \"CA\")]"
   ]
  },
  {
   "cell_type": "code",
   "execution_count": 14,
   "id": "f5700f04-d8e2-48a8-8180-9176816cde45",
   "metadata": {},
   "outputs": [],
   "source": [
    "authors_df = spark.createDataFrame(rows, schema)"
   ]
  },
  {
   "cell_type": "code",
   "execution_count": 15,
   "id": "1ec3ffc1-ea12-4e4c-9742-162e6f4f5474",
   "metadata": {},
   "outputs": [
    {
     "name": "stdout",
     "output_type": "stream",
     "text": [
      "+-------------+-----+\n",
      "|       Author|State|\n",
      "+-------------+-----+\n",
      "|Matei Zaharia|   CA|\n",
      "|  Reynold Xin|   CA|\n",
      "+-------------+-----+\n",
      "\n"
     ]
    }
   ],
   "source": [
    "authors_df.show()"
   ]
  },
  {
   "cell_type": "code",
   "execution_count": 51,
   "id": "850feaf6-f8a8-4250-966b-29a61b715ac6",
   "metadata": {},
   "outputs": [],
   "source": []
  },
  {
   "cell_type": "code",
   "execution_count": 52,
   "id": "79fc30c0-464e-462c-a20a-10c9a654948d",
   "metadata": {},
   "outputs": [
    {
     "name": "stdout",
     "output_type": "stream",
     "text": [
      "root\n",
      " |-- value: string (nullable = true)\n",
      "\n"
     ]
    }
   ],
   "source": []
  },
  {
   "cell_type": "code",
   "execution_count": 53,
   "id": "bef889dd-7a38-47ca-a2ca-96ea9b950f79",
   "metadata": {},
   "outputs": [],
   "source": []
  },
  {
   "cell_type": "code",
   "execution_count": 54,
   "id": "b935c314-84a2-490b-a4ff-ba001b29dcd0",
   "metadata": {},
   "outputs": [
    {
     "name": "stdout",
     "output_type": "stream",
     "text": [
      "+---------+-----+\n",
      "|    words|count|\n",
      "+---------+-----+\n",
      "|       By| 1279|\n",
      "|   Volume|   13|\n",
      "|    still| 1617|\n",
      "|    those| 2165|\n",
      "|     some| 3835|\n",
      "|     cit.|   20|\n",
      "|   waters|  132|\n",
      "|  reddish|   21|\n",
      "|      art|  982|\n",
      "|connected|  262|\n",
      "+---------+-----+\n",
      "only showing top 10 rows\n",
      "\n"
     ]
    },
    {
     "name": "stderr",
     "output_type": "stream",
     "text": [
      "                                                                                \r"
     ]
    }
   ],
   "source": []
  },
  {
   "cell_type": "code",
   "execution_count": 55,
   "id": "56787664-e5c3-43ff-9db2-d2d1b6d83bc7",
   "metadata": {},
   "outputs": [
    {
     "name": "stdout",
     "output_type": "stream",
     "text": [
      "root\n",
      " |-- words: string (nullable = false)\n",
      " |-- count: long (nullable = false)\n",
      "\n"
     ]
    }
   ],
   "source": []
  },
  {
   "cell_type": "code",
   "execution_count": 56,
   "id": "004ac129-d062-4d71-a1a1-f62b315d6c0c",
   "metadata": {},
   "outputs": [
    {
     "name": "stdout",
     "output_type": "stream",
     "text": [
      "+-----+------+\n",
      "|words| count|\n",
      "+-----+------+\n",
      "|  the|178944|\n",
      "|     |175257|\n",
      "|   of|114801|\n",
      "|  and| 82425|\n",
      "|   to| 63000|\n",
      "|   in| 55577|\n",
      "|    a| 54487|\n",
      "|   is| 29562|\n",
      "|  was| 26047|\n",
      "|    I| 24753|\n",
      "+-----+------+\n",
      "only showing top 10 rows\n",
      "\n"
     ]
    }
   ],
   "source": []
  },
  {
   "cell_type": "code",
   "execution_count": 63,
   "id": "c6b5f3dd-2f27-4ae9-95c6-26bf28f69475",
   "metadata": {},
   "outputs": [
    {
     "name": "stdout",
     "output_type": "stream",
     "text": [
      "+------+-----+\n",
      "| words|count|\n",
      "+------+-----+\n",
      "|Rabbit|   29|\n",
      "+------+-----+\n",
      "\n"
     ]
    }
   ],
   "source": []
  },
  {
   "cell_type": "code",
   "execution_count": 64,
   "id": "b333805a-9910-4519-8003-367e60e9af00",
   "metadata": {},
   "outputs": [],
   "source": [
    "spark.stop()"
   ]
  },
  {
   "cell_type": "code",
   "execution_count": null,
   "id": "bf0e0e8f-02af-4614-86ea-71bad70adf22",
   "metadata": {},
   "outputs": [],
   "source": []
  }
 ],
 "metadata": {
  "kernelspec": {
   "display_name": "Python 3 (ipykernel)",
   "language": "python",
   "name": "python3"
  },
  "language_info": {
   "codemirror_mode": {
    "name": "ipython",
    "version": 3
   },
   "file_extension": ".py",
   "mimetype": "text/x-python",
   "name": "python",
   "nbconvert_exporter": "python",
   "pygments_lexer": "ipython3",
   "version": "3.10.8"
  }
 },
 "nbformat": 4,
 "nbformat_minor": 5
}
