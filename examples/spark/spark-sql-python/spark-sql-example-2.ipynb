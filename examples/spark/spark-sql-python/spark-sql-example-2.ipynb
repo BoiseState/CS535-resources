{
 "cells": [
  {
   "cell_type": "markdown",
   "id": "688fa648-9bfc-410b-845e-a58da1dac113",
   "metadata": {},
   "source": [
    "# Manipulating databases directly\n",
    "\n",
    "**Managed tables**: Spark manages both metadata and data.\n",
    "\n",
    "**Unmanaged tables**: Spark manages only meta data while we manage the data ourselves in an extarrnal data source."
   ]
  },
  {
   "cell_type": "code",
   "execution_count": 56,
   "id": "0f8b38c4-5cee-441b-b251-2cdaaa3ade4d",
   "metadata": {},
   "outputs": [],
   "source": [
    "from pyspark.sql import SparkSession, Row\n",
    "from pyspark.sql.functions import *"
   ]
  },
  {
   "cell_type": "code",
   "execution_count": 57,
   "id": "f7581c04-e81f-4e8f-b834-b6ec9ce6bf01",
   "metadata": {},
   "outputs": [
    {
     "name": "stderr",
     "output_type": "stream",
     "text": [
      "23/11/16 10:50:00 WARN Utils: Service 'SparkUI' could not bind on port 4040. Attempting port 4041.\n"
     ]
    }
   ],
   "source": [
    "spark = (SparkSession\n",
    "        .builder\n",
    "        .appName(\"Spark SQL Example 1\")\n",
    "        .getOrCreate())"
   ]
  },
  {
   "cell_type": "code",
   "execution_count": 58,
   "id": "854dd372-2ba8-4cd1-89ea-ab06a2e63430",
   "metadata": {},
   "outputs": [],
   "source": [
    "csv_file = \"flights/departuredelays.csv\""
   ]
  },
  {
   "cell_type": "code",
   "execution_count": 59,
   "id": "8cb53a1a-1ca7-419b-99d5-e76f92bd46c5",
   "metadata": {},
   "outputs": [
    {
     "data": {
      "text/plain": [
       "DataFrame[]"
      ]
     },
     "execution_count": 59,
     "metadata": {},
     "output_type": "execute_result"
    }
   ],
   "source": [
    "spark.sql(\"CREATE DATABASE IF NOT EXISTS test\")\n",
    "spark.sql(\"USE test\")"
   ]
  },
  {
   "cell_type": "markdown",
   "id": "8350a1f7-0d53-4def-875a-b328e29ed019",
   "metadata": {},
   "source": [
    "The data warehouse will be created in the current folder. To set a different location, use \n",
    "\n",
    "```spark.conf.set(\"spark.sql.warehouse.dir\", \"/path/to/warehouse\")```"
   ]
  },
  {
   "cell_type": "code",
   "execution_count": 60,
   "id": "78e06f1d-bbc6-40a8-9866-d262c2367a7a",
   "metadata": {},
   "outputs": [],
   "source": [
    "spark.conf.set(\"spark.sql.legacy.createHiveTableByDefault\", \"false\")"
   ]
  },
  {
   "cell_type": "code",
   "execution_count": 61,
   "id": "61af1a53-5167-4021-8c32-94db4c9b7e60",
   "metadata": {},
   "outputs": [
    {
     "data": {
      "text/plain": [
       "DataFrame[]"
      ]
     },
     "execution_count": 61,
     "metadata": {},
     "output_type": "execute_result"
    }
   ],
   "source": [
    "spark.sql(\"CREATE TABLE managed_us_delay_flights_tbl (date STRING, delay INT,distance INT,\\\n",
    "origin STRING, destination STRING)\")"
   ]
  },
  {
   "cell_type": "code",
   "execution_count": 62,
   "id": "e28ddad2-cc5c-4fb9-b068-deab57ad506e",
   "metadata": {},
   "outputs": [],
   "source": [
    "schema = \"date STRING, elay INT,distance INT,origin STRING, destination STRING\""
   ]
  },
  {
   "cell_type": "code",
   "execution_count": 63,
   "id": "92f71d26-f0a6-4c48-b2ce-142c758e71d9",
   "metadata": {},
   "outputs": [],
   "source": [
    "flights_df = spark.read.csv(csv_file, schema = schema)"
   ]
  },
  {
   "cell_type": "code",
   "execution_count": 64,
   "id": "2dbeaf87-a2fd-49a0-a695-ee2a5d1dae73",
   "metadata": {},
   "outputs": [
    {
     "name": "stderr",
     "output_type": "stream",
     "text": [
      "                                                                                \r"
     ]
    }
   ],
   "source": [
    "flights_df.write.saveAsTable(\"df_us_delay_flights_tbl\")"
   ]
  },
  {
   "cell_type": "markdown",
   "id": "d6ac4588-b054-4deb-b740-caceeafadef2",
   "metadata": {},
   "source": [
    "We can also created unmanaged tables from a data socurce such as CSV, Parquet, or JSON."
   ]
  },
  {
   "cell_type": "code",
   "execution_count": 65,
   "id": "7c633747-c359-4222-9db8-5722adc7a818",
   "metadata": {},
   "outputs": [
    {
     "data": {
      "text/plain": [
       "DataFrame[]"
      ]
     },
     "execution_count": 65,
     "metadata": {},
     "output_type": "execute_result"
    }
   ],
   "source": [
    "spark.sql(\"\"\"CREATE TABLE local_us_delay_flights_tbl (date STRING, delay INT,distance INT,\n",
    "origin STRING, destination STRING)\n",
    "USING csv OPTIONS (PATH 'flights/departuredelays.csv')\"\"\")"
   ]
  },
  {
   "cell_type": "code",
   "execution_count": 66,
   "id": "51ae08a5-351e-4f2e-9cd5-9bd51611909b",
   "metadata": {},
   "outputs": [
    {
     "data": {
      "text/plain": [
       "[Database(name='default', catalog='spark_catalog', description='default database', locationUri='file:/home/amit/Documents/CS535-resources/examples/spark/spark-sql-python/spark-warehouse'),\n",
       " Database(name='test', catalog='spark_catalog', description='', locationUri='file:/home/amit/Documents/CS535-resources/examples/spark/spark-sql-python/spark-warehouse/test.db')]"
      ]
     },
     "execution_count": 66,
     "metadata": {},
     "output_type": "execute_result"
    }
   ],
   "source": [
    "spark.catalog.listDatabases()"
   ]
  },
  {
   "cell_type": "code",
   "execution_count": 67,
   "id": "fa3ac9f7-c80c-4d62-9a43-60af3ad6de74",
   "metadata": {},
   "outputs": [
    {
     "data": {
      "text/plain": [
       "[Table(name='df_us_delay_flights_tbl', catalog='spark_catalog', namespace=['test'], description=None, tableType='MANAGED', isTemporary=False),\n",
       " Table(name='local_us_delay_flights_tbl', catalog='spark_catalog', namespace=['test'], description=None, tableType='EXTERNAL', isTemporary=False),\n",
       " Table(name='managed_us_delay_flights_tbl', catalog='spark_catalog', namespace=['test'], description=None, tableType='MANAGED', isTemporary=False)]"
      ]
     },
     "execution_count": 67,
     "metadata": {},
     "output_type": "execute_result"
    }
   ],
   "source": [
    "spark.catalog.listTables()"
   ]
  },
  {
   "cell_type": "code",
   "execution_count": 69,
   "id": "00fb768f-3e84-48bc-a707-c41a0b3f90b6",
   "metadata": {},
   "outputs": [
    {
     "data": {
      "text/plain": [
       "DataFrame[]"
      ]
     },
     "execution_count": 69,
     "metadata": {},
     "output_type": "execute_result"
    }
   ],
   "source": [
    "spark.sql(\"DROP TABLE IF EXISTS local_us_delay_flights_tbl\")\n",
    "spark.sql(\"DROP TABLE IF EXISTS managed_us_delay_flights_tbl\")\n",
    "spark.sql(\"DROP TABLE IF EXISTS df_us_delay_flights_tbl\")"
   ]
  },
  {
   "cell_type": "code",
   "execution_count": 70,
   "id": "c8876b0c-95af-4e7c-9a49-ef260107dc3d",
   "metadata": {
    "scrolled": true
   },
   "outputs": [
    {
     "data": {
      "text/plain": [
       "DataFrame[]"
      ]
     },
     "execution_count": 70,
     "metadata": {},
     "output_type": "execute_result"
    }
   ],
   "source": [
    "spark.sql(\"DROP DATABASE test\")"
   ]
  },
  {
   "cell_type": "code",
   "execution_count": 71,
   "id": "3976d4d6-4b55-4cf2-8960-04337356bb06",
   "metadata": {},
   "outputs": [],
   "source": [
    "spark.stop()"
   ]
  },
  {
   "cell_type": "code",
   "execution_count": null,
   "id": "b4798d27-3d90-47ac-8789-a89b59e82005",
   "metadata": {},
   "outputs": [],
   "source": []
  },
  {
   "cell_type": "code",
   "execution_count": null,
   "id": "5f63faf6-607f-415e-9083-a15733330c24",
   "metadata": {},
   "outputs": [],
   "source": []
  }
 ],
 "metadata": {
  "kernelspec": {
   "display_name": "Python 3 (ipykernel)",
   "language": "python",
   "name": "python3"
  },
  "language_info": {
   "codemirror_mode": {
    "name": "ipython",
    "version": 3
   },
   "file_extension": ".py",
   "mimetype": "text/x-python",
   "name": "python",
   "nbconvert_exporter": "python",
   "pygments_lexer": "ipython3",
   "version": "3.10.8"
  }
 },
 "nbformat": 4,
 "nbformat_minor": 5
}
