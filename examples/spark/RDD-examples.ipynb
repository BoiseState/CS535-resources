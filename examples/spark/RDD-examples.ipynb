{
 "cells": [
  {
   "cell_type": "code",
   "execution_count": 1,
   "id": "dc796f36-9005-4db9-9a7a-2552fc03ab3a",
   "metadata": {},
   "outputs": [
    {
     "name": "stdout",
     "output_type": "stream",
     "text": [
      "Defaulting to user installation because normal site-packages is not writeable\n",
      "Requirement already satisfied: findspark in /home/amit/.local/lib/python3.10/site-packages (2.0.1)\n"
     ]
    }
   ],
   "source": [
    "!pip install findspark"
   ]
  },
  {
   "cell_type": "code",
   "execution_count": 2,
   "id": "fb13a3ec-5e23-4f62-8ef4-8ce20de8661e",
   "metadata": {},
   "outputs": [
    {
     "name": "stdout",
     "output_type": "stream",
     "text": [
      "Defaulting to user installation because normal site-packages is not writeable\n",
      "Requirement already satisfied: pyspark in /home/amit/.local/lib/python3.10/site-packages (3.4.1)\n",
      "Requirement already satisfied: py4j==0.10.9.7 in /home/amit/.local/lib/python3.10/site-packages (from pyspark) (0.10.9.7)\n"
     ]
    }
   ],
   "source": [
    "!pip install pyspark"
   ]
  },
  {
   "cell_type": "code",
   "execution_count": 22,
   "id": "be3d1131-71d8-46fa-9b3a-e30438bf2031",
   "metadata": {},
   "outputs": [],
   "source": [
    "from pyspark import SparkContext, SparkConf"
   ]
  },
  {
   "cell_type": "code",
   "execution_count": 23,
   "id": "c84ca5d3-caa6-4ffb-afd9-47e4ddbedbfb",
   "metadata": {},
   "outputs": [],
   "source": [
    "conf = SparkConf().setAppName(\"test\").setMaster(\"local[*]\")\n",
    "sc = SparkContext(conf=conf)"
   ]
  },
  {
   "cell_type": "code",
   "execution_count": 24,
   "id": "b27fff35-71b1-40da-b2d3-98f68664a22e",
   "metadata": {},
   "outputs": [],
   "source": [
    "data=[1,2,3,4,5]"
   ]
  },
  {
   "cell_type": "code",
   "execution_count": 25,
   "id": "32d9d6ce-400f-45c8-9ba6-6b626a233d02",
   "metadata": {},
   "outputs": [],
   "source": [
    "distData=sc.parallelize(data, 2)"
   ]
  },
  {
   "cell_type": "code",
   "execution_count": 26,
   "id": "fc1cdb30-653e-4e96-9c27-2aaf1b73f55a",
   "metadata": {},
   "outputs": [],
   "source": [
    "lines=sc.textFile(\"word-count/input/Alice-in-Wonderland.txt\");"
   ]
  },
  {
   "cell_type": "code",
   "execution_count": 27,
   "id": "26cd9401-bf56-4aaa-a2e5-66ec53b1d1f3",
   "metadata": {},
   "outputs": [],
   "source": [
    "lineLengths = lines.map(lambda s: len(s))"
   ]
  },
  {
   "cell_type": "code",
   "execution_count": 28,
   "id": "8c8df247-7a8b-421c-9212-224aa5202368",
   "metadata": {},
   "outputs": [],
   "source": [
    "totalLength = lineLengths.reduce(lambda a,b: a + b)"
   ]
  },
  {
   "cell_type": "code",
   "execution_count": 29,
   "id": "9443858a-5514-43fe-b1f7-c4a7ba039cf8",
   "metadata": {},
   "outputs": [
    {
     "name": "stdout",
     "output_type": "stream",
     "text": [
      "154475\n"
     ]
    }
   ],
   "source": [
    "print(totalLength)"
   ]
  },
  {
   "cell_type": "code",
   "execution_count": 33,
   "id": "7f410eb4-fbb5-4177-947c-a3c5b9d4c200",
   "metadata": {},
   "outputs": [
    {
     "data": {
      "text/plain": [
       "PythonRDD[7] at RDD at PythonRDD.scala:53"
      ]
     },
     "execution_count": 33,
     "metadata": {},
     "output_type": "execute_result"
    }
   ],
   "source": [
    "distData.map(print)"
   ]
  },
  {
   "cell_type": "code",
   "execution_count": 41,
   "id": "f32b6917-6e19-4ad3-a31a-aacf9420df74",
   "metadata": {},
   "outputs": [
    {
     "name": "stderr",
     "output_type": "stream",
     "text": [
      "3\n",
      "4\n",
      "5\n",
      "1\n",
      "2\n"
     ]
    }
   ],
   "source": [
    "distData.foreach(print)"
   ]
  },
  {
   "cell_type": "code",
   "execution_count": 43,
   "id": "403b8720-7462-4c6e-8082-ce07b679265f",
   "metadata": {},
   "outputs": [],
   "source": [
    "coll = distData.collect()"
   ]
  },
  {
   "cell_type": "code",
   "execution_count": 44,
   "id": "c1a0fd64-bd64-4a3c-a3f9-bdde98ebca48",
   "metadata": {},
   "outputs": [
    {
     "name": "stdout",
     "output_type": "stream",
     "text": [
      "1\n",
      "2\n",
      "3\n",
      "4\n",
      "5\n"
     ]
    }
   ],
   "source": [
    "for val in coll:\n",
    "    print(val)"
   ]
  },
  {
   "cell_type": "code",
   "execution_count": 45,
   "id": "0a4c898e-4ad0-4a52-bd93-faab3b43591b",
   "metadata": {},
   "outputs": [],
   "source": [
    "pairs = lines.map(lambda s: (s, 1))"
   ]
  },
  {
   "cell_type": "code",
   "execution_count": 46,
   "id": "74c1a1a9-9984-43b0-baed-652a429f4d3c",
   "metadata": {},
   "outputs": [],
   "source": [
    "counts = pairs.reduceByKey(lambda a, b: a + b)"
   ]
  },
  {
   "cell_type": "code",
   "execution_count": null,
   "id": "929c8b10-b9b8-4f01-963c-797ce8abef44",
   "metadata": {},
   "outputs": [],
   "source": []
  }
 ],
 "metadata": {
  "kernelspec": {
   "display_name": "Python 3 (ipykernel)",
   "language": "python",
   "name": "python3"
  },
  "language_info": {
   "codemirror_mode": {
    "name": "ipython",
    "version": 3
   },
   "file_extension": ".py",
   "mimetype": "text/x-python",
   "name": "python",
   "nbconvert_exporter": "python",
   "pygments_lexer": "ipython3",
   "version": "3.10.8"
  }
 },
 "nbformat": 4,
 "nbformat_minor": 5
}
