{
 "cells": [
  {
   "cell_type": "markdown",
   "id": "c44c5036-7ec2-4a29-9423-28900307a592",
   "metadata": {},
   "source": [
    "# Python RDD Playground"
   ]
  },
  {
   "cell_type": "markdown",
   "id": "d3df0917-8e9e-42ed-8f91-f67e0d37693d",
   "metadata": {},
   "source": [
    "## Initialize Spark"
   ]
  },
  {
   "cell_type": "code",
   "execution_count": 1,
   "id": "dc796f36-9005-4db9-9a7a-2552fc03ab3a",
   "metadata": {},
   "outputs": [
    {
     "name": "stdout",
     "output_type": "stream",
     "text": [
      "Defaulting to user installation because normal site-packages is not writeable\n",
      "Requirement already satisfied: findspark in /home/amit/.local/lib/python3.10/site-packages (2.0.1)\n"
     ]
    }
   ],
   "source": [
    "!pip install findspark"
   ]
  },
  {
   "cell_type": "code",
   "execution_count": 2,
   "id": "fb13a3ec-5e23-4f62-8ef4-8ce20de8661e",
   "metadata": {},
   "outputs": [
    {
     "name": "stdout",
     "output_type": "stream",
     "text": [
      "Defaulting to user installation because normal site-packages is not writeable\n",
      "Requirement already satisfied: pyspark==3.4.1 in /home/amit/.local/lib/python3.10/site-packages (3.4.1)\n",
      "Requirement already satisfied: py4j==0.10.9.7 in /home/amit/.local/lib/python3.10/site-packages (from pyspark==3.4.1) (0.10.9.7)\n"
     ]
    }
   ],
   "source": [
    "!pip install pyspark==3.4.1"
   ]
  },
  {
   "cell_type": "code",
   "execution_count": 3,
   "id": "be3d1131-71d8-46fa-9b3a-e30438bf2031",
   "metadata": {},
   "outputs": [],
   "source": [
    "from pyspark import SparkContext, SparkConf"
   ]
  },
  {
   "cell_type": "code",
   "execution_count": 4,
   "id": "c84ca5d3-caa6-4ffb-afd9-47e4ddbedbfb",
   "metadata": {
    "scrolled": true
   },
   "outputs": [
    {
     "name": "stderr",
     "output_type": "stream",
     "text": [
      "Setting default log level to \"WARN\".\n",
      "To adjust logging level use sc.setLogLevel(newLevel). For SparkR, use setLogLevel(newLevel).\n",
      "23/11/02 22:44:35 WARN NativeCodeLoader: Unable to load native-hadoop library for your platform... using builtin-java classes where applicable\n"
     ]
    }
   ],
   "source": [
    "conf = SparkConf().setAppName(\"test\").setMaster(\"local[*]\")\n",
    "sc = SparkContext(conf=conf)"
   ]
  },
  {
   "cell_type": "markdown",
   "id": "c7b0abff-d75d-4936-b5de-73cba813fe48",
   "metadata": {},
   "source": [
    "## Basic Operations"
   ]
  },
  {
   "cell_type": "code",
   "execution_count": 5,
   "id": "b27fff35-71b1-40da-b2d3-98f68664a22e",
   "metadata": {},
   "outputs": [],
   "source": [
    "data=[1,2,3,4,5,6,7,8,9,10]"
   ]
  },
  {
   "cell_type": "code",
   "execution_count": 6,
   "id": "32d9d6ce-400f-45c8-9ba6-6b626a233d02",
   "metadata": {},
   "outputs": [],
   "source": [
    "rdd1=sc.parallelize(data)"
   ]
  },
  {
   "cell_type": "code",
   "execution_count": 7,
   "id": "8482198b-082a-4b07-9a1a-c42676b6d922",
   "metadata": {},
   "outputs": [],
   "source": [
    "rdd2 = rdd1.map(lambda x: x+1)"
   ]
  },
  {
   "cell_type": "code",
   "execution_count": 8,
   "id": "011470ba-c9f2-455a-82a9-c9a3c43af0b8",
   "metadata": {},
   "outputs": [
    {
     "data": {
      "text/plain": [
       "[2, 3, 4, 5, 6, 7, 8, 9, 10, 11]"
      ]
     },
     "execution_count": 8,
     "metadata": {},
     "output_type": "execute_result"
    }
   ],
   "source": [
    "rdd2.take(10)"
   ]
  },
  {
   "cell_type": "code",
   "execution_count": 9,
   "id": "976bbe07-6dc1-4473-a7e4-8a8a77d3da7e",
   "metadata": {},
   "outputs": [
    {
     "name": "stderr",
     "output_type": "stream",
     "text": [
      "6\n",
      "7\n",
      "2\n",
      "3\n",
      "8\n",
      "9\n",
      "10\n",
      "11\n",
      "4\n",
      "5\n"
     ]
    }
   ],
   "source": [
    "rdd2.foreach(print)"
   ]
  },
  {
   "cell_type": "code",
   "execution_count": 10,
   "id": "403b8720-7462-4c6e-8082-ce07b679265f",
   "metadata": {},
   "outputs": [],
   "source": [
    "coll = rdd2.collect()"
   ]
  },
  {
   "cell_type": "code",
   "execution_count": 11,
   "id": "c1a0fd64-bd64-4a3c-a3f9-bdde98ebca48",
   "metadata": {},
   "outputs": [
    {
     "name": "stdout",
     "output_type": "stream",
     "text": [
      "2\n",
      "3\n",
      "4\n",
      "5\n",
      "6\n",
      "7\n",
      "8\n",
      "9\n",
      "10\n",
      "11\n"
     ]
    }
   ],
   "source": [
    "for val in coll:\n",
    "    print(val)"
   ]
  },
  {
   "cell_type": "code",
   "execution_count": 12,
   "id": "e7d78d03-50dd-4ffd-b9b5-6eec88c624fc",
   "metadata": {},
   "outputs": [],
   "source": [
    "rdd3 = rdd1.filter(lambda x : x % 2 == 0)"
   ]
  },
  {
   "cell_type": "code",
   "execution_count": 13,
   "id": "54cb0330-658d-40d3-b72b-da83af6532ee",
   "metadata": {},
   "outputs": [
    {
     "data": {
      "text/plain": [
       "[2, 4, 6, 8, 10]"
      ]
     },
     "execution_count": 13,
     "metadata": {},
     "output_type": "execute_result"
    }
   ],
   "source": [
    "rdd3.take(5)"
   ]
  },
  {
   "cell_type": "code",
   "execution_count": 14,
   "id": "3c6e8fa3-573d-4794-ad55-9e545e679eef",
   "metadata": {},
   "outputs": [
    {
     "name": "stderr",
     "output_type": "stream",
     "text": [
      "2\n",
      "4\n",
      "6\n",
      "8\n",
      "10\n"
     ]
    }
   ],
   "source": [
    "rdd3.foreach(print)"
   ]
  },
  {
   "cell_type": "code",
   "execution_count": 15,
   "id": "bc98b51a-a1b0-4886-8296-24f89124a0ca",
   "metadata": {},
   "outputs": [],
   "source": [
    "rdd4 = sc.parallelize([1, 2, 2, 3, 3, 3, 4])"
   ]
  },
  {
   "cell_type": "code",
   "execution_count": 16,
   "id": "f273f6a8-fdf0-4331-80c4-f958c89e8f61",
   "metadata": {},
   "outputs": [],
   "source": [
    "rdd5 = rdd4.distinct()"
   ]
  },
  {
   "cell_type": "code",
   "execution_count": 17,
   "id": "6956450a-f966-4126-ac55-75bd68a20242",
   "metadata": {},
   "outputs": [
    {
     "name": "stderr",
     "output_type": "stream",
     "text": [
      "4\n",
      "3\n",
      "1\n",
      "2\n"
     ]
    }
   ],
   "source": [
    "rdd5.foreach(print)"
   ]
  },
  {
   "cell_type": "markdown",
   "id": "3a0fe20d-a0b9-41a3-b027-d02825c7e4c4",
   "metadata": {},
   "source": [
    "## Nested Lists"
   ]
  },
  {
   "cell_type": "code",
   "execution_count": 18,
   "id": "c6bc857f-6429-4e51-8d42-f72ee98c2f01",
   "metadata": {},
   "outputs": [],
   "source": [
    "x = [[1,2,3],[2,3],[3],[3]]"
   ]
  },
  {
   "cell_type": "code",
   "execution_count": 19,
   "id": "f2fa0fc5-0f72-42e2-9a92-4090d32a710d",
   "metadata": {},
   "outputs": [
    {
     "name": "stdout",
     "output_type": "stream",
     "text": [
      "[[1, 2, 3], [2, 3], [3], [3]]\n"
     ]
    }
   ],
   "source": [
    "print(x)"
   ]
  },
  {
   "cell_type": "code",
   "execution_count": 20,
   "id": "26c77185-b267-4a6c-a5e2-d73863bc870e",
   "metadata": {},
   "outputs": [],
   "source": [
    "rdd6 = sc.parallelize(x)"
   ]
  },
  {
   "cell_type": "code",
   "execution_count": 21,
   "id": "608f4c52-2f77-4103-8c59-836908db4049",
   "metadata": {},
   "outputs": [],
   "source": [
    "rdd7 = rdd6.flatMap(lambda xs : [x for x in xs])"
   ]
  },
  {
   "cell_type": "code",
   "execution_count": 22,
   "id": "bddb9d61-3c8a-41a4-9371-8a8448f0a8dd",
   "metadata": {},
   "outputs": [
    {
     "data": {
      "text/plain": [
       "[1, 2, 3, 2, 3, 3, 3]"
      ]
     },
     "execution_count": 22,
     "metadata": {},
     "output_type": "execute_result"
    }
   ],
   "source": [
    "rdd7.collect()"
   ]
  },
  {
   "cell_type": "markdown",
   "id": "28c4fb93-5efd-4da2-9af2-57fa8a83bb8b",
   "metadata": {},
   "source": [
    "## Wordcount in Spark!"
   ]
  },
  {
   "cell_type": "code",
   "execution_count": 23,
   "id": "fc1cdb30-653e-4e96-9c27-2aaf1b73f55a",
   "metadata": {},
   "outputs": [],
   "source": [
    "lines=sc.textFile(\"word-count/input/Complete-Shakespeare.txt\")"
   ]
  },
  {
   "cell_type": "code",
   "execution_count": 24,
   "id": "c25ab562-efba-4b6e-bc8a-b355c49fddab",
   "metadata": {},
   "outputs": [],
   "source": [
    "rdd8 = lines.flatMap(lambda s : s.split(\" \"))"
   ]
  },
  {
   "cell_type": "code",
   "execution_count": 25,
   "id": "ef980006-dbd4-4279-89bb-1b6c5978b945",
   "metadata": {},
   "outputs": [
    {
     "data": {
      "text/plain": [
       "['This', 'is', 'the', '100th']"
      ]
     },
     "execution_count": 25,
     "metadata": {},
     "output_type": "execute_result"
    }
   ],
   "source": [
    "rdd8.take(4)"
   ]
  },
  {
   "cell_type": "code",
   "execution_count": 26,
   "id": "5acf92a4-2371-45a5-9811-2ee32945c34e",
   "metadata": {},
   "outputs": [],
   "source": [
    "rdd9 = rdd8.map(lambda s: (s, 1))"
   ]
  },
  {
   "cell_type": "code",
   "execution_count": 27,
   "id": "0c7c7b8e-aecb-407e-8315-dedee4c6709a",
   "metadata": {},
   "outputs": [
    {
     "data": {
      "text/plain": [
       "[('This', 1), ('is', 1)]"
      ]
     },
     "execution_count": 27,
     "metadata": {},
     "output_type": "execute_result"
    }
   ],
   "source": [
    "rdd9.take(2)"
   ]
  },
  {
   "cell_type": "code",
   "execution_count": 28,
   "id": "fbc48b71-f7fc-4d54-ba3b-2878bdf97f82",
   "metadata": {},
   "outputs": [],
   "source": [
    "counts = rdd9.reduceByKey(lambda a, b: a+b)"
   ]
  },
  {
   "cell_type": "code",
   "execution_count": 29,
   "id": "9dc42f10-bbea-4aa2-809d-39182a883dda",
   "metadata": {},
   "outputs": [
    {
     "data": {
      "text/plain": [
       "[('is', 7851), ('Etext', 4)]"
      ]
     },
     "execution_count": 29,
     "metadata": {},
     "output_type": "execute_result"
    }
   ],
   "source": [
    "counts.take(2)"
   ]
  },
  {
   "cell_type": "code",
   "execution_count": 30,
   "id": "0184b5fd-edb4-4208-aeef-d33636350775",
   "metadata": {},
   "outputs": [],
   "source": [
    "s = counts.sample(False, 0.01)"
   ]
  },
  {
   "cell_type": "code",
   "execution_count": 31,
   "id": "60f27c4e-3d17-4882-8e27-5ddd5629c56b",
   "metadata": {},
   "outputs": [
    {
     "data": {
      "text/plain": [
       "687"
      ]
     },
     "execution_count": 31,
     "metadata": {},
     "output_type": "execute_result"
    }
   ],
   "source": [
    "s.count()"
   ]
  },
  {
   "cell_type": "code",
   "execution_count": 32,
   "id": "bc5d8230-b478-4878-8056-ba299610f0f6",
   "metadata": {},
   "outputs": [
    {
     "data": {
      "text/plain": [
       "[('Project', 13),\n",
       " ('GUTENBERG', 221),\n",
       " ('YOU', 31),\n",
       " ('do', 2835),\n",
       " ('etext/etext93]', 1),\n",
       " ('money', 92),\n",
       " ('Will', 454),\n",
       " ('Then', 581),\n",
       " ('low', 60),\n",
       " ('belongs', 14)]"
      ]
     },
     "execution_count": 32,
     "metadata": {},
     "output_type": "execute_result"
    }
   ],
   "source": [
    "s.take(10)"
   ]
  },
  {
   "cell_type": "markdown",
   "id": "4e41136c-2b24-4019-a528-0eae4eea6ef8",
   "metadata": {},
   "source": [
    "## Sampling"
   ]
  },
  {
   "cell_type": "code",
   "execution_count": 33,
   "id": "3aa5841e-07a1-43bd-9f1f-3d5614a23937",
   "metadata": {},
   "outputs": [],
   "source": [
    "rdd9 = sc.parallelize([1, 2, 3, 2, 3, 4, 5, 6, 6])"
   ]
  },
  {
   "cell_type": "markdown",
   "id": "c8e6760a-a4ca-4345-bc7e-f20972ead6bc",
   "metadata": {},
   "source": [
    "Run the sample command below twice to see how it is random. The first arguments is whether to sample with replacement or without. We chose without."
   ]
  },
  {
   "cell_type": "code",
   "execution_count": 34,
   "id": "da0d1065-0a7f-4179-9022-ebe2f57a8fb2",
   "metadata": {},
   "outputs": [],
   "source": [
    "s = rdd9.sample(False, 0.5)"
   ]
  },
  {
   "cell_type": "code",
   "execution_count": 35,
   "id": "70184652-32a8-4e8e-8314-ef5d308aa659",
   "metadata": {},
   "outputs": [
    {
     "data": {
      "text/plain": [
       "[1, 2, 4, 5, 6]"
      ]
     },
     "execution_count": 35,
     "metadata": {},
     "output_type": "execute_result"
    }
   ],
   "source": [
    "s.collect()"
   ]
  },
  {
   "cell_type": "markdown",
   "id": "30f8a186-a45b-4192-bfff-9ac74426accc",
   "metadata": {},
   "source": [
    "With the seed argument (third), the sample is the same each time we run the code."
   ]
  },
  {
   "cell_type": "code",
   "execution_count": 36,
   "id": "c40655d8-2c2e-4446-8d6d-b1cb2c57fd34",
   "metadata": {},
   "outputs": [],
   "source": [
    "s = rdd9.sample(False, 0.5, 12345)"
   ]
  },
  {
   "cell_type": "code",
   "execution_count": 37,
   "id": "13f80199-51ba-4408-a6b1-ca3ebb4c29eb",
   "metadata": {},
   "outputs": [
    {
     "data": {
      "text/plain": [
       "[2, 2, 3, 5, 6]"
      ]
     },
     "execution_count": 37,
     "metadata": {},
     "output_type": "execute_result"
    }
   ],
   "source": [
    "s.collect()"
   ]
  },
  {
   "cell_type": "markdown",
   "id": "da109dc2-750d-458b-b471-e872bba51cd8",
   "metadata": {},
   "source": [
    "## Set Operations \n",
    "### (Union, Intersection, Subtraction, Cartesian Product)"
   ]
  },
  {
   "cell_type": "code",
   "execution_count": 38,
   "id": "6ffc2b99-0ce2-4e03-a4de-a80ee8605633",
   "metadata": {},
   "outputs": [],
   "source": [
    "set1 = sc.parallelize([1,2,3])"
   ]
  },
  {
   "cell_type": "code",
   "execution_count": 39,
   "id": "464e3b1f-71f4-4bc4-b898-519b3acbed7c",
   "metadata": {},
   "outputs": [],
   "source": [
    "set2 = sc.parallelize([3,4,5])"
   ]
  },
  {
   "cell_type": "code",
   "execution_count": 40,
   "id": "355f757e-94cb-4a56-891d-1c2b8aca8a94",
   "metadata": {},
   "outputs": [],
   "source": [
    "set3 = set1.union(set2)"
   ]
  },
  {
   "cell_type": "code",
   "execution_count": 41,
   "id": "909632eb-7b2d-4a1a-bd5f-caf7d838bf69",
   "metadata": {},
   "outputs": [
    {
     "data": {
      "text/plain": [
       "[1, 2, 3, 3, 4, 5]"
      ]
     },
     "execution_count": 41,
     "metadata": {},
     "output_type": "execute_result"
    }
   ],
   "source": [
    "set3.collect()"
   ]
  },
  {
   "cell_type": "code",
   "execution_count": 42,
   "id": "d28f7356-59d5-435a-838b-2d55d9a8b5c0",
   "metadata": {},
   "outputs": [],
   "source": [
    "set3 = set1.intersection(set2)"
   ]
  },
  {
   "cell_type": "code",
   "execution_count": 43,
   "id": "21a86fb6-11b4-41fe-8b29-3e9a7042d0e8",
   "metadata": {},
   "outputs": [
    {
     "data": {
      "text/plain": [
       "[3]"
      ]
     },
     "execution_count": 43,
     "metadata": {},
     "output_type": "execute_result"
    }
   ],
   "source": [
    "set3.collect()"
   ]
  },
  {
   "cell_type": "code",
   "execution_count": 44,
   "id": "ed8060d1-4d2e-4f96-9c68-1abc52aef755",
   "metadata": {},
   "outputs": [],
   "source": [
    "set3 = set1.subtract(set2)"
   ]
  },
  {
   "cell_type": "code",
   "execution_count": 45,
   "id": "feee0864-ee5a-413b-b163-a22e370174d2",
   "metadata": {},
   "outputs": [
    {
     "data": {
      "text/plain": [
       "[1, 2]"
      ]
     },
     "execution_count": 45,
     "metadata": {},
     "output_type": "execute_result"
    }
   ],
   "source": [
    "set3.collect()"
   ]
  },
  {
   "cell_type": "code",
   "execution_count": 46,
   "id": "0ea500ec-5225-4cf6-9bd0-7e73966fffe2",
   "metadata": {},
   "outputs": [],
   "source": [
    "set3 = set1.cartesian(set2)"
   ]
  },
  {
   "cell_type": "code",
   "execution_count": 47,
   "id": "1239bd43-4ad9-4548-8aa1-a815afc125f0",
   "metadata": {},
   "outputs": [
    {
     "data": {
      "text/plain": [
       "[(1, 3), (1, 4), (1, 5), (2, 3), (2, 4), (2, 5), (3, 3), (3, 4), (3, 5)]"
      ]
     },
     "execution_count": 47,
     "metadata": {},
     "output_type": "execute_result"
    }
   ],
   "source": [
    "set3.collect()"
   ]
  },
  {
   "cell_type": "markdown",
   "id": "9db321ce-f507-4066-864f-79c751bae752",
   "metadata": {},
   "source": [
    "## Playing with Pairs"
   ]
  },
  {
   "cell_type": "code",
   "execution_count": 48,
   "id": "25007530-6aa3-4172-a337-8c80173d14cb",
   "metadata": {},
   "outputs": [],
   "source": [
    "set4 = set3.groupByKey()"
   ]
  },
  {
   "cell_type": "code",
   "execution_count": 49,
   "id": "f1ed761b-682f-45ce-b8e5-1223a5c68948",
   "metadata": {},
   "outputs": [
    {
     "name": "stderr",
     "output_type": "stream",
     "text": [
      "(3, <pyspark.resultiterable.ResultIterable object at 0xffff98518220>)\n",
      "(1, <pyspark.resultiterable.ResultIterable object at 0xffff9851a500>)\n",
      "(2, <pyspark.resultiterable.ResultIterable object at 0xffff98519e40>)\n"
     ]
    }
   ],
   "source": [
    "set4.foreach(print)"
   ]
  },
  {
   "cell_type": "code",
   "execution_count": 50,
   "id": "383c2b46-70fd-4bd7-8dbe-035c1d45c85f",
   "metadata": {},
   "outputs": [],
   "source": [
    "set5 = set3.mapValues(lambda x: x * 10)"
   ]
  },
  {
   "cell_type": "code",
   "execution_count": 51,
   "id": "c9f6fd5d-7330-44c7-bd8d-29dcdbc1b619",
   "metadata": {},
   "outputs": [
    {
     "data": {
      "text/plain": [
       "[(1, 30), (1, 40), (1, 50)]"
      ]
     },
     "execution_count": 51,
     "metadata": {},
     "output_type": "execute_result"
    }
   ],
   "source": [
    "set5.take(3)"
   ]
  },
  {
   "cell_type": "code",
   "execution_count": 52,
   "id": "194305b9-b447-4f8d-a365-cd3c250946e0",
   "metadata": {},
   "outputs": [],
   "source": [
    "set6 = set3.sortByKey(False)"
   ]
  },
  {
   "cell_type": "code",
   "execution_count": 53,
   "id": "780a3d13-1c48-45b6-977a-859e479307a1",
   "metadata": {},
   "outputs": [
    {
     "data": {
      "text/plain": [
       "[(3, 3), (3, 4), (3, 5), (2, 3), (2, 4), (2, 5), (1, 3), (1, 4), (1, 5)]"
      ]
     },
     "execution_count": 53,
     "metadata": {},
     "output_type": "execute_result"
    }
   ],
   "source": [
    "set6.collect()"
   ]
  },
  {
   "cell_type": "code",
   "execution_count": 54,
   "id": "71c738d5-e034-432b-bb14-935b936dbd2a",
   "metadata": {},
   "outputs": [],
   "source": [
    "set7 = set3.keys()"
   ]
  },
  {
   "cell_type": "code",
   "execution_count": 55,
   "id": "bf8d679f-0133-44c6-bea8-5fc2f2bd02ce",
   "metadata": {},
   "outputs": [
    {
     "data": {
      "text/plain": [
       "[1, 1, 1, 2, 2, 2, 3, 3, 3]"
      ]
     },
     "execution_count": 55,
     "metadata": {},
     "output_type": "execute_result"
    }
   ],
   "source": [
    "set7.collect()"
   ]
  },
  {
   "cell_type": "code",
   "execution_count": 56,
   "id": "467897f1-cb97-4502-ab24-64986ba888c5",
   "metadata": {},
   "outputs": [
    {
     "data": {
      "text/plain": [
       "[1, 2, 3]"
      ]
     },
     "execution_count": 56,
     "metadata": {},
     "output_type": "execute_result"
    }
   ],
   "source": [
    "set7.distinct().collect()"
   ]
  },
  {
   "cell_type": "code",
   "execution_count": 57,
   "id": "8cb4eaf3-d392-45a6-8497-0f72913fd6f6",
   "metadata": {},
   "outputs": [],
   "source": [
    "set8 = set3.values()"
   ]
  },
  {
   "cell_type": "code",
   "execution_count": 58,
   "id": "6fd772e5-1335-43bb-9e6c-87804ca2dbbb",
   "metadata": {},
   "outputs": [
    {
     "data": {
      "text/plain": [
       "[3, 4, 5, 3, 4, 5, 3, 4, 5]"
      ]
     },
     "execution_count": 58,
     "metadata": {},
     "output_type": "execute_result"
    }
   ],
   "source": [
    "set8.collect()"
   ]
  },
  {
   "cell_type": "markdown",
   "id": "8a1b7589-8ca4-4e73-b512-2314f1cd7941",
   "metadata": {},
   "source": [
    "# Whole Text Files"
   ]
  },
  {
   "cell_type": "markdown",
   "id": "471c22bb-a816-489b-849b-da00f2527b28",
   "metadata": {},
   "source": []
  },
  {
   "cell_type": "code",
   "execution_count": 59,
   "id": "6620a558-7ddc-4764-bd9c-9fd1e1060911",
   "metadata": {},
   "outputs": [],
   "source": [
    "folder = sc.wholeTextFiles('word-count/input')"
   ]
  },
  {
   "cell_type": "code",
   "execution_count": 60,
   "id": "cbf9e0cf-b759-454a-995d-76771f551d30",
   "metadata": {},
   "outputs": [],
   "source": [
    "files = folder.keys()"
   ]
  },
  {
   "cell_type": "code",
   "execution_count": 61,
   "id": "bc170a42-1bc6-4f34-9c8e-bb78af4da873",
   "metadata": {},
   "outputs": [
    {
     "data": {
      "text/plain": [
       "['file:/home/amit/Documents/CS535-resources/examples/spark/word-count/input/Alice-in-Wonderland.txt',\n",
       " 'file:/home/amit/Documents/CS535-resources/examples/spark/word-count/input/Bill-of-Rights.txt',\n",
       " 'file:/home/amit/Documents/CS535-resources/examples/spark/word-count/input/Complete-Shakespeare.txt',\n",
       " 'file:/home/amit/Documents/CS535-resources/examples/spark/word-count/input/Decl-of-Ind-USA.txt',\n",
       " 'file:/home/amit/Documents/CS535-resources/examples/spark/word-count/input/Encyclopaedia.txt',\n",
       " 'file:/home/amit/Documents/CS535-resources/examples/spark/word-count/input/Flatland.txt',\n",
       " 'file:/home/amit/Documents/CS535-resources/examples/spark/word-count/input/Gettysburg-Address.txt',\n",
       " 'file:/home/amit/Documents/CS535-resources/examples/spark/word-count/input/Gift-of-the-Magi.txt',\n",
       " 'file:/home/amit/Documents/CS535-resources/examples/spark/word-count/input/Les-Miserables.txt',\n",
       " 'file:/home/amit/Documents/CS535-resources/examples/spark/word-count/input/Patrick-Henry.txt',\n",
       " 'file:/home/amit/Documents/CS535-resources/examples/spark/word-count/input/Scarlet-Letter.txt',\n",
       " 'file:/home/amit/Documents/CS535-resources/examples/spark/word-count/input/Through-the-Looking-Glass.txt',\n",
       " 'file:/home/amit/Documents/CS535-resources/examples/spark/word-count/input/Tom-Sawyer-Abroad.txt',\n",
       " 'file:/home/amit/Documents/CS535-resources/examples/spark/word-count/input/US-Constitution.txt']"
      ]
     },
     "execution_count": 61,
     "metadata": {},
     "output_type": "execute_result"
    }
   ],
   "source": [
    "files.collect()"
   ]
  },
  {
   "cell_type": "code",
   "execution_count": 65,
   "id": "189bbed2-ea44-47de-9db7-5d3530378bea",
   "metadata": {},
   "outputs": [],
   "source": [
    "import os\n",
    "names = files.map(lambda s : os.path.basename(s))"
   ]
  },
  {
   "cell_type": "code",
   "execution_count": 66,
   "id": "5f4122ed-e12f-4fe3-b367-1a7cad11b5e4",
   "metadata": {},
   "outputs": [
    {
     "data": {
      "text/plain": [
       "['Alice-in-Wonderland.txt',\n",
       " 'Bill-of-Rights.txt',\n",
       " 'Complete-Shakespeare.txt',\n",
       " 'Decl-of-Ind-USA.txt',\n",
       " 'Encyclopaedia.txt',\n",
       " 'Flatland.txt',\n",
       " 'Gettysburg-Address.txt',\n",
       " 'Gift-of-the-Magi.txt',\n",
       " 'Les-Miserables.txt',\n",
       " 'Patrick-Henry.txt',\n",
       " 'Scarlet-Letter.txt',\n",
       " 'Through-the-Looking-Glass.txt',\n",
       " 'Tom-Sawyer-Abroad.txt',\n",
       " 'US-Constitution.txt']"
      ]
     },
     "execution_count": 66,
     "metadata": {},
     "output_type": "execute_result"
    }
   ],
   "source": [
    "names.collect()"
   ]
  },
  {
   "cell_type": "code",
   "execution_count": 67,
   "id": "858e5c9e-044c-4d1f-ac53-e709014f95af",
   "metadata": {},
   "outputs": [],
   "source": [
    "content = folder.values()"
   ]
  },
  {
   "cell_type": "code",
   "execution_count": 69,
   "id": "9432497d-fb73-4896-a048-3741e7cf59db",
   "metadata": {},
   "outputs": [
    {
     "data": {
      "text/plain": [
       "14"
      ]
     },
     "execution_count": 69,
     "metadata": {},
     "output_type": "execute_result"
    }
   ],
   "source": [
    "content.count()"
   ]
  },
  {
   "cell_type": "code",
   "execution_count": 70,
   "id": "8a57edee-0b7a-4726-9011-11a33bd89067",
   "metadata": {},
   "outputs": [],
   "source": [
    "sizes = content.map(lambda s : len(s))"
   ]
  },
  {
   "cell_type": "code",
   "execution_count": 71,
   "id": "25f5d66b-fba6-4b0f-ab1d-8c9f7e7fa288",
   "metadata": {},
   "outputs": [
    {
     "data": {
      "text/plain": [
       "[158315,\n",
       " 10641,\n",
       " 5458248,\n",
       " 15890,\n",
       " 8441343,\n",
       " 203918,\n",
       " 1688,\n",
       " 21421,\n",
       " 3263187,\n",
       " 14678,\n",
       " 517303,\n",
       " 178845,\n",
       " 183972,\n",
       " 34553]"
      ]
     },
     "execution_count": 71,
     "metadata": {},
     "output_type": "execute_result"
    }
   ],
   "source": [
    "sizes.collect()"
   ]
  },
  {
   "cell_type": "code",
   "execution_count": null,
   "id": "c9244b78-3880-4f48-955f-f2e88f5fa1ac",
   "metadata": {},
   "outputs": [],
   "source": []
  }
 ],
 "metadata": {
  "kernelspec": {
   "display_name": "Python 3 (ipykernel)",
   "language": "python",
   "name": "python3"
  },
  "language_info": {
   "codemirror_mode": {
    "name": "ipython",
    "version": 3
   },
   "file_extension": ".py",
   "mimetype": "text/x-python",
   "name": "python",
   "nbconvert_exporter": "python",
   "pygments_lexer": "ipython3",
   "version": "3.10.8"
  }
 },
 "nbformat": 4,
 "nbformat_minor": 5
}
