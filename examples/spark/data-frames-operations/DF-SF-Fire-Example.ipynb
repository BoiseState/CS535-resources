{
 "cells": [
  {
   "cell_type": "code",
   "execution_count": 17,
   "id": "8939a316-cc59-4ce9-bb22-cd6fb44ee312",
   "metadata": {},
   "outputs": [],
   "source": [
    "from pyspark.sql.types import *\n",
    "from pyspark.sql import SparkSession\n",
    "from pyspark.sql.functions import *"
   ]
  },
  {
   "cell_type": "code",
   "execution_count": 18,
   "id": "864748a8-ca6b-4ab2-b076-a5e5eedf406a",
   "metadata": {},
   "outputs": [],
   "source": [
    "spark = (SparkSession\n",
    "       .builder\n",
    "       .appName(\"DF SF Fire Example\")\n",
    "       .getOrCreate())"
   ]
  },
  {
   "cell_type": "markdown",
   "id": "f742380a-869d-4904-942d-0d5ca50014f9",
   "metadata": {},
   "source": [
    "# Reading structured data using a schema \n",
    "\n",
    "Spark can infer the schema but that can be costly. Spark can also infer schema from a sample at a lesser cost."
   ]
  },
  {
   "cell_type": "code",
   "execution_count": 19,
   "id": "aaf45dda-b018-4417-99a3-b0d2284ac853",
   "metadata": {},
   "outputs": [],
   "source": [
    "fire_schema =  StructType([StructField('CallNumber', IntegerType(), True),\n",
    "                           StructField('UnitID', StringType(), True),\n",
    "                           StructField('IncidentNumber', IntegerType(), True),\n",
    "                           StructField('CallType', StringType(), True),\n",
    "                           StructField('CallDate', StringType(), True),\n",
    "                           StructField('WatchDate', StringType(), True),\n",
    "                           StructField('CallFinalDisposition', StringType(), True),\n",
    "                           StructField('AvailableDtTm', StringType(), True),\n",
    "                           StructField('Address', StringType(), True),\n",
    "                           StructField('City', StringType(), True),\n",
    "                           StructField('Zipcode', IntegerType(), True),\n",
    "                           StructField('Battalion', StringType(), True),\n",
    "                           StructField('StationArea', StringType(), True),\n",
    "                           StructField('Box', StringType(), True),\n",
    "                           StructField('OriginalPriority', StringType(), True),\n",
    "                           StructField('Priority', StringType(), True),\n",
    "                           StructField('FinalPriority', IntegerType(), True),\n",
    "                           StructField('ALSUnit', BooleanType(), True),\n",
    "                           StructField('CallTypeGroup', StringType(), True),\n",
    "                           StructField('NumAlarms', IntegerType(), True),\n",
    "                           StructField('UnitType', StringType(), True),\n",
    "                           StructField('UnitSequenceInCallDispatch', IntegerType(), True),\n",
    "                           StructField('FirePreventionDistrict', StringType(), True),\n",
    "                           StructField('SupervisorDistrict', StringType(), True),\n",
    "                           StructField('Neighborhood', StringType(), True),\n",
    "                           StructField('Location', StringType(), True),\n",
    "                           StructField('RowID', StringType(), True),\n",
    "                           StructField('Delay', FloatType(), True)])"
   ]
  },
  {
   "cell_type": "code",
   "execution_count": 20,
   "id": "db491811-c40f-43bd-b771-93124a1d3578",
   "metadata": {},
   "outputs": [],
   "source": [
    "sf_fire_file = \"sf-fire/sf-fire-calls.csv\"\n",
    "fire_df = spark.read.csv(sf_fire_file, header=True, schema=fire_schema)"
   ]
  },
  {
   "cell_type": "markdown",
   "id": "717ba388-8752-4971-b6fb-9f4a95fd9d4d",
   "metadata": {},
   "source": [
    "# Projections and Filters"
   ]
  },
  {
   "cell_type": "code",
   "execution_count": 22,
   "id": "d6f1912e-5295-4670-87a2-4092ca9f9eba",
   "metadata": {},
   "outputs": [],
   "source": [
    "few_fire_df = (fire_df.select(\"IncidentNumber\", \"AvailableDtTm\", \"CallType\")\n",
    "                .where(col(\"CallType\") != \"Medical Incident\"))"
   ]
  },
  {
   "cell_type": "code",
   "execution_count": 23,
   "id": "e6585f8a-3190-4b24-b358-ae8a19fb099d",
   "metadata": {},
   "outputs": [
    {
     "name": "stdout",
     "output_type": "stream",
     "text": [
      "+--------------+----------------------+--------------+\n",
      "|IncidentNumber|AvailableDtTm         |CallType      |\n",
      "+--------------+----------------------+--------------+\n",
      "|2003235       |01/11/2002 01:51:44 AM|Structure Fire|\n",
      "|2003250       |01/11/2002 04:16:46 AM|Vehicle Fire  |\n",
      "|2003259       |01/11/2002 06:01:58 AM|Alarms        |\n",
      "|2003279       |01/11/2002 08:03:26 AM|Structure Fire|\n",
      "|2003301       |01/11/2002 09:46:44 AM|Alarms        |\n",
      "+--------------+----------------------+--------------+\n",
      "only showing top 5 rows\n",
      "\n"
     ]
    }
   ],
   "source": [
    "few_fire_df.show(5,False)"
   ]
  },
  {
   "cell_type": "code",
   "execution_count": 27,
   "id": "20a542b3-b6f6-4972-b878-7a64f29c7203",
   "metadata": {},
   "outputs": [
    {
     "name": "stdout",
     "output_type": "stream",
     "text": [
      "+-----------------+\n",
      "|DistinctCallTypes|\n",
      "+-----------------+\n",
      "|30               |\n",
      "+-----------------+\n",
      "\n"
     ]
    }
   ],
   "source": [
    "(fire_df\n",
    " .select(\"CallType\")\n",
    " .where(col(\"CallType\").isNotNull())\n",
    " .agg(countDistinct(\"CallType\").alias(\"DistinctCallTypes\"))\n",
    " .show(truncate=False))\n",
    "      "
   ]
  },
  {
   "cell_type": "code",
   "execution_count": 28,
   "id": "e2559616-a32d-4a75-836b-62b94e10819e",
   "metadata": {},
   "outputs": [
    {
     "name": "stdout",
     "output_type": "stream",
     "text": [
      "+--------------------------------------------+\n",
      "|CallType                                    |\n",
      "+--------------------------------------------+\n",
      "|Elevator / Escalator Rescue                 |\n",
      "|Marine Fire                                 |\n",
      "|Aircraft Emergency                          |\n",
      "|Confined Space / Structure Collapse         |\n",
      "|Administrative                              |\n",
      "|Alarms                                      |\n",
      "|Odor (Strange / Unknown)                    |\n",
      "|Citizen Assist / Service Call               |\n",
      "|HazMat                                      |\n",
      "|Watercraft in Distress                      |\n",
      "|Explosion                                   |\n",
      "|Oil Spill                                   |\n",
      "|Vehicle Fire                                |\n",
      "|Suspicious Package                          |\n",
      "|Extrication / Entrapped (Machinery, Vehicle)|\n",
      "|Other                                       |\n",
      "|Outside Fire                                |\n",
      "|Traffic Collision                           |\n",
      "|Assist Police                               |\n",
      "|Gas Leak (Natural and LP Gases)             |\n",
      "+--------------------------------------------+\n",
      "only showing top 20 rows\n",
      "\n"
     ]
    }
   ],
   "source": [
    "(fire_df\n",
    " .select(\"CallType\")\n",
    " .where(col(\"CallType\").isNotNull())\n",
    " .distinct()\n",
    " .show(truncate=False))"
   ]
  },
  {
   "cell_type": "markdown",
   "id": "f9b0e9c4-d4fb-42a7-9acb-6d0f26c92805",
   "metadata": {},
   "source": [
    "# Renaming, Adding, and Dropping Columns"
   ]
  },
  {
   "cell_type": "markdown",
   "id": "5bfe1232-9d3d-436f-9ff2-b9d15ad04449",
   "metadata": {},
   "source": [
    "Let's change the name of our `Delayed` column to `ResponseDelayedinMins` and take a look at response times\n",
    "that were longer than five minutes."
   ]
  },
  {
   "cell_type": "code",
   "execution_count": 29,
   "id": "69c8798d-371c-489c-b5c9-f68687c3055a",
   "metadata": {},
   "outputs": [],
   "source": [
    "new_fire_df = fire_df.withColumnRenamed(\"Delay\", \"ResponseDelayedinMins\")"
   ]
  },
  {
   "cell_type": "code",
   "execution_count": 10,
   "id": "0c222815-bc40-4874-8038-fcb181b49d5c",
   "metadata": {},
   "outputs": [
    {
     "name": "stdout",
     "output_type": "stream",
     "text": [
      "+---------------------+\n",
      "|ResponseDelayedinMins|\n",
      "+---------------------+\n",
      "|5.35                 |\n",
      "|6.25                 |\n",
      "|5.2                  |\n",
      "|5.6                  |\n",
      "|7.25                 |\n",
      "+---------------------+\n",
      "only showing top 5 rows\n",
      "\n"
     ]
    }
   ],
   "source": [
    "(new_fire_df\n",
    " .select(\"ResponseDelayedinMins\")\n",
    " .where(col(\"ResponseDelayedinMins\") > 5)\n",
    " .show(5, False))"
   ]
  },
  {
   "cell_type": "raw",
   "id": "c6752120-4675-4c72-b21c-bc1c5577e792",
   "metadata": {},
   "source": [
    "More complex date and time manipulations."
   ]
  },
  {
   "cell_type": "code",
   "execution_count": 30,
   "id": "8b523cd9-e494-4db7-8ad8-3a19a95dd7a2",
   "metadata": {},
   "outputs": [],
   "source": [
    "fire_ts_df = (new_fire_df\n",
    "              .withColumn(\"IncidentDate\", to_timestamp(col(\"CallDate\"), \"MM/dd/yyyy\"))\n",
    "              .drop(\"CallDate\")\n",
    "              .withColumn(\"OnWatchDate\", to_timestamp(col(\"WatchDate\"), \"MM/dd/yyyy\"))\n",
    "              .drop(\"WatchDate\")\n",
    "              .withColumn(\"AvailableDtTS\", to_timestamp(col(\"AvailableDtTm\"), \"MM/dd/yyyy hh:mm:ss a\"))\n",
    "              .drop(\"AvailableDtTm\"))\n",
    "              "
   ]
  },
  {
   "cell_type": "code",
   "execution_count": 31,
   "id": "1e851fbb-85eb-4fdd-84ce-84ec44985d7e",
   "metadata": {},
   "outputs": [
    {
     "name": "stdout",
     "output_type": "stream",
     "text": [
      "+-------------------+-------------------+-------------------+\n",
      "|IncidentDate       |OnWatchDate        |AvailableDtTS      |\n",
      "+-------------------+-------------------+-------------------+\n",
      "|2002-01-11 00:00:00|2002-01-10 00:00:00|2002-01-11 01:51:44|\n",
      "|2002-01-11 00:00:00|2002-01-10 00:00:00|2002-01-11 03:01:18|\n",
      "|2002-01-11 00:00:00|2002-01-10 00:00:00|2002-01-11 02:39:50|\n",
      "|2002-01-11 00:00:00|2002-01-10 00:00:00|2002-01-11 04:16:46|\n",
      "|2002-01-11 00:00:00|2002-01-10 00:00:00|2002-01-11 06:01:58|\n",
      "+-------------------+-------------------+-------------------+\n",
      "only showing top 5 rows\n",
      "\n"
     ]
    }
   ],
   "source": [
    "(fire_ts_df\n",
    " .select(\"IncidentDate\", \"OnWatchDate\", \"AvailableDtTS\")\n",
    "         .show(5, False))"
   ]
  },
  {
   "cell_type": "code",
   "execution_count": 32,
   "id": "771a4c49-1d43-4e7b-b546-95d278af419f",
   "metadata": {},
   "outputs": [
    {
     "name": "stdout",
     "output_type": "stream",
     "text": [
      "+------------------+\n",
      "|year(IncidentDate)|\n",
      "+------------------+\n",
      "|              2000|\n",
      "|              2001|\n",
      "|              2002|\n",
      "|              2003|\n",
      "|              2004|\n",
      "|              2005|\n",
      "|              2006|\n",
      "|              2007|\n",
      "|              2008|\n",
      "|              2009|\n",
      "|              2010|\n",
      "|              2011|\n",
      "|              2012|\n",
      "|              2013|\n",
      "|              2014|\n",
      "|              2015|\n",
      "|              2016|\n",
      "|              2017|\n",
      "|              2018|\n",
      "+------------------+\n",
      "\n"
     ]
    }
   ],
   "source": [
    "(fire_ts_df\n",
    "  .select(year('IncidentDate'))\n",
    " .distinct()\n",
    " .orderBy(year('IncidentDate'))\n",
    " .show())"
   ]
  },
  {
   "cell_type": "markdown",
   "id": "7806e8dc-a6ec-42a6-94b9-e8a4fde1363b",
   "metadata": {},
   "source": [
    "# Aggregations"
   ]
  },
  {
   "cell_type": "code",
   "execution_count": 35,
   "id": "db97b821-7986-44f1-85a0-f2c079cabf74",
   "metadata": {},
   "outputs": [
    {
     "name": "stdout",
     "output_type": "stream",
     "text": [
      "+-------------------------------+------+\n",
      "|callType                       |count |\n",
      "+-------------------------------+------+\n",
      "|Medical Incident               |113794|\n",
      "|Structure Fire                 |23319 |\n",
      "|Alarms                         |19406 |\n",
      "|Traffic Collision              |7013  |\n",
      "|Citizen Assist / Service Call  |2524  |\n",
      "|Other                          |2166  |\n",
      "|Outside Fire                   |2094  |\n",
      "|Vehicle Fire                   |854   |\n",
      "|Gas Leak (Natural and LP Gases)|764   |\n",
      "|Water Rescue                   |755   |\n",
      "+-------------------------------+------+\n",
      "only showing top 10 rows\n",
      "\n"
     ]
    }
   ],
   "source": [
    "(fire_ts_df\n",
    " .select(\"callType\")\n",
    " .where(col(\"CallType\").isNotNull())\n",
    " .groupBy(\"callType\")\n",
    " .count()\n",
    " .orderBy(\"count\", ascending=False)\n",
    " .show(n=10, truncate=False))"
   ]
  },
  {
   "cell_type": "code",
   "execution_count": 15,
   "id": "0acad350-cf63-420e-b4af-d52d7bdde83e",
   "metadata": {},
   "outputs": [],
   "source": [
    "import pyspark.sql.functions as F"
   ]
  },
  {
   "cell_type": "code",
   "execution_count": 16,
   "id": "4f76f7e8-4411-497d-b881-2970e9b8295f",
   "metadata": {},
   "outputs": [
    {
     "name": "stdout",
     "output_type": "stream",
     "text": [
      "+--------------+--------------------------+--------------------------+--------------------------+\n",
      "|sum(NumAlarms)|avg(ResponseDelayedinMins)|min(ResponseDelayedinMins)|max(ResponseDelayedinMins)|\n",
      "+--------------+--------------------------+--------------------------+--------------------------+\n",
      "|        176170|         3.892364154521585|               0.016666668|                   1844.55|\n",
      "+--------------+--------------------------+--------------------------+--------------------------+\n",
      "\n"
     ]
    }
   ],
   "source": [
    "(fire_ts_df\n",
    " .select(F.sum(\"NumAlarms\"), F.avg(\"ResponseDelayedinMins\"),\n",
    "         F.min(\"ResponseDelayedinMins\"), F.max(\"ResponseDelayedinMins\"))\n",
    " .show())"
   ]
  },
  {
   "cell_type": "markdown",
   "id": "1440d055-aae0-47de-bf70-08e5e3bb3a82",
   "metadata": {},
   "source": [
    "Other common statistical methods include `stat()`, `describe()`, `correlation()`, \n",
    "`covariance()`, `sampleBy()`, `approxQuantile()`, `frequentItems()`, etc."
   ]
  },
  {
   "cell_type": "markdown",
   "id": "2baa84e7-e895-4f2e-ab2d-15f20b80d2c6",
   "metadata": {},
   "source": [
    "# Further Data Explorations\n",
    "\n",
    "* What were all the different types of fire calls in 2018?\n",
    "* What months within the year 2018 saw the highest number of fire calls?\n",
    "* Which neighborhood in San Francisco generated the most fire calls in 2018?\n",
    "* Which neighborhoods had the worst response times to fire calls in 2018?\n",
    "* Which week in 2018 had the most fire calls?\n",
    "* Is there a correlation between neighborhood, zip code, and number of fire calls?"
   ]
  },
  {
   "cell_type": "code",
   "execution_count": null,
   "id": "67e3d427-ba61-4ab4-9821-18ca31f8605a",
   "metadata": {},
   "outputs": [],
   "source": []
  }
 ],
 "metadata": {
  "kernelspec": {
   "display_name": "Python 3 (ipykernel)",
   "language": "python",
   "name": "python3"
  },
  "language_info": {
   "codemirror_mode": {
    "name": "ipython",
    "version": 3
   },
   "file_extension": ".py",
   "mimetype": "text/x-python",
   "name": "python",
   "nbconvert_exporter": "python",
   "pygments_lexer": "ipython3",
   "version": "3.10.8"
  }
 },
 "nbformat": 4,
 "nbformat_minor": 5
}
